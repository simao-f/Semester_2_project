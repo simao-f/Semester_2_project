{
 "cells": [
  {
   "cell_type": "code",
   "execution_count": 1,
   "metadata": {},
   "outputs": [
    {
     "name": "stdout",
     "output_type": "stream",
     "text": [
      "Requirement already satisfied: pandas in ./Keri.conda/lib/python3.11/site-packages (from -r requirements.txt (line 1)) (2.2.2)\n",
      "Requirement already satisfied: numpy in ./Keri.conda/lib/python3.11/site-packages (from -r requirements.txt (line 2)) (1.26.4)\n",
      "Requirement already satisfied: scikit-learn in ./Keri.conda/lib/python3.11/site-packages (from -r requirements.txt (line 3)) (1.4.2)\n",
      "Requirement already satisfied: requests in ./Keri.conda/lib/python3.11/site-packages (from -r requirements.txt (line 4)) (2.31.0)\n",
      "Requirement already satisfied: python-dotenv in ./Keri.conda/lib/python3.11/site-packages (from -r requirements.txt (line 5)) (1.0.1)\n",
      "Requirement already satisfied: seaborn in ./Keri.conda/lib/python3.11/site-packages (from -r requirements.txt (line 6)) (0.13.2)\n",
      "Requirement already satisfied: matplotlib in ./Keri.conda/lib/python3.11/site-packages (from -r requirements.txt (line 7)) (3.8.4)\n",
      "Requirement already satisfied: yfinance in ./Keri.conda/lib/python3.11/site-packages (from -r requirements.txt (line 8)) (0.2.38)\n",
      "Requirement already satisfied: ta in ./Keri.conda/lib/python3.11/site-packages (from -r requirements.txt (line 9)) (0.11.0)\n",
      "Requirement already satisfied: features in ./Keri.conda/lib/python3.11/site-packages (from -r requirements.txt (line 10)) (0.5.12)\n",
      "Requirement already satisfied: python-dateutil>=2.8.2 in ./Keri.conda/lib/python3.11/site-packages (from pandas->-r requirements.txt (line 1)) (2.9.0)\n",
      "Requirement already satisfied: pytz>=2020.1 in ./Keri.conda/lib/python3.11/site-packages (from pandas->-r requirements.txt (line 1)) (2024.1)\n",
      "Requirement already satisfied: tzdata>=2022.7 in ./Keri.conda/lib/python3.11/site-packages (from pandas->-r requirements.txt (line 1)) (2024.1)\n",
      "Requirement already satisfied: scipy>=1.6.0 in ./Keri.conda/lib/python3.11/site-packages (from scikit-learn->-r requirements.txt (line 3)) (1.13.0)\n",
      "Requirement already satisfied: joblib>=1.2.0 in ./Keri.conda/lib/python3.11/site-packages (from scikit-learn->-r requirements.txt (line 3)) (1.4.0)\n",
      "Requirement already satisfied: threadpoolctl>=2.0.0 in ./Keri.conda/lib/python3.11/site-packages (from scikit-learn->-r requirements.txt (line 3)) (3.5.0)\n",
      "Requirement already satisfied: charset-normalizer<4,>=2 in ./Keri.conda/lib/python3.11/site-packages (from requests->-r requirements.txt (line 4)) (3.3.2)\n",
      "Requirement already satisfied: idna<4,>=2.5 in ./Keri.conda/lib/python3.11/site-packages (from requests->-r requirements.txt (line 4)) (3.7)\n",
      "Requirement already satisfied: urllib3<3,>=1.21.1 in ./Keri.conda/lib/python3.11/site-packages (from requests->-r requirements.txt (line 4)) (2.2.1)\n",
      "Requirement already satisfied: certifi>=2017.4.17 in ./Keri.conda/lib/python3.11/site-packages (from requests->-r requirements.txt (line 4)) (2024.2.2)\n",
      "Requirement already satisfied: contourpy>=1.0.1 in ./Keri.conda/lib/python3.11/site-packages (from matplotlib->-r requirements.txt (line 7)) (1.2.1)\n",
      "Requirement already satisfied: cycler>=0.10 in ./Keri.conda/lib/python3.11/site-packages (from matplotlib->-r requirements.txt (line 7)) (0.12.1)\n",
      "Requirement already satisfied: fonttools>=4.22.0 in ./Keri.conda/lib/python3.11/site-packages (from matplotlib->-r requirements.txt (line 7)) (4.51.0)\n",
      "Requirement already satisfied: kiwisolver>=1.3.1 in ./Keri.conda/lib/python3.11/site-packages (from matplotlib->-r requirements.txt (line 7)) (1.4.5)\n",
      "Requirement already satisfied: packaging>=20.0 in ./Keri.conda/lib/python3.11/site-packages (from matplotlib->-r requirements.txt (line 7)) (24.0)\n",
      "Requirement already satisfied: pillow>=8 in ./Keri.conda/lib/python3.11/site-packages (from matplotlib->-r requirements.txt (line 7)) (10.3.0)\n",
      "Requirement already satisfied: pyparsing>=2.3.1 in ./Keri.conda/lib/python3.11/site-packages (from matplotlib->-r requirements.txt (line 7)) (3.1.2)\n",
      "Requirement already satisfied: multitasking>=0.0.7 in ./Keri.conda/lib/python3.11/site-packages (from yfinance->-r requirements.txt (line 8)) (0.0.11)\n",
      "Requirement already satisfied: lxml>=4.9.1 in ./Keri.conda/lib/python3.11/site-packages (from yfinance->-r requirements.txt (line 8)) (5.2.1)\n",
      "Requirement already satisfied: appdirs>=1.4.4 in ./Keri.conda/lib/python3.11/site-packages (from yfinance->-r requirements.txt (line 8)) (1.4.4)\n",
      "Requirement already satisfied: frozendict>=2.3.4 in ./Keri.conda/lib/python3.11/site-packages (from yfinance->-r requirements.txt (line 8)) (2.4.2)\n",
      "Requirement already satisfied: peewee>=3.16.2 in ./Keri.conda/lib/python3.11/site-packages (from yfinance->-r requirements.txt (line 8)) (3.17.3)\n",
      "Requirement already satisfied: beautifulsoup4>=4.11.1 in ./Keri.conda/lib/python3.11/site-packages (from yfinance->-r requirements.txt (line 8)) (4.12.3)\n",
      "Requirement already satisfied: html5lib>=1.1 in ./Keri.conda/lib/python3.11/site-packages (from yfinance->-r requirements.txt (line 8)) (1.1)\n",
      "Requirement already satisfied: concepts~=0.7 in ./Keri.conda/lib/python3.11/site-packages (from features->-r requirements.txt (line 10)) (0.9.2)\n",
      "Requirement already satisfied: fileconfig~=0.5 in ./Keri.conda/lib/python3.11/site-packages (from features->-r requirements.txt (line 10)) (0.6.1)\n",
      "Requirement already satisfied: graphviz~=0.7 in ./Keri.conda/lib/python3.11/site-packages (from features->-r requirements.txt (line 10)) (0.20.3)\n",
      "Requirement already satisfied: soupsieve>1.2 in ./Keri.conda/lib/python3.11/site-packages (from beautifulsoup4>=4.11.1->yfinance->-r requirements.txt (line 8)) (2.5)\n",
      "Requirement already satisfied: bitsets~=0.7 in ./Keri.conda/lib/python3.11/site-packages (from concepts~=0.7->features->-r requirements.txt (line 10)) (0.8.4)\n",
      "Requirement already satisfied: six>=1.9 in ./Keri.conda/lib/python3.11/site-packages (from html5lib>=1.1->yfinance->-r requirements.txt (line 8)) (1.16.0)\n",
      "Requirement already satisfied: webencodings in ./Keri.conda/lib/python3.11/site-packages (from html5lib>=1.1->yfinance->-r requirements.txt (line 8)) (0.5.1)\n",
      "Note: you may need to restart the kernel to use updated packages.\n"
     ]
    }
   ],
   "source": [
    "pip install -r requirements.txt"
   ]
  },
  {
   "cell_type": "code",
   "execution_count": 2,
   "metadata": {},
   "outputs": [],
   "source": [
    "import yfinance as yf\n",
    "import pandas as pd\n",
    "import numpy as np\n",
    "import joblib\n",
    "from sklearn.model_selection import cross_val_score\n",
    "from sklearn.pipeline import Pipeline\n",
    "from sklearn.compose import ColumnTransformer\n",
    "from sklearn.preprocessing import StandardScaler, OneHotEncoder\n",
    "from sklearn.impute import SimpleImputer\n",
    "from sklearn.linear_model import LinearRegression"
   ]
  },
  {
   "cell_type": "code",
   "execution_count": 3,
   "metadata": {},
   "outputs": [],
   "source": [
    "df = pd.read_csv('SXR8.DE_data.csv')"
   ]
  },
  {
   "cell_type": "code",
   "execution_count": 4,
   "metadata": {},
   "outputs": [
    {
     "name": "stdout",
     "output_type": "stream",
     "text": [
      "                        Date       Open       High        Low      Close  \\\n",
      "0  2010-05-19 00:00:00+02:00  92.669998  92.669998  92.669998  92.669998   \n",
      "1  2010-05-20 00:00:00+02:00  92.669998  92.669998  92.669998  92.669998   \n",
      "2  2010-05-21 00:00:00+02:00  92.669998  92.669998  92.669998  92.669998   \n",
      "3  2010-05-24 00:00:00+02:00  92.669998  92.669998  92.669998  92.669998   \n",
      "4  2010-05-25 00:00:00+02:00  92.669998  92.669998  92.669998  92.669998   \n",
      "\n",
      "   Volume  Dividends  Stock Splits  Capital Gains  \n",
      "0       0        0.0           0.0            0.0  \n",
      "1       0        0.0           0.0            0.0  \n",
      "2       0        0.0           0.0            0.0  \n",
      "3       0        0.0           0.0            0.0  \n",
      "4       0        0.0           0.0            0.0  \n"
     ]
    }
   ],
   "source": [
    "print(df.head())"
   ]
  },
  {
   "cell_type": "markdown",
   "metadata": {},
   "source": [
    "Features Pipeline\n",
    "\n",
    "Implement data cleaning, transformation, and feature engineering steps that are necessary for modeling"
   ]
  },
  {
   "cell_type": "code",
   "execution_count": 7,
   "metadata": {},
   "outputs": [],
   "source": [
    "# Assuming 'Date' is a column and 'Price' is the target; adjust column names as necessary\n",
    "numeric_features = df.select_dtypes(include=['int64', 'float64']).columns.tolist()\n",
    "numeric_features.remove('Close')  # Remove the target column from the feature list\n",
    "\n",
    "# Create pipelines for numeric preprocessing\n",
    "numeric_transformer = Pipeline(steps=[\n",
    "    ('imputer', SimpleImputer(strategy='median')),  # Fill missing values with median\n",
    "    ('scaler', StandardScaler())  # Scale features\n",
    "])\n",
    "\n",
    "# Combine into a single ColumnTransformer\n",
    "preprocessor = ColumnTransformer(\n",
    "    transformers=[\n",
    "        ('num', numeric_transformer, numeric_features),\n",
    "    ])\n",
    "\n",
    "# Full pipeline: preprocessing and modeling\n",
    "model_pipeline = Pipeline(steps=[\n",
    "    ('preprocessor', preprocessor),\n",
    "    ('regressor', LinearRegression())\n",
    "])"
   ]
  },
  {
   "cell_type": "markdown",
   "metadata": {},
   "source": [
    "Training Pipeline\n",
    "\n",
    "Train and evaluate models using cross-validation, including hyperparameter tuning. Choose a model based on insights from your EDA."
   ]
  },
  {
   "cell_type": "code",
   "execution_count": 8,
   "metadata": {},
   "outputs": [
    {
     "name": "stdout",
     "output_type": "stream",
     "text": [
      "Cross-validated MSE scores: [-0.00845732 -0.39770383 -0.28062101 -1.16529837 -1.54439989]\n",
      "Average MSE: -0.6792960838775578\n"
     ]
    },
    {
     "data": {
      "text/plain": [
       "['linear_regression_model.pkl']"
      ]
     },
     "execution_count": 8,
     "metadata": {},
     "output_type": "execute_result"
    }
   ],
   "source": [
    "# Prepare features and target variable\n",
    "X = df[numeric_features]\n",
    "y = df['Close']\n",
    "\n",
    "# Perform cross-validation\n",
    "scores = cross_val_score(model_pipeline, X, y, cv=5, scoring='neg_mean_squared_error')\n",
    "print(f\"Cross-validated MSE scores: {scores}\")\n",
    "print(f\"Average MSE: {np.mean(scores)}\")\n",
    "\n",
    "# Fit the model (optional here, could fit on a specific train split instead)\n",
    "model_pipeline.fit(X, y)\n",
    "\n",
    "# Save the trained model\n",
    "joblib.dump(model_pipeline, 'linear_regression_model.pkl')"
   ]
  },
  {
   "cell_type": "markdown",
   "metadata": {},
   "source": [
    "Inference Pipeline\n",
    "\n",
    "Ensure that the model can receive new data, preprocess it it the same way as the trainning data, and output predictions\n"
   ]
  },
  {
   "cell_type": "markdown",
   "metadata": {},
   "source": [
    "Chat GPT code"
   ]
  },
  {
   "cell_type": "code",
   "execution_count": 10,
   "metadata": {},
   "outputs": [],
   "source": [
    "import pandas as pd\n",
    "import numpy as np\n",
    "from sklearn.pipeline import Pipeline\n",
    "from sklearn.compose import ColumnTransformer\n",
    "from sklearn.preprocessing import StandardScaler\n",
    "from sklearn.impute import SimpleImputer\n",
    "from sklearn.linear_model import LinearRegression\n",
    "from sklearn.model_selection import cross_val_score\n",
    "import joblib\n"
   ]
  },
  {
   "cell_type": "code",
   "execution_count": 12,
   "metadata": {},
   "outputs": [
    {
     "name": "stdout",
     "output_type": "stream",
     "text": [
      "                        Date       Open       High        Low      Close  \\\n",
      "0  2010-05-19 00:00:00+02:00  92.669998  92.669998  92.669998  92.669998   \n",
      "1  2010-05-20 00:00:00+02:00  92.669998  92.669998  92.669998  92.669998   \n",
      "2  2010-05-21 00:00:00+02:00  92.669998  92.669998  92.669998  92.669998   \n",
      "3  2010-05-24 00:00:00+02:00  92.669998  92.669998  92.669998  92.669998   \n",
      "4  2010-05-25 00:00:00+02:00  92.669998  92.669998  92.669998  92.669998   \n",
      "\n",
      "   Volume  Dividends  Stock Splits  Capital Gains  \n",
      "0       0        0.0           0.0            0.0  \n",
      "1       0        0.0           0.0            0.0  \n",
      "2       0        0.0           0.0            0.0  \n",
      "3       0        0.0           0.0            0.0  \n",
      "4       0        0.0           0.0            0.0  \n",
      "Cross-validated MSE scores: [-4.66273237e-27 -1.76768931e-27 -1.78648845e-27 -3.65387020e-27\n",
      " -4.84480173e-25]\n",
      "Average MSE: -9.927019073063398e-26\n"
     ]
    },
    {
     "data": {
      "text/plain": [
       "['linear_regression_model.pkl']"
      ]
     },
     "execution_count": 12,
     "metadata": {},
     "output_type": "execute_result"
    }
   ],
   "source": [
    "# Load dataset\n",
    "df = pd.read_csv('SXR8.DE_data.csv')\n",
    "\n",
    "# Assuming 'Price' is the target variable\n",
    "numeric_features = [col for col in df.columns if df[col].dtype in ['int64', 'float64'] and col != 'Price']\n",
    "\n",
    "# Create pipelines for numeric preprocessing\n",
    "numeric_transformer = Pipeline(steps=[\n",
    "    ('imputer', SimpleImputer(strategy='median')),  # Fill missing values with median\n",
    "    ('scaler', StandardScaler())  # Scale features\n",
    "])\n",
    "\n",
    "# Combine into a single ColumnTransformer\n",
    "preprocessor = ColumnTransformer(\n",
    "    transformers=[\n",
    "        ('num', numeric_transformer, numeric_features),\n",
    "    ])\n",
    "\n",
    "# Full pipeline: preprocessing and modeling\n",
    "model_pipeline = Pipeline(steps=[\n",
    "    ('preprocessor', preprocessor),\n",
    "    ('regressor', LinearRegression())\n",
    "])\n",
    "\n",
    "# Prepare features and target variable\n",
    "X = df[numeric_features]\n",
    "y = df['Close']\n",
    "\n",
    "# Perform cross-validation\n",
    "scores = cross_val_score(model_pipeline, X, y, cv=5, scoring='neg_mean_squared_error')\n",
    "print(f\"Cross-validated MSE scores: {scores}\")\n",
    "print(f\"Average MSE: {np.mean(scores)}\")\n",
    "\n",
    "# Fit the model\n",
    "model_pipeline.fit(X, y)\n",
    "\n",
    "# Save the trained model\n",
    "joblib.dump(model_pipeline, 'linear_regression_model.pkl')"
   ]
  }
 ],
 "metadata": {
  "kernelspec": {
   "display_name": "Python 3",
   "language": "python",
   "name": "python3"
  },
  "language_info": {
   "codemirror_mode": {
    "name": "ipython",
    "version": 3
   },
   "file_extension": ".py",
   "mimetype": "text/x-python",
   "name": "python",
   "nbconvert_exporter": "python",
   "pygments_lexer": "ipython3",
   "version": "3.11.9"
  }
 },
 "nbformat": 4,
 "nbformat_minor": 2
}
