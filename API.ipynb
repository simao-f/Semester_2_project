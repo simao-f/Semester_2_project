{
 "cells": [
  {
   "cell_type": "markdown",
   "metadata": {},
   "source": [
    "Code From Class \n",
    "https://github.com/saoter/SDS24_MLOps_L1/\n",
    "https://www.alphavantage.co/"
   ]
  },
  {
   "cell_type": "code",
   "execution_count": 1,
   "metadata": {},
   "outputs": [
    {
     "name": "stdout",
     "output_type": "stream",
     "text": [
      "Requirement already satisfied: pandas in ./Keri.conda/lib/python3.11/site-packages (from -r requirements.txt (line 1)) (2.2.2)\n",
      "Requirement already satisfied: numpy in ./Keri.conda/lib/python3.11/site-packages (from -r requirements.txt (line 2)) (1.26.4)\n",
      "Collecting scikit-learn (from -r requirements.txt (line 3))\n",
      "  Downloading scikit_learn-1.4.2-cp311-cp311-macosx_12_0_arm64.whl.metadata (11 kB)\n",
      "Requirement already satisfied: requests in ./Keri.conda/lib/python3.11/site-packages (from -r requirements.txt (line 4)) (2.31.0)\n",
      "Requirement already satisfied: python-dotenv in ./Keri.conda/lib/python3.11/site-packages (from -r requirements.txt (line 5)) (1.0.1)\n",
      "Requirement already satisfied: seaborn in ./Keri.conda/lib/python3.11/site-packages (from -r requirements.txt (line 6)) (0.13.2)\n",
      "Requirement already satisfied: matplotlib in ./Keri.conda/lib/python3.11/site-packages (from -r requirements.txt (line 7)) (3.8.4)\n",
      "Requirement already satisfied: yfinance in ./Keri.conda/lib/python3.11/site-packages (from -r requirements.txt (line 8)) (0.2.38)\n",
      "Requirement already satisfied: ta in ./Keri.conda/lib/python3.11/site-packages (from -r requirements.txt (line 9)) (0.11.0)\n",
      "Requirement already satisfied: python-dateutil>=2.8.2 in ./Keri.conda/lib/python3.11/site-packages (from pandas->-r requirements.txt (line 1)) (2.9.0)\n",
      "Requirement already satisfied: pytz>=2020.1 in ./Keri.conda/lib/python3.11/site-packages (from pandas->-r requirements.txt (line 1)) (2024.1)\n",
      "Requirement already satisfied: tzdata>=2022.7 in ./Keri.conda/lib/python3.11/site-packages (from pandas->-r requirements.txt (line 1)) (2024.1)\n",
      "Collecting scipy>=1.6.0 (from scikit-learn->-r requirements.txt (line 3))\n",
      "  Downloading scipy-1.13.0-cp311-cp311-macosx_12_0_arm64.whl.metadata (60 kB)\n",
      "\u001b[2K     \u001b[90m━━━━━━━━━━━━━━━━━━━━━━━━━━━━━━━━━━━━━━━━\u001b[0m \u001b[32m60.6/60.6 kB\u001b[0m \u001b[31m3.4 MB/s\u001b[0m eta \u001b[36m0:00:00\u001b[0m\n",
      "\u001b[?25hCollecting joblib>=1.2.0 (from scikit-learn->-r requirements.txt (line 3))\n",
      "  Downloading joblib-1.4.0-py3-none-any.whl.metadata (5.4 kB)\n",
      "Collecting threadpoolctl>=2.0.0 (from scikit-learn->-r requirements.txt (line 3))\n",
      "  Downloading threadpoolctl-3.5.0-py3-none-any.whl.metadata (13 kB)\n",
      "Requirement already satisfied: charset-normalizer<4,>=2 in ./Keri.conda/lib/python3.11/site-packages (from requests->-r requirements.txt (line 4)) (3.3.2)\n",
      "Requirement already satisfied: idna<4,>=2.5 in ./Keri.conda/lib/python3.11/site-packages (from requests->-r requirements.txt (line 4)) (3.7)\n",
      "Requirement already satisfied: urllib3<3,>=1.21.1 in ./Keri.conda/lib/python3.11/site-packages (from requests->-r requirements.txt (line 4)) (2.2.1)\n",
      "Requirement already satisfied: certifi>=2017.4.17 in ./Keri.conda/lib/python3.11/site-packages (from requests->-r requirements.txt (line 4)) (2024.2.2)\n",
      "Requirement already satisfied: contourpy>=1.0.1 in ./Keri.conda/lib/python3.11/site-packages (from matplotlib->-r requirements.txt (line 7)) (1.2.1)\n",
      "Requirement already satisfied: cycler>=0.10 in ./Keri.conda/lib/python3.11/site-packages (from matplotlib->-r requirements.txt (line 7)) (0.12.1)\n",
      "Requirement already satisfied: fonttools>=4.22.0 in ./Keri.conda/lib/python3.11/site-packages (from matplotlib->-r requirements.txt (line 7)) (4.51.0)\n",
      "Requirement already satisfied: kiwisolver>=1.3.1 in ./Keri.conda/lib/python3.11/site-packages (from matplotlib->-r requirements.txt (line 7)) (1.4.5)\n",
      "Requirement already satisfied: packaging>=20.0 in ./Keri.conda/lib/python3.11/site-packages (from matplotlib->-r requirements.txt (line 7)) (24.0)\n",
      "Requirement already satisfied: pillow>=8 in ./Keri.conda/lib/python3.11/site-packages (from matplotlib->-r requirements.txt (line 7)) (10.3.0)\n",
      "Requirement already satisfied: pyparsing>=2.3.1 in ./Keri.conda/lib/python3.11/site-packages (from matplotlib->-r requirements.txt (line 7)) (3.1.2)\n",
      "Requirement already satisfied: multitasking>=0.0.7 in ./Keri.conda/lib/python3.11/site-packages (from yfinance->-r requirements.txt (line 8)) (0.0.11)\n",
      "Requirement already satisfied: lxml>=4.9.1 in ./Keri.conda/lib/python3.11/site-packages (from yfinance->-r requirements.txt (line 8)) (5.2.1)\n",
      "Requirement already satisfied: appdirs>=1.4.4 in ./Keri.conda/lib/python3.11/site-packages (from yfinance->-r requirements.txt (line 8)) (1.4.4)\n",
      "Requirement already satisfied: frozendict>=2.3.4 in ./Keri.conda/lib/python3.11/site-packages (from yfinance->-r requirements.txt (line 8)) (2.4.2)\n",
      "Requirement already satisfied: peewee>=3.16.2 in ./Keri.conda/lib/python3.11/site-packages (from yfinance->-r requirements.txt (line 8)) (3.17.3)\n",
      "Requirement already satisfied: beautifulsoup4>=4.11.1 in ./Keri.conda/lib/python3.11/site-packages (from yfinance->-r requirements.txt (line 8)) (4.12.3)\n",
      "Requirement already satisfied: html5lib>=1.1 in ./Keri.conda/lib/python3.11/site-packages (from yfinance->-r requirements.txt (line 8)) (1.1)\n",
      "Requirement already satisfied: soupsieve>1.2 in ./Keri.conda/lib/python3.11/site-packages (from beautifulsoup4>=4.11.1->yfinance->-r requirements.txt (line 8)) (2.5)\n",
      "Requirement already satisfied: six>=1.9 in ./Keri.conda/lib/python3.11/site-packages (from html5lib>=1.1->yfinance->-r requirements.txt (line 8)) (1.16.0)\n",
      "Requirement already satisfied: webencodings in ./Keri.conda/lib/python3.11/site-packages (from html5lib>=1.1->yfinance->-r requirements.txt (line 8)) (0.5.1)\n",
      "Downloading scikit_learn-1.4.2-cp311-cp311-macosx_12_0_arm64.whl (10.5 MB)\n",
      "\u001b[2K   \u001b[90m━━━━━━━━━━━━━━━━━━━━━━━━━━━━━━━━━━━━━━━━\u001b[0m \u001b[32m10.5/10.5 MB\u001b[0m \u001b[31m4.1 MB/s\u001b[0m eta \u001b[36m0:00:00\u001b[0m00:01\u001b[0m00:01\u001b[0m\n",
      "\u001b[?25hDownloading joblib-1.4.0-py3-none-any.whl (301 kB)\n",
      "\u001b[2K   \u001b[90m━━━━━━━━━━━━━━━━━━━━━━━━━━━━━━━━━━━━━━━━\u001b[0m \u001b[32m301.2/301.2 kB\u001b[0m \u001b[31m2.6 MB/s\u001b[0m eta \u001b[36m0:00:00\u001b[0m00:01\u001b[0m00:01\u001b[0m\n",
      "\u001b[?25hDownloading scipy-1.13.0-cp311-cp311-macosx_12_0_arm64.whl (30.3 MB)\n",
      "\u001b[2K   \u001b[90m━━━━━━━━━━━━━━━━━━━━━━━━━━━━━━━━━━━━━━━━\u001b[0m \u001b[32m30.3/30.3 MB\u001b[0m \u001b[31m2.6 MB/s\u001b[0m eta \u001b[36m0:00:00\u001b[0m00:01\u001b[0m00:01\u001b[0m\n",
      "\u001b[?25hDownloading threadpoolctl-3.5.0-py3-none-any.whl (18 kB)\n",
      "Installing collected packages: threadpoolctl, scipy, joblib, scikit-learn\n",
      "Successfully installed joblib-1.4.0 scikit-learn-1.4.2 scipy-1.13.0 threadpoolctl-3.5.0\n",
      "Note: you may need to restart the kernel to use updated packages.\n"
     ]
    }
   ],
   "source": [
    "pip install -r requirements.txt"
   ]
  },
  {
   "cell_type": "code",
   "execution_count": 2,
   "metadata": {},
   "outputs": [],
   "source": [
    "import os\n",
    "from dotenv import load_dotenv\n",
    "import pandas as pd\n",
    "import json\n",
    "import requests"
   ]
  },
  {
   "cell_type": "code",
   "execution_count": 3,
   "metadata": {},
   "outputs": [
    {
     "name": "stdout",
     "output_type": "stream",
     "text": [
      "             1. open   2. high    3. low  4. close 5. volume   Symbol\n",
      "2024-04-30  502.5600  502.9800  500.0800  500.5800     30262  SXR8.DE\n",
      "2024-04-29  502.2200  504.2600  501.4000  501.6800     22420  SXR8.DE\n",
      "2024-04-26  499.2400  503.2600  497.7800  502.2200     21762  SXR8.DE\n",
      "2024-04-25  495.2000  495.4700  490.9000  492.0200     19831  SXR8.DE\n",
      "2024-04-24  500.5800  501.0000  497.8300  498.6900     88591  SXR8.DE\n",
      "...              ...       ...       ...       ...       ...      ...\n",
      "2023-12-12  449.7800  450.1000  448.3400  449.7500     25617  SXR8.DE\n",
      "2023-12-11  448.3500  450.0800  447.3000  448.9400     33143  SXR8.DE\n",
      "2023-12-08  445.0300  448.1000  444.4300  447.3700     25763  SXR8.DE\n",
      "2023-12-07  442.5000  445.3400  441.9200  444.7800     18859  SXR8.DE\n",
      "2023-12-06  444.9100  445.7900  443.7400  443.7400     28593  SXR8.DE\n",
      "\n",
      "[100 rows x 6 columns]\n"
     ]
    }
   ],
   "source": [
    "#from functions import print_json_structure\n",
    "load_dotenv()\n",
    "\n",
    "api_key = os.getenv('132CAO32S6JVJHDZ')\n",
    "\n",
    "\n",
    "url = (\n",
    "    f'https://www.alphavantage.co/query?'\n",
    "    f'function=TIME_SERIES_DAILY&'\n",
    "    f'symbol=SXR8.DE&'\n",
    "    f'apikey={api_key}'\n",
    ")\n",
    "\n",
    "response = requests.get(url)\n",
    "\n",
    "data = response.json()\n",
    "\n",
    "\n",
    "# Inspect Json structure\n",
    "#print_json_structure(data)\n",
    "\n",
    "\n",
    "# Convert the list of articles into a DataFrame\n",
    "finance = data['Time Series (Daily)']\n",
    "symbol = data['Meta Data']['2. Symbol']\n",
    "\n",
    "df = pd.DataFrame(finance)\n",
    "\n",
    "# Transpose the DataFrame\n",
    "df_transposed = df.transpose()\n",
    "df_transposed['Symbol'] = symbol\n",
    "\n",
    "# Now, each column is an attribute (open, high, low, close, volume) and each row is a date.\n",
    "print(df_transposed)"
   ]
  }
 ],
 "metadata": {
  "kernelspec": {
   "display_name": "base",
   "language": "python",
   "name": "python3"
  },
  "language_info": {
   "codemirror_mode": {
    "name": "ipython",
    "version": 3
   },
   "file_extension": ".py",
   "mimetype": "text/x-python",
   "name": "python",
   "nbconvert_exporter": "python",
   "pygments_lexer": "ipython3",
   "version": "3.11.9"
  }
 },
 "nbformat": 4,
 "nbformat_minor": 2
}
