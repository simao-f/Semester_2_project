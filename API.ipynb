{
 "cells": [
  {
   "cell_type": "markdown",
   "metadata": {},
   "source": [
    "Code From Class \n",
    "https://github.com/saoter/SDS24_MLOps_L1/\n",
    "https://www.alphavantage.co/"
   ]
  },
  {
   "cell_type": "code",
   "execution_count": 1,
   "metadata": {
    "metadata": {}
   },
   "outputs": [
    {
     "name": "stdout",
     "output_type": "stream",
     "text": [
      "Note: you may need to restart the kernel to use updated packages.\n"
     ]
    }
   ],
   "source": [
    "pip install -r requirements.txt --quiet"
   ]
  },
  {
   "cell_type": "code",
   "execution_count": 2,
   "metadata": {},
   "outputs": [],
   "source": [
    "import os\n",
    "from dotenv import load_dotenv\n",
    "import pandas as pd\n",
    "import json\n",
    "import requests"
   ]
  },
  {
   "cell_type": "code",
   "execution_count": 3,
   "metadata": {},
   "outputs": [
    {
     "name": "stdout",
     "output_type": "stream",
     "text": [
      "             1. open   2. high    3. low  4. close 5. volume   Symbol\n",
      "2024-04-30  502.5600  502.9800  500.0800  500.5800     30262  SXR8.DE\n",
      "2024-04-29  502.2200  504.2600  501.4000  501.6800     22420  SXR8.DE\n",
      "2024-04-26  499.2400  503.2600  497.7800  502.2200     21762  SXR8.DE\n",
      "2024-04-25  495.2000  495.4700  490.9000  492.0200     19831  SXR8.DE\n",
      "2024-04-24  500.5800  501.0000  497.8300  498.6900     88591  SXR8.DE\n",
      "...              ...       ...       ...       ...       ...      ...\n",
      "2023-12-12  449.7800  450.1000  448.3400  449.7500     25617  SXR8.DE\n",
      "2023-12-11  448.3500  450.0800  447.3000  448.9400     33143  SXR8.DE\n",
      "2023-12-08  445.0300  448.1000  444.4300  447.3700     25763  SXR8.DE\n",
      "2023-12-07  442.5000  445.3400  441.9200  444.7800     18859  SXR8.DE\n",
      "2023-12-06  444.9100  445.7900  443.7400  443.7400     28593  SXR8.DE\n",
      "\n",
      "[100 rows x 6 columns]\n"
     ]
    }
   ],
   "source": [
    "#from functions import print_json_structure\n",
    "load_dotenv()\n",
    "\n",
    "\n",
    "url = (\n",
    "    f'https://www.alphavantage.co/query?'\n",
    "    f'function=TIME_SERIES_DAILY&'\n",
    "    f'symbol=SXR8.DE&'\n",
    "    f'apikey={api_key}'\n",
    ")\n",
    "\n",
    "response = requests.get(url)\n",
    "\n",
    "data = response.json()\n",
    "\n",
    "# Inspect Json structure\n",
    "#print_json_structure(data)\n",
    "\n",
    "# Convert the list of articles into a DataFrame\n",
    "finance = data['Time Series (Daily)']\n",
    "symbol = data['Meta Data']['2. Symbol']\n",
    "\n",
    "df = pd.DataFrame(finance)\n",
    "\n",
    "# Transpose the DataFrame\n",
    "df_transposed = df.transpose()\n",
    "df_transposed['Symbol'] = symbol\n",
    "\n",
    "# Now, each column is an attribute (open, high, low, close, volume) and each row is a date.\n",
    "print(df_transposed)"
   ]
  }
 ],
 "metadata": {
  "kernelspec": {
   "display_name": "base",
   "language": "python",
   "name": "python3"
  },
  "language_info": {
   "codemirror_mode": {
    "name": "ipython",
    "version": 3
   },
   "file_extension": ".py",
   "mimetype": "text/x-python",
   "name": "python",
   "nbconvert_exporter": "python",
   "pygments_lexer": "ipython3",
   "version": "3.11.9"
  }
 },
 "nbformat": 4,
 "nbformat_minor": 2
}
