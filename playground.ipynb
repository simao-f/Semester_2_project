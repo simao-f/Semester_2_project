{
 "cells": [
  {
   "cell_type": "code",
   "execution_count": 2,
   "metadata": {
    "metadata": {}
   },
   "outputs": [
    {
     "name": "stderr",
     "output_type": "stream",
     "text": [
      "/Users/simao/Desktop/Semester_Project/Keri.conda/lib/python3.11/site-packages/tqdm/auto.py:21: TqdmWarning: IProgress not found. Please update jupyter and ipywidgets. See https://ipywidgets.readthedocs.io/en/stable/user_install.html\n",
      "  from .autonotebook import tqdm as notebook_tqdm\n"
     ]
    }
   ],
   "source": [
    "import training as tr"
   ]
  },
  {
   "cell_type": "code",
   "execution_count": 3,
   "metadata": {
    "metadata": {}
   },
   "outputs": [
    {
     "name": "stdout",
     "output_type": "stream",
     "text": [
      "Training model for AAPL\n"
     ]
    },
    {
     "ename": "TypeError",
     "evalue": "train_model() missing 1 required positional argument: 'project'",
     "output_type": "error",
     "traceback": [
      "\u001b[0;31m---------------------------------------------------------------------------\u001b[0m",
      "\u001b[0;31mTypeError\u001b[0m                                 Traceback (most recent call last)",
      "Cell \u001b[0;32mIn[3], line 5\u001b[0m\n\u001b[1;32m      3\u001b[0m \u001b[38;5;28;01mfor\u001b[39;00m stocksymbol \u001b[38;5;129;01min\u001b[39;00m stocksymbols:\n\u001b[1;32m      4\u001b[0m     \u001b[38;5;28mprint\u001b[39m(\u001b[38;5;124mf\u001b[39m\u001b[38;5;124m\"\u001b[39m\u001b[38;5;124mTraining model for \u001b[39m\u001b[38;5;132;01m{\u001b[39;00mstocksymbol\u001b[38;5;132;01m}\u001b[39;00m\u001b[38;5;124m\"\u001b[39m)\n\u001b[0;32m----> 5\u001b[0m     dfs\u001b[38;5;241m.\u001b[39mappend(\u001b[43mtr\u001b[49m\u001b[38;5;241;43m.\u001b[39;49m\u001b[43mtrain_model\u001b[49m\u001b[43m(\u001b[49m\u001b[43mstocksymbol\u001b[49m\u001b[43m)\u001b[49m)\n",
      "\u001b[0;31mTypeError\u001b[0m: train_model() missing 1 required positional argument: 'project'"
     ]
    }
   ],
   "source": [
    "stocksymbols = ['AAPL', 'GOOG', 'TSLA', 'AMZN', 'MSFT', 'META', 'NVDA']\n",
    "dfs = []\n",
    "for stocksymbol in stocksymbols:\n",
    "    print(f\"Training model for {stocksymbol}\")\n",
    "    dfs.append(tr.train_model(stocksymbol))"
   ]
  },
  {
   "cell_type": "code",
   "execution_count": null,
   "metadata": {
    "metadata": {}
   },
   "outputs": [
    {
     "data": {
      "text/plain": [
       "1262581200000000000"
      ]
     },
     "execution_count": 3,
     "metadata": {},
     "output_type": "execute_result"
    }
   ],
   "source": [
    "import numpy as np\n",
    "np.int64(dfs[0]['date'][0].to_datetime64())\n",
    "\n"
   ]
  },
  {
   "cell_type": "code",
   "execution_count": null,
   "metadata": {
    "metadata": {}
   },
   "outputs": [
    {
     "data": {
      "text/html": [
       "<div>\n",
       "<style scoped>\n",
       "    .dataframe tbody tr th:only-of-type {\n",
       "        vertical-align: middle;\n",
       "    }\n",
       "\n",
       "    .dataframe tbody tr th {\n",
       "        vertical-align: top;\n",
       "    }\n",
       "\n",
       "    .dataframe thead th {\n",
       "        text-align: right;\n",
       "    }\n",
       "</style>\n",
       "<table border=\"1\" class=\"dataframe\">\n",
       "  <thead>\n",
       "    <tr style=\"text-align: right;\">\n",
       "      <th></th>\n",
       "      <th>date</th>\n",
       "      <th>open</th>\n",
       "      <th>high</th>\n",
       "      <th>low</th>\n",
       "      <th>close</th>\n",
       "      <th>volume</th>\n",
       "      <th>dividends</th>\n",
       "      <th>stock_splits</th>\n",
       "      <th>symbol</th>\n",
       "    </tr>\n",
       "  </thead>\n",
       "  <tbody>\n",
       "    <tr>\n",
       "      <th>0</th>\n",
       "      <td>2010-01-04 05:00:00+00:00</td>\n",
       "      <td>6.453203</td>\n",
       "      <td>6.485555</td>\n",
       "      <td>6.421456</td>\n",
       "      <td>6.470740</td>\n",
       "      <td>493729600</td>\n",
       "      <td>0.0</td>\n",
       "      <td>0.0</td>\n",
       "      <td>AAPL</td>\n",
       "    </tr>\n",
       "    <tr>\n",
       "      <th>1</th>\n",
       "      <td>2010-01-05 05:00:00+00:00</td>\n",
       "      <td>6.488582</td>\n",
       "      <td>6.518515</td>\n",
       "      <td>6.447763</td>\n",
       "      <td>6.481930</td>\n",
       "      <td>601904800</td>\n",
       "      <td>0.0</td>\n",
       "      <td>0.0</td>\n",
       "      <td>AAPL</td>\n",
       "    </tr>\n",
       "    <tr>\n",
       "      <th>2</th>\n",
       "      <td>2010-01-06 05:00:00+00:00</td>\n",
       "      <td>6.481929</td>\n",
       "      <td>6.507629</td>\n",
       "      <td>6.372173</td>\n",
       "      <td>6.378825</td>\n",
       "      <td>552160000</td>\n",
       "      <td>0.0</td>\n",
       "      <td>0.0</td>\n",
       "      <td>AAPL</td>\n",
       "    </tr>\n",
       "    <tr>\n",
       "      <th>3</th>\n",
       "      <td>2010-01-07 05:00:00+00:00</td>\n",
       "      <td>6.402407</td>\n",
       "      <td>6.409966</td>\n",
       "      <td>6.320771</td>\n",
       "      <td>6.367031</td>\n",
       "      <td>477131200</td>\n",
       "      <td>0.0</td>\n",
       "      <td>0.0</td>\n",
       "      <td>AAPL</td>\n",
       "    </tr>\n",
       "    <tr>\n",
       "      <th>4</th>\n",
       "      <td>2010-01-08 05:00:00+00:00</td>\n",
       "      <td>6.358565</td>\n",
       "      <td>6.409966</td>\n",
       "      <td>6.321074</td>\n",
       "      <td>6.409361</td>\n",
       "      <td>447610800</td>\n",
       "      <td>0.0</td>\n",
       "      <td>0.0</td>\n",
       "      <td>AAPL</td>\n",
       "    </tr>\n",
       "    <tr>\n",
       "      <th>...</th>\n",
       "      <td>...</td>\n",
       "      <td>...</td>\n",
       "      <td>...</td>\n",
       "      <td>...</td>\n",
       "      <td>...</td>\n",
       "      <td>...</td>\n",
       "      <td>...</td>\n",
       "      <td>...</td>\n",
       "      <td>...</td>\n",
       "    </tr>\n",
       "    <tr>\n",
       "      <th>3602</th>\n",
       "      <td>2024-04-26 04:00:00+00:00</td>\n",
       "      <td>169.880005</td>\n",
       "      <td>171.339996</td>\n",
       "      <td>169.179993</td>\n",
       "      <td>169.300003</td>\n",
       "      <td>44838400</td>\n",
       "      <td>0.0</td>\n",
       "      <td>0.0</td>\n",
       "      <td>AAPL</td>\n",
       "    </tr>\n",
       "    <tr>\n",
       "      <th>3603</th>\n",
       "      <td>2024-04-29 04:00:00+00:00</td>\n",
       "      <td>173.369995</td>\n",
       "      <td>176.029999</td>\n",
       "      <td>173.100006</td>\n",
       "      <td>173.500000</td>\n",
       "      <td>68169400</td>\n",
       "      <td>0.0</td>\n",
       "      <td>0.0</td>\n",
       "      <td>AAPL</td>\n",
       "    </tr>\n",
       "    <tr>\n",
       "      <th>3604</th>\n",
       "      <td>2024-04-30 04:00:00+00:00</td>\n",
       "      <td>173.330002</td>\n",
       "      <td>174.990005</td>\n",
       "      <td>170.000000</td>\n",
       "      <td>170.330002</td>\n",
       "      <td>65934800</td>\n",
       "      <td>0.0</td>\n",
       "      <td>0.0</td>\n",
       "      <td>AAPL</td>\n",
       "    </tr>\n",
       "    <tr>\n",
       "      <th>3605</th>\n",
       "      <td>2024-05-01 04:00:00+00:00</td>\n",
       "      <td>169.580002</td>\n",
       "      <td>172.710007</td>\n",
       "      <td>169.110001</td>\n",
       "      <td>169.300003</td>\n",
       "      <td>50383100</td>\n",
       "      <td>0.0</td>\n",
       "      <td>0.0</td>\n",
       "      <td>AAPL</td>\n",
       "    </tr>\n",
       "    <tr>\n",
       "      <th>3606</th>\n",
       "      <td>2024-05-02 04:00:00+00:00</td>\n",
       "      <td>172.509995</td>\n",
       "      <td>173.419998</td>\n",
       "      <td>170.889999</td>\n",
       "      <td>173.029999</td>\n",
       "      <td>92880600</td>\n",
       "      <td>0.0</td>\n",
       "      <td>0.0</td>\n",
       "      <td>AAPL</td>\n",
       "    </tr>\n",
       "  </tbody>\n",
       "</table>\n",
       "<p>3607 rows × 9 columns</p>\n",
       "</div>"
      ],
      "text/plain": [
       "                          date        open        high         low  \\\n",
       "0    2010-01-04 05:00:00+00:00    6.453203    6.485555    6.421456   \n",
       "1    2010-01-05 05:00:00+00:00    6.488582    6.518515    6.447763   \n",
       "2    2010-01-06 05:00:00+00:00    6.481929    6.507629    6.372173   \n",
       "3    2010-01-07 05:00:00+00:00    6.402407    6.409966    6.320771   \n",
       "4    2010-01-08 05:00:00+00:00    6.358565    6.409966    6.321074   \n",
       "...                        ...         ...         ...         ...   \n",
       "3602 2024-04-26 04:00:00+00:00  169.880005  171.339996  169.179993   \n",
       "3603 2024-04-29 04:00:00+00:00  173.369995  176.029999  173.100006   \n",
       "3604 2024-04-30 04:00:00+00:00  173.330002  174.990005  170.000000   \n",
       "3605 2024-05-01 04:00:00+00:00  169.580002  172.710007  169.110001   \n",
       "3606 2024-05-02 04:00:00+00:00  172.509995  173.419998  170.889999   \n",
       "\n",
       "           close     volume  dividends  stock_splits symbol  \n",
       "0       6.470740  493729600        0.0           0.0   AAPL  \n",
       "1       6.481930  601904800        0.0           0.0   AAPL  \n",
       "2       6.378825  552160000        0.0           0.0   AAPL  \n",
       "3       6.367031  477131200        0.0           0.0   AAPL  \n",
       "4       6.409361  447610800        0.0           0.0   AAPL  \n",
       "...          ...        ...        ...           ...    ...  \n",
       "3602  169.300003   44838400        0.0           0.0   AAPL  \n",
       "3603  173.500000   68169400        0.0           0.0   AAPL  \n",
       "3604  170.330002   65934800        0.0           0.0   AAPL  \n",
       "3605  169.300003   50383100        0.0           0.0   AAPL  \n",
       "3606  173.029999   92880600        0.0           0.0   AAPL  \n",
       "\n",
       "[3607 rows x 9 columns]"
      ]
     },
     "execution_count": 4,
     "metadata": {},
     "output_type": "execute_result"
    }
   ],
   "source": [
    "dfs[0]"
   ]
  },
  {
   "cell_type": "code",
   "execution_count": null,
   "metadata": {
    "metadata": {}
   },
   "outputs": [
    {
     "name": "stderr",
     "output_type": "stream",
     "text": [
      "/Users/simao/Desktop/Semester_Project/Keri.conda/lib/python3.11/site-packages/tqdm/auto.py:21: TqdmWarning: IProgress not found. Please update jupyter and ipywidgets. See https://ipywidgets.readthedocs.io/en/stable/user_install.html\n",
      "  from .autonotebook import tqdm as notebook_tqdm\n"
     ]
    },
    {
     "name": "stdout",
     "output_type": "stream",
     "text": [
      "Connected. Call `.close()` to terminate connection gracefully.\n",
      "\n",
      "Logged in to project, explore it here https://c.app.hopsworks.ai:443/p/547994\n",
      "Connected. Call `.close()` to terminate connection gracefully.\n"
     ]
    }
   ],
   "source": []
  },
  {
   "cell_type": "code",
   "execution_count": null,
   "metadata": {
    "metadata": {}
   },
   "outputs": [
    {
     "name": "stdout",
     "output_type": "stream",
     "text": [
      "{'Information': 'Thank you for using Alpha Vantage! Our standard API rate limit is 25 requests per day. Please subscribe to any of the premium plans at https://www.alphavantage.co/premium/ to instantly remove all daily rate limits.'}\n",
      "200\n"
     ]
    },
    {
     "ename": "KeyError",
     "evalue": "'Time Series (Daily)'",
     "output_type": "error",
     "traceback": [
      "\u001b[0;31m---------------------------------------------------------------------------\u001b[0m",
      "\u001b[0;31mKeyError\u001b[0m                                  Traceback (most recent call last)",
      "Cell \u001b[0;32mIn[1], line 9\u001b[0m\n\u001b[1;32m      6\u001b[0m dfs \u001b[38;5;241m=\u001b[39m []\n\u001b[1;32m      8\u001b[0m \u001b[38;5;28;01mfor\u001b[39;00m symbol \u001b[38;5;129;01min\u001b[39;00m stocksymbols:\n\u001b[0;32m----> 9\u001b[0m     dfs\u001b[38;5;241m.\u001b[39mappend(\u001b[43mdmt\u001b[49m\u001b[38;5;241;43m.\u001b[39;49m\u001b[43mget_stock_from_api\u001b[49m\u001b[43m(\u001b[49m\u001b[43msymbol\u001b[49m\u001b[43m)\u001b[49m)\n\u001b[1;32m     10\u001b[0m dfs\n",
      "File \u001b[0;32m~/Desktop/Semester_Project/dailymodeltraining.py:25\u001b[0m, in \u001b[0;36mget_stock_from_api\u001b[0;34m(stocksymbol)\u001b[0m\n\u001b[1;32m     23\u001b[0m \u001b[38;5;28mprint\u001b[39m(response\u001b[38;5;241m.\u001b[39mstatus_code)\n\u001b[1;32m     24\u001b[0m \u001b[38;5;66;03m# Convert the list of articles into a DataFrame\u001b[39;00m\n\u001b[0;32m---> 25\u001b[0m finance \u001b[38;5;241m=\u001b[39m \u001b[43mdata\u001b[49m\u001b[43m[\u001b[49m\u001b[38;5;124;43m'\u001b[39;49m\u001b[38;5;124;43mTime Series (Daily)\u001b[39;49m\u001b[38;5;124;43m'\u001b[39;49m\u001b[43m]\u001b[49m\n\u001b[1;32m     26\u001b[0m symbol \u001b[38;5;241m=\u001b[39m data[\u001b[38;5;124m'\u001b[39m\u001b[38;5;124mMeta Data\u001b[39m\u001b[38;5;124m'\u001b[39m][\u001b[38;5;124m'\u001b[39m\u001b[38;5;124m2. Symbol\u001b[39m\u001b[38;5;124m'\u001b[39m]\n\u001b[1;32m     28\u001b[0m df \u001b[38;5;241m=\u001b[39m pd\u001b[38;5;241m.\u001b[39mDataFrame(finance)\n",
      "\u001b[0;31mKeyError\u001b[0m: 'Time Series (Daily)'"
     ]
    }
   ],
   "source": [
    "import dailymodeltraining as dmt \n",
    "\n",
    "\n",
    "stocksymbols = ['AAPL', 'GOOG', 'TSLA', 'AMZN', 'MSFT', 'META', 'NVDA']\n",
    "\n",
    "dfs = []\n",
    "\n",
    "for symbol in stocksymbols:\n",
    "    dfs.append(dmt.get_stock_from_api(symbol))\n",
    "dfs\n",
    "\n"
   ]
  },
  {
   "cell_type": "code",
   "execution_count": null,
   "metadata": {
    "metadata": {}
   },
   "outputs": [
    {
     "name": "stdout",
     "output_type": "stream",
     "text": [
      "Feature Group created successfully, explore it at \n",
      "https://c.app.hopsworks.ai:443/p/547994/fs/543817/fg/777579\n"
     ]
    },
    {
     "name": "stderr",
     "output_type": "stream",
     "text": [
      "Uploading Dataframe: 100.00% |██████████| Rows 3607/3607 | Elapsed Time: 00:07 | Remaining Time: 00:00\n"
     ]
    },
    {
     "name": "stdout",
     "output_type": "stream",
     "text": [
      "Launching job: daily_stock_price_1_offline_fg_materialization\n",
      "Job started successfully, you can follow the progress at \n",
      "https://c.app.hopsworks.ai/p/547994/jobs/named/daily_stock_price_1_offline_fg_materialization/executions\n"
     ]
    },
    {
     "name": "stderr",
     "output_type": "stream",
     "text": [
      "Uploading Dataframe: 100.00% |██████████| Rows 3607/3607 | Elapsed Time: 00:07 | Remaining Time: 00:00\n"
     ]
    },
    {
     "name": "stdout",
     "output_type": "stream",
     "text": [
      "Launching job: daily_stock_price_1_offline_fg_materialization\n",
      "Job started successfully, you can follow the progress at \n",
      "https://c.app.hopsworks.ai/p/547994/jobs/named/daily_stock_price_1_offline_fg_materialization/executions\n"
     ]
    },
    {
     "name": "stderr",
     "output_type": "stream",
     "text": [
      "Uploading Dataframe: 100.00% |██████████| Rows 3485/3485 | Elapsed Time: 00:07 | Remaining Time: 00:00\n"
     ]
    },
    {
     "name": "stdout",
     "output_type": "stream",
     "text": [
      "Launching job: daily_stock_price_1_offline_fg_materialization\n",
      "Job started successfully, you can follow the progress at \n",
      "https://c.app.hopsworks.ai/p/547994/jobs/named/daily_stock_price_1_offline_fg_materialization/executions\n"
     ]
    },
    {
     "name": "stderr",
     "output_type": "stream",
     "text": [
      "Uploading Dataframe: 100.00% |██████████| Rows 3607/3607 | Elapsed Time: 00:07 | Remaining Time: 00:00\n"
     ]
    },
    {
     "name": "stdout",
     "output_type": "stream",
     "text": [
      "Launching job: daily_stock_price_1_offline_fg_materialization\n",
      "Job started successfully, you can follow the progress at \n",
      "https://c.app.hopsworks.ai/p/547994/jobs/named/daily_stock_price_1_offline_fg_materialization/executions\n"
     ]
    },
    {
     "name": "stderr",
     "output_type": "stream",
     "text": [
      "Uploading Dataframe: 100.00% |██████████| Rows 3607/3607 | Elapsed Time: 00:07 | Remaining Time: 00:00\n"
     ]
    },
    {
     "name": "stdout",
     "output_type": "stream",
     "text": [
      "Launching job: daily_stock_price_1_offline_fg_materialization\n",
      "Job started successfully, you can follow the progress at \n",
      "https://c.app.hopsworks.ai/p/547994/jobs/named/daily_stock_price_1_offline_fg_materialization/executions\n"
     ]
    },
    {
     "name": "stderr",
     "output_type": "stream",
     "text": [
      "Uploading Dataframe: 100.00% |██████████| Rows 3008/3008 | Elapsed Time: 00:07 | Remaining Time: 00:00\n"
     ]
    },
    {
     "name": "stdout",
     "output_type": "stream",
     "text": [
      "Launching job: daily_stock_price_1_offline_fg_materialization\n"
     ]
    },
    {
     "ename": "RestAPIError",
     "evalue": "Metadata operation error: (url: https://c.app.hopsworks.ai/hopsworks-api/api/project/547994/jobs/daily_stock_price_1_offline_fg_materialization/executions). Server response: \nHTTP code: 400, HTTP reason: Bad Request, body: b'{\"errorCode\":130040,\"usrMsg\":\"Parallel executions quota reached for Project: simao Current 5 Max: 5\",\"devMsg\":\"Parallel executions quota reached for Project: simao Current 5 Max: 5\",\"errorMsg\":\"Job reached the maximum number of executions.\"}', error code: 130040, error msg: Job reached the maximum number of executions., user msg: Parallel executions quota reached for Project: simao Current 5 Max: 5",
     "output_type": "error",
     "traceback": [
      "\u001b[0;31m---------------------------------------------------------------------------\u001b[0m",
      "\u001b[0;31mRestAPIError\u001b[0m                              Traceback (most recent call last)",
      "Cell \u001b[0;32mIn[10], line 2\u001b[0m\n\u001b[1;32m      1\u001b[0m \u001b[38;5;28;01mfor\u001b[39;00m df \u001b[38;5;129;01min\u001b[39;00m dfs:\n\u001b[0;32m----> 2\u001b[0m     \u001b[43mstock_fg\u001b[49m\u001b[38;5;241;43m.\u001b[39;49m\u001b[43minsert\u001b[49m\u001b[43m(\u001b[49m\u001b[43mdf\u001b[49m\u001b[43m)\u001b[49m\n",
      "File \u001b[0;32m~/Desktop/Semester_Project/Keri.conda/lib/python3.11/site-packages/hsfs/feature_group.py:2528\u001b[0m, in \u001b[0;36mFeatureGroup.insert\u001b[0;34m(self, features, overwrite, operation, storage, write_options, validation_options, save_code, wait)\u001b[0m\n\u001b[1;32m   2525\u001b[0m \u001b[38;5;28;01mif\u001b[39;00m \u001b[38;5;124m\"\u001b[39m\u001b[38;5;124mwait_for_job\u001b[39m\u001b[38;5;124m\"\u001b[39m \u001b[38;5;129;01mnot\u001b[39;00m \u001b[38;5;129;01min\u001b[39;00m write_options:\n\u001b[1;32m   2526\u001b[0m     write_options[\u001b[38;5;124m\"\u001b[39m\u001b[38;5;124mwait_for_job\u001b[39m\u001b[38;5;124m\"\u001b[39m] \u001b[38;5;241m=\u001b[39m wait\n\u001b[0;32m-> 2528\u001b[0m job, ge_report \u001b[38;5;241m=\u001b[39m \u001b[38;5;28;43mself\u001b[39;49m\u001b[38;5;241;43m.\u001b[39;49m\u001b[43m_feature_group_engine\u001b[49m\u001b[38;5;241;43m.\u001b[39;49m\u001b[43minsert\u001b[49m\u001b[43m(\u001b[49m\n\u001b[1;32m   2529\u001b[0m \u001b[43m    \u001b[49m\u001b[38;5;28;43mself\u001b[39;49m\u001b[43m,\u001b[49m\n\u001b[1;32m   2530\u001b[0m \u001b[43m    \u001b[49m\u001b[43mfeature_dataframe\u001b[49m\u001b[38;5;241;43m=\u001b[39;49m\u001b[43mfeature_dataframe\u001b[49m\u001b[43m,\u001b[49m\n\u001b[1;32m   2531\u001b[0m \u001b[43m    \u001b[49m\u001b[43moverwrite\u001b[49m\u001b[38;5;241;43m=\u001b[39;49m\u001b[43moverwrite\u001b[49m\u001b[43m,\u001b[49m\n\u001b[1;32m   2532\u001b[0m \u001b[43m    \u001b[49m\u001b[43moperation\u001b[49m\u001b[38;5;241;43m=\u001b[39;49m\u001b[43moperation\u001b[49m\u001b[43m,\u001b[49m\n\u001b[1;32m   2533\u001b[0m \u001b[43m    \u001b[49m\u001b[43mstorage\u001b[49m\u001b[38;5;241;43m=\u001b[39;49m\u001b[43mstorage\u001b[49m\u001b[38;5;241;43m.\u001b[39;49m\u001b[43mlower\u001b[49m\u001b[43m(\u001b[49m\u001b[43m)\u001b[49m\u001b[43m \u001b[49m\u001b[38;5;28;43;01mif\u001b[39;49;00m\u001b[43m \u001b[49m\u001b[43mstorage\u001b[49m\u001b[43m \u001b[49m\u001b[38;5;129;43;01mis\u001b[39;49;00m\u001b[43m \u001b[49m\u001b[38;5;129;43;01mnot\u001b[39;49;00m\u001b[43m \u001b[49m\u001b[38;5;28;43;01mNone\u001b[39;49;00m\u001b[43m \u001b[49m\u001b[38;5;28;43;01melse\u001b[39;49;00m\u001b[43m \u001b[49m\u001b[38;5;28;43;01mNone\u001b[39;49;00m\u001b[43m,\u001b[49m\n\u001b[1;32m   2534\u001b[0m \u001b[43m    \u001b[49m\u001b[43mwrite_options\u001b[49m\u001b[38;5;241;43m=\u001b[39;49m\u001b[43mwrite_options\u001b[49m\u001b[43m,\u001b[49m\n\u001b[1;32m   2535\u001b[0m \u001b[43m    \u001b[49m\u001b[43mvalidation_options\u001b[49m\u001b[38;5;241;43m=\u001b[39;49m\u001b[43m{\u001b[49m\u001b[38;5;124;43m\"\u001b[39;49m\u001b[38;5;124;43msave_report\u001b[39;49m\u001b[38;5;124;43m\"\u001b[39;49m\u001b[43m:\u001b[49m\u001b[43m \u001b[49m\u001b[38;5;28;43;01mTrue\u001b[39;49;00m\u001b[43m,\u001b[49m\u001b[43m \u001b[49m\u001b[38;5;241;43m*\u001b[39;49m\u001b[38;5;241;43m*\u001b[39;49m\u001b[43mvalidation_options\u001b[49m\u001b[43m}\u001b[49m\u001b[43m,\u001b[49m\n\u001b[1;32m   2536\u001b[0m \u001b[43m\u001b[49m\u001b[43m)\u001b[49m\n\u001b[1;32m   2537\u001b[0m \u001b[38;5;28;01mif\u001b[39;00m save_code \u001b[38;5;129;01mand\u001b[39;00m (\n\u001b[1;32m   2538\u001b[0m     ge_report \u001b[38;5;129;01mis\u001b[39;00m \u001b[38;5;28;01mNone\u001b[39;00m \u001b[38;5;129;01mor\u001b[39;00m ge_report\u001b[38;5;241m.\u001b[39mingestion_result \u001b[38;5;241m==\u001b[39m \u001b[38;5;124m\"\u001b[39m\u001b[38;5;124mINGESTED\u001b[39m\u001b[38;5;124m\"\u001b[39m\n\u001b[1;32m   2539\u001b[0m ):\n\u001b[1;32m   2540\u001b[0m     \u001b[38;5;28mself\u001b[39m\u001b[38;5;241m.\u001b[39m_code_engine\u001b[38;5;241m.\u001b[39msave_code(\u001b[38;5;28mself\u001b[39m)\n",
      "File \u001b[0;32m~/Desktop/Semester_Project/Keri.conda/lib/python3.11/site-packages/hsfs/core/feature_group_engine.py:132\u001b[0m, in \u001b[0;36mFeatureGroupEngine.insert\u001b[0;34m(self, feature_group, feature_dataframe, overwrite, operation, storage, write_options, validation_options)\u001b[0m\n\u001b[1;32m    128\u001b[0m \u001b[38;5;28;01mif\u001b[39;00m overwrite:\n\u001b[1;32m    129\u001b[0m     \u001b[38;5;28mself\u001b[39m\u001b[38;5;241m.\u001b[39m_feature_group_api\u001b[38;5;241m.\u001b[39mdelete_content(feature_group)\n\u001b[1;32m    131\u001b[0m \u001b[38;5;28;01mreturn\u001b[39;00m (\n\u001b[0;32m--> 132\u001b[0m     \u001b[43mengine\u001b[49m\u001b[38;5;241;43m.\u001b[39;49m\u001b[43mget_instance\u001b[49m\u001b[43m(\u001b[49m\u001b[43m)\u001b[49m\u001b[38;5;241;43m.\u001b[39;49m\u001b[43msave_dataframe\u001b[49m\u001b[43m(\u001b[49m\n\u001b[1;32m    133\u001b[0m \u001b[43m        \u001b[49m\u001b[43mfeature_group\u001b[49m\u001b[43m,\u001b[49m\n\u001b[1;32m    134\u001b[0m \u001b[43m        \u001b[49m\u001b[43mfeature_dataframe\u001b[49m\u001b[43m,\u001b[49m\n\u001b[1;32m    135\u001b[0m \u001b[43m        \u001b[49m\u001b[38;5;124;43m\"\u001b[39;49m\u001b[38;5;124;43mbulk_insert\u001b[39;49m\u001b[38;5;124;43m\"\u001b[39;49m\u001b[43m \u001b[49m\u001b[38;5;28;43;01mif\u001b[39;49;00m\u001b[43m \u001b[49m\u001b[43moverwrite\u001b[49m\u001b[43m \u001b[49m\u001b[38;5;28;43;01melse\u001b[39;49;00m\u001b[43m \u001b[49m\u001b[43moperation\u001b[49m\u001b[43m,\u001b[49m\n\u001b[1;32m    136\u001b[0m \u001b[43m        \u001b[49m\u001b[43mfeature_group\u001b[49m\u001b[38;5;241;43m.\u001b[39;49m\u001b[43monline_enabled\u001b[49m\u001b[43m,\u001b[49m\n\u001b[1;32m    137\u001b[0m \u001b[43m        \u001b[49m\u001b[43mstorage\u001b[49m\u001b[43m,\u001b[49m\n\u001b[1;32m    138\u001b[0m \u001b[43m        \u001b[49m\u001b[43moffline_write_options\u001b[49m\u001b[43m,\u001b[49m\n\u001b[1;32m    139\u001b[0m \u001b[43m        \u001b[49m\u001b[43monline_write_options\u001b[49m\u001b[43m,\u001b[49m\n\u001b[1;32m    140\u001b[0m \u001b[43m    \u001b[49m\u001b[43m)\u001b[49m,\n\u001b[1;32m    141\u001b[0m     ge_report,\n\u001b[1;32m    142\u001b[0m )\n",
      "File \u001b[0;32m~/Desktop/Semester_Project/Keri.conda/lib/python3.11/site-packages/hsfs/engine/python.py:593\u001b[0m, in \u001b[0;36mEngine.save_dataframe\u001b[0;34m(self, feature_group, dataframe, operation, online_enabled, storage, offline_write_options, online_write_options, validation_id)\u001b[0m\n\u001b[1;32m    578\u001b[0m \u001b[38;5;28;01mdef\u001b[39;00m \u001b[38;5;21msave_dataframe\u001b[39m(\n\u001b[1;32m    579\u001b[0m     \u001b[38;5;28mself\u001b[39m,\n\u001b[1;32m    580\u001b[0m     feature_group: FeatureGroup,\n\u001b[0;32m   (...)\u001b[0m\n\u001b[1;32m    587\u001b[0m     validation_id: \u001b[38;5;28mint\u001b[39m \u001b[38;5;241m=\u001b[39m \u001b[38;5;28;01mNone\u001b[39;00m,\n\u001b[1;32m    588\u001b[0m ):\n\u001b[1;32m    589\u001b[0m     \u001b[38;5;28;01mif\u001b[39;00m (\n\u001b[1;32m    590\u001b[0m         \u001b[38;5;28misinstance\u001b[39m(feature_group, ExternalFeatureGroup)\n\u001b[1;32m    591\u001b[0m         \u001b[38;5;129;01mand\u001b[39;00m feature_group\u001b[38;5;241m.\u001b[39monline_enabled\n\u001b[1;32m    592\u001b[0m     ) \u001b[38;5;129;01mor\u001b[39;00m feature_group\u001b[38;5;241m.\u001b[39mstream:\n\u001b[0;32m--> 593\u001b[0m         \u001b[38;5;28;01mreturn\u001b[39;00m \u001b[38;5;28;43mself\u001b[39;49m\u001b[38;5;241;43m.\u001b[39;49m\u001b[43m_write_dataframe_kafka\u001b[49m\u001b[43m(\u001b[49m\n\u001b[1;32m    594\u001b[0m \u001b[43m            \u001b[49m\u001b[43mfeature_group\u001b[49m\u001b[43m,\u001b[49m\u001b[43m \u001b[49m\u001b[43mdataframe\u001b[49m\u001b[43m,\u001b[49m\u001b[43m \u001b[49m\u001b[43moffline_write_options\u001b[49m\n\u001b[1;32m    595\u001b[0m \u001b[43m        \u001b[49m\u001b[43m)\u001b[49m\n\u001b[1;32m    596\u001b[0m     \u001b[38;5;28;01melse\u001b[39;00m:\n\u001b[1;32m    597\u001b[0m         \u001b[38;5;66;03m# for backwards compatibility\u001b[39;00m\n\u001b[1;32m    598\u001b[0m         \u001b[38;5;28;01mreturn\u001b[39;00m \u001b[38;5;28mself\u001b[39m\u001b[38;5;241m.\u001b[39mlegacy_save_dataframe(\n\u001b[1;32m    599\u001b[0m             feature_group,\n\u001b[1;32m    600\u001b[0m             dataframe,\n\u001b[0;32m   (...)\u001b[0m\n\u001b[1;32m    606\u001b[0m             validation_id,\n\u001b[1;32m    607\u001b[0m         )\n",
      "File \u001b[0;32m~/Desktop/Semester_Project/Keri.conda/lib/python3.11/site-packages/hsfs/engine/python.py:1106\u001b[0m, in \u001b[0;36mEngine._write_dataframe_kafka\u001b[0;34m(self, feature_group, dataframe, offline_write_options)\u001b[0m\n\u001b[1;32m   1104\u001b[0m         initial_check_point \u001b[38;5;241m=\u001b[39m \u001b[38;5;124m\"\u001b[39m\u001b[38;5;124m\"\u001b[39m\n\u001b[1;32m   1105\u001b[0m     \u001b[38;5;66;03m# provide the initial_check_point as it will reduce the read amplification of materialization job\u001b[39;00m\n\u001b[0;32m-> 1106\u001b[0m     \u001b[43mfeature_group\u001b[49m\u001b[38;5;241;43m.\u001b[39;49m\u001b[43mmaterialization_job\u001b[49m\u001b[38;5;241;43m.\u001b[39;49m\u001b[43mrun\u001b[49m\u001b[43m(\u001b[49m\n\u001b[1;32m   1107\u001b[0m \u001b[43m        \u001b[49m\u001b[43margs\u001b[49m\u001b[38;5;241;43m=\u001b[39;49m\u001b[43mfeature_group\u001b[49m\u001b[38;5;241;43m.\u001b[39;49m\u001b[43mmaterialization_job\u001b[49m\u001b[38;5;241;43m.\u001b[39;49m\u001b[43mconfig\u001b[49m\u001b[38;5;241;43m.\u001b[39;49m\u001b[43mget\u001b[49m\u001b[43m(\u001b[49m\u001b[38;5;124;43m\"\u001b[39;49m\u001b[38;5;124;43mdefaultArgs\u001b[39;49m\u001b[38;5;124;43m\"\u001b[39;49m\u001b[43m,\u001b[49m\u001b[43m \u001b[49m\u001b[38;5;124;43m\"\u001b[39;49m\u001b[38;5;124;43m\"\u001b[39;49m\u001b[43m)\u001b[49m\n\u001b[1;32m   1108\u001b[0m \u001b[43m        \u001b[49m\u001b[38;5;241;43m+\u001b[39;49m\u001b[43m \u001b[49m\u001b[43minitial_check_point\u001b[49m\u001b[43m,\u001b[49m\n\u001b[1;32m   1109\u001b[0m \u001b[43m        \u001b[49m\u001b[43mawait_termination\u001b[49m\u001b[38;5;241;43m=\u001b[39;49m\u001b[43moffline_write_options\u001b[49m\u001b[38;5;241;43m.\u001b[39;49m\u001b[43mget\u001b[49m\u001b[43m(\u001b[49m\u001b[38;5;124;43m\"\u001b[39;49m\u001b[38;5;124;43mwait_for_job\u001b[39;49m\u001b[38;5;124;43m\"\u001b[39;49m\u001b[43m,\u001b[49m\u001b[43m \u001b[49m\u001b[38;5;28;43;01mFalse\u001b[39;49;00m\u001b[43m)\u001b[49m\u001b[43m,\u001b[49m\n\u001b[1;32m   1110\u001b[0m \u001b[43m    \u001b[49m\u001b[43m)\u001b[49m\n\u001b[1;32m   1111\u001b[0m \u001b[38;5;28;01mif\u001b[39;00m \u001b[38;5;28misinstance\u001b[39m(feature_group, ExternalFeatureGroup):\n\u001b[1;32m   1112\u001b[0m     \u001b[38;5;28;01mreturn\u001b[39;00m \u001b[38;5;28;01mNone\u001b[39;00m\n",
      "File \u001b[0;32m~/Desktop/Semester_Project/Keri.conda/lib/python3.11/site-packages/hsfs/core/job.py:118\u001b[0m, in \u001b[0;36mJob.run\u001b[0;34m(self, args, await_termination)\u001b[0m\n\u001b[1;32m     94\u001b[0m \u001b[38;5;250m\u001b[39m\u001b[38;5;124;03m\"\"\"Run the job.\u001b[39;00m\n\u001b[1;32m     95\u001b[0m \n\u001b[1;32m     96\u001b[0m \u001b[38;5;124;03mRuns the job, by default awaiting its completion.\u001b[39;00m\n\u001b[0;32m   (...)\u001b[0m\n\u001b[1;32m    115\u001b[0m \u001b[38;5;124;03m    await_termination: Identifies if the client should wait for the job to complete, defaults to True.\u001b[39;00m\n\u001b[1;32m    116\u001b[0m \u001b[38;5;124;03m\"\"\"\u001b[39;00m\n\u001b[1;32m    117\u001b[0m \u001b[38;5;28mprint\u001b[39m(\u001b[38;5;124mf\u001b[39m\u001b[38;5;124m\"\u001b[39m\u001b[38;5;124mLaunching job: \u001b[39m\u001b[38;5;132;01m{\u001b[39;00m\u001b[38;5;28mself\u001b[39m\u001b[38;5;241m.\u001b[39mname\u001b[38;5;132;01m}\u001b[39;00m\u001b[38;5;124m\"\u001b[39m)\n\u001b[0;32m--> 118\u001b[0m \u001b[38;5;28;43mself\u001b[39;49m\u001b[38;5;241;43m.\u001b[39;49m\u001b[43m_job_api\u001b[49m\u001b[38;5;241;43m.\u001b[39;49m\u001b[43mlaunch\u001b[49m\u001b[43m(\u001b[49m\u001b[38;5;28;43mself\u001b[39;49m\u001b[38;5;241;43m.\u001b[39;49m\u001b[43mname\u001b[49m\u001b[43m,\u001b[49m\u001b[43m \u001b[49m\u001b[43margs\u001b[49m\u001b[38;5;241;43m=\u001b[39;49m\u001b[43margs\u001b[49m\u001b[43m)\u001b[49m\n\u001b[1;32m    119\u001b[0m \u001b[38;5;28mprint\u001b[39m(\n\u001b[1;32m    120\u001b[0m     \u001b[38;5;124m\"\u001b[39m\u001b[38;5;124mJob started successfully, you can follow the progress at \u001b[39m\u001b[38;5;130;01m\\n\u001b[39;00m\u001b[38;5;132;01m{}\u001b[39;00m\u001b[38;5;124m\"\u001b[39m\u001b[38;5;241m.\u001b[39mformat(\n\u001b[1;32m    121\u001b[0m         util\u001b[38;5;241m.\u001b[39mget_job_url(\u001b[38;5;28mself\u001b[39m\u001b[38;5;241m.\u001b[39mhref)\n\u001b[1;32m    122\u001b[0m     )\n\u001b[1;32m    123\u001b[0m )\n\u001b[1;32m    124\u001b[0m \u001b[38;5;28mself\u001b[39m\u001b[38;5;241m.\u001b[39m_wait_for_job(await_termination\u001b[38;5;241m=\u001b[39mawait_termination)\n",
      "File \u001b[0;32m~/Desktop/Semester_Project/Keri.conda/lib/python3.11/site-packages/hsfs/core/job_api.py:39\u001b[0m, in \u001b[0;36mJobApi.launch\u001b[0;34m(self, name, args)\u001b[0m\n\u001b[1;32m     36\u001b[0m _client \u001b[38;5;241m=\u001b[39m client\u001b[38;5;241m.\u001b[39mget_instance()\n\u001b[1;32m     37\u001b[0m path_params \u001b[38;5;241m=\u001b[39m [\u001b[38;5;124m\"\u001b[39m\u001b[38;5;124mproject\u001b[39m\u001b[38;5;124m\"\u001b[39m, _client\u001b[38;5;241m.\u001b[39m_project_id, \u001b[38;5;124m\"\u001b[39m\u001b[38;5;124mjobs\u001b[39m\u001b[38;5;124m\"\u001b[39m, name, \u001b[38;5;124m\"\u001b[39m\u001b[38;5;124mexecutions\u001b[39m\u001b[38;5;124m\"\u001b[39m]\n\u001b[0;32m---> 39\u001b[0m \u001b[43m_client\u001b[49m\u001b[38;5;241;43m.\u001b[39;49m\u001b[43m_send_request\u001b[49m\u001b[43m(\u001b[49m\u001b[38;5;124;43m\"\u001b[39;49m\u001b[38;5;124;43mPOST\u001b[39;49m\u001b[38;5;124;43m\"\u001b[39;49m\u001b[43m,\u001b[49m\u001b[43m \u001b[49m\u001b[43mpath_params\u001b[49m\u001b[43m,\u001b[49m\u001b[43m \u001b[49m\u001b[43mdata\u001b[49m\u001b[38;5;241;43m=\u001b[39;49m\u001b[43margs\u001b[49m\u001b[43m)\u001b[49m\n",
      "File \u001b[0;32m~/Desktop/Semester_Project/Keri.conda/lib/python3.11/site-packages/hsfs/decorators.py:35\u001b[0m, in \u001b[0;36mconnected.<locals>.if_connected\u001b[0;34m(inst, *args, **kwargs)\u001b[0m\n\u001b[1;32m     33\u001b[0m \u001b[38;5;28;01mif\u001b[39;00m \u001b[38;5;129;01mnot\u001b[39;00m inst\u001b[38;5;241m.\u001b[39m_connected:\n\u001b[1;32m     34\u001b[0m     \u001b[38;5;28;01mraise\u001b[39;00m NoHopsworksConnectionError\n\u001b[0;32m---> 35\u001b[0m \u001b[38;5;28;01mreturn\u001b[39;00m \u001b[43mfn\u001b[49m\u001b[43m(\u001b[49m\u001b[43minst\u001b[49m\u001b[43m,\u001b[49m\u001b[43m \u001b[49m\u001b[38;5;241;43m*\u001b[39;49m\u001b[43margs\u001b[49m\u001b[43m,\u001b[49m\u001b[43m \u001b[49m\u001b[38;5;241;43m*\u001b[39;49m\u001b[38;5;241;43m*\u001b[39;49m\u001b[43mkwargs\u001b[49m\u001b[43m)\u001b[49m\n",
      "File \u001b[0;32m~/Desktop/Semester_Project/Keri.conda/lib/python3.11/site-packages/hsfs/client/base.py:179\u001b[0m, in \u001b[0;36mClient._send_request\u001b[0;34m(self, method, path_params, query_params, headers, data, stream, files)\u001b[0m\n\u001b[1;32m    176\u001b[0m     response \u001b[38;5;241m=\u001b[39m \u001b[38;5;28mself\u001b[39m\u001b[38;5;241m.\u001b[39m_session\u001b[38;5;241m.\u001b[39msend(prepped, verify\u001b[38;5;241m=\u001b[39m\u001b[38;5;28mself\u001b[39m\u001b[38;5;241m.\u001b[39m_verify, stream\u001b[38;5;241m=\u001b[39mstream)\n\u001b[1;32m    178\u001b[0m \u001b[38;5;28;01mif\u001b[39;00m response\u001b[38;5;241m.\u001b[39mstatus_code \u001b[38;5;241m/\u001b[39m\u001b[38;5;241m/\u001b[39m \u001b[38;5;241m100\u001b[39m \u001b[38;5;241m!=\u001b[39m \u001b[38;5;241m2\u001b[39m:\n\u001b[0;32m--> 179\u001b[0m     \u001b[38;5;28;01mraise\u001b[39;00m exceptions\u001b[38;5;241m.\u001b[39mRestAPIError(url, response)\n\u001b[1;32m    181\u001b[0m \u001b[38;5;28;01mif\u001b[39;00m stream:\n\u001b[1;32m    182\u001b[0m     \u001b[38;5;28;01mreturn\u001b[39;00m response\n",
      "\u001b[0;31mRestAPIError\u001b[0m: Metadata operation error: (url: https://c.app.hopsworks.ai/hopsworks-api/api/project/547994/jobs/daily_stock_price_1_offline_fg_materialization/executions). Server response: \nHTTP code: 400, HTTP reason: Bad Request, body: b'{\"errorCode\":130040,\"usrMsg\":\"Parallel executions quota reached for Project: simao Current 5 Max: 5\",\"devMsg\":\"Parallel executions quota reached for Project: simao Current 5 Max: 5\",\"errorMsg\":\"Job reached the maximum number of executions.\"}', error code: 130040, error msg: Job reached the maximum number of executions., user msg: Parallel executions quota reached for Project: simao Current 5 Max: 5"
     ]
    }
   ],
   "source": [
    "for df in dfs:\n",
    "    stock_fg.insert(df)"
   ]
  },
  {
   "cell_type": "code",
   "execution_count": null,
   "metadata": {
    "metadata": {}
   },
   "outputs": [
    {
     "name": "stderr",
     "output_type": "stream",
     "text": [
      "/Users/simao/Desktop/Semester_Project/Keri.conda/lib/python3.11/site-packages/tqdm/auto.py:21: TqdmWarning: IProgress not found. Please update jupyter and ipywidgets. See https://ipywidgets.readthedocs.io/en/stable/user_install.html\n",
      "  from .autonotebook import tqdm as notebook_tqdm\n"
     ]
    },
    {
     "name": "stdout",
     "output_type": "stream",
     "text": [
      "Connected. Call `.close()` to terminate connection gracefully.\n",
      "\n",
      "Logged in to project, explore it here https://c.app.hopsworks.ai:443/p/547994\n",
      "Connection closed.\n"
     ]
    }
   ],
   "source": []
  },
  {
   "cell_type": "code",
   "execution_count": null,
   "metadata": {
    "metadata": {}
   },
   "outputs": [
    {
     "name": "stdout",
     "output_type": "stream",
     "text": [
      "AAPL daily aggregates: []\n",
      "TSLA daily aggregates: []\n"
     ]
    }
   ],
   "source": [
    "import polygon \n",
    "from datetime import datetime\n",
    "\n",
    "# Initialize the Polygon.io REST client\n",
    "api_key = \"RH1ov8ypgp3HZyRj6nRVqICs8K4HOdGe\"\n",
    "client = polygon.RESTClient(api_key)\n",
    "\n",
    "# Function to fetch daily aggregates\n",
    "def fetch_daily_aggregates(symbol):\n",
    "    end_date = datetime.now().date()\n",
    "    start_date = end_date.replace(year=end_date.year - 1)  # Fetching last year's data\n",
    "\n",
    "    # Fetch aggregates\n",
    "    response = client.get_aggs(symbol, 1, 'day', start_date, end_date)\n",
    "    return response\n",
    "\n",
    "# Fetch daily aggregates for AAPL and TSLA\n",
    "aapl_aggregates = fetch_daily_aggregates(\"stocksymbol\")\n",
    "tsla_aggregates = fetch_daily_aggregates(\"stocksymbol\")\n",
    "\n",
    "# Print results\n",
    "print(f\"AAPL daily aggregates: {aapl_aggregates}\")\n",
    "print(f\"TSLA daily aggregates: {tsla_aggregates}\")"
   ]
  },
  {
   "cell_type": "code",
   "execution_count": null,
   "metadata": {
    "metadata": {}
   },
   "outputs": [],
   "source": [
    "import pandas as pd\n",
    "df_apple = pd.DataFrame(aapl_aggregates)['open,high,low,close,volume,timestamp'.split(',')]"
   ]
  },
  {
   "cell_type": "code",
   "execution_count": null,
   "metadata": {
    "metadata": {}
   },
   "outputs": [
    {
     "data": {
      "text/html": [
       "<div>\n",
       "<style scoped>\n",
       "    .dataframe tbody tr th:only-of-type {\n",
       "        vertical-align: middle;\n",
       "    }\n",
       "\n",
       "    .dataframe tbody tr th {\n",
       "        vertical-align: top;\n",
       "    }\n",
       "\n",
       "    .dataframe thead th {\n",
       "        text-align: right;\n",
       "    }\n",
       "</style>\n",
       "<table border=\"1\" class=\"dataframe\">\n",
       "  <thead>\n",
       "    <tr style=\"text-align: right;\">\n",
       "      <th></th>\n",
       "      <th>open</th>\n",
       "      <th>high</th>\n",
       "      <th>low</th>\n",
       "      <th>close</th>\n",
       "      <th>volume</th>\n",
       "      <th>timestamp</th>\n",
       "    </tr>\n",
       "  </thead>\n",
       "  <tbody>\n",
       "    <tr>\n",
       "      <th>0</th>\n",
       "      <td>169.500</td>\n",
       "      <td>170.920</td>\n",
       "      <td>167.16</td>\n",
       "      <td>167.45</td>\n",
       "      <td>65126998.0</td>\n",
       "      <td>1683086400000</td>\n",
       "    </tr>\n",
       "    <tr>\n",
       "      <th>1</th>\n",
       "      <td>164.890</td>\n",
       "      <td>167.040</td>\n",
       "      <td>164.31</td>\n",
       "      <td>165.79</td>\n",
       "      <td>81225673.0</td>\n",
       "      <td>1683172800000</td>\n",
       "    </tr>\n",
       "    <tr>\n",
       "      <th>2</th>\n",
       "      <td>170.975</td>\n",
       "      <td>174.300</td>\n",
       "      <td>170.76</td>\n",
       "      <td>173.57</td>\n",
       "      <td>113402971.0</td>\n",
       "      <td>1683259200000</td>\n",
       "    </tr>\n",
       "    <tr>\n",
       "      <th>3</th>\n",
       "      <td>172.480</td>\n",
       "      <td>173.850</td>\n",
       "      <td>172.11</td>\n",
       "      <td>173.50</td>\n",
       "      <td>55962634.0</td>\n",
       "      <td>1683518400000</td>\n",
       "    </tr>\n",
       "    <tr>\n",
       "      <th>4</th>\n",
       "      <td>173.050</td>\n",
       "      <td>173.540</td>\n",
       "      <td>171.60</td>\n",
       "      <td>171.77</td>\n",
       "      <td>45326874.0</td>\n",
       "      <td>1683604800000</td>\n",
       "    </tr>\n",
       "    <tr>\n",
       "      <th>...</th>\n",
       "      <td>...</td>\n",
       "      <td>...</td>\n",
       "      <td>...</td>\n",
       "      <td>...</td>\n",
       "      <td>...</td>\n",
       "      <td>...</td>\n",
       "    </tr>\n",
       "    <tr>\n",
       "      <th>247</th>\n",
       "      <td>169.880</td>\n",
       "      <td>171.340</td>\n",
       "      <td>169.18</td>\n",
       "      <td>169.30</td>\n",
       "      <td>44014087.0</td>\n",
       "      <td>1714104000000</td>\n",
       "    </tr>\n",
       "    <tr>\n",
       "      <th>248</th>\n",
       "      <td>173.370</td>\n",
       "      <td>176.030</td>\n",
       "      <td>173.10</td>\n",
       "      <td>173.50</td>\n",
       "      <td>66891905.0</td>\n",
       "      <td>1714363200000</td>\n",
       "    </tr>\n",
       "    <tr>\n",
       "      <th>249</th>\n",
       "      <td>173.330</td>\n",
       "      <td>174.990</td>\n",
       "      <td>170.00</td>\n",
       "      <td>170.33</td>\n",
       "      <td>64066593.0</td>\n",
       "      <td>1714449600000</td>\n",
       "    </tr>\n",
       "    <tr>\n",
       "      <th>250</th>\n",
       "      <td>169.580</td>\n",
       "      <td>172.705</td>\n",
       "      <td>169.11</td>\n",
       "      <td>169.30</td>\n",
       "      <td>48416441.0</td>\n",
       "      <td>1714536000000</td>\n",
       "    </tr>\n",
       "    <tr>\n",
       "      <th>251</th>\n",
       "      <td>172.510</td>\n",
       "      <td>173.415</td>\n",
       "      <td>170.89</td>\n",
       "      <td>173.03</td>\n",
       "      <td>91402452.0</td>\n",
       "      <td>1714622400000</td>\n",
       "    </tr>\n",
       "  </tbody>\n",
       "</table>\n",
       "<p>252 rows × 6 columns</p>\n",
       "</div>"
      ],
      "text/plain": [
       "        open     high     low   close       volume      timestamp\n",
       "0    169.500  170.920  167.16  167.45   65126998.0  1683086400000\n",
       "1    164.890  167.040  164.31  165.79   81225673.0  1683172800000\n",
       "2    170.975  174.300  170.76  173.57  113402971.0  1683259200000\n",
       "3    172.480  173.850  172.11  173.50   55962634.0  1683518400000\n",
       "4    173.050  173.540  171.60  171.77   45326874.0  1683604800000\n",
       "..       ...      ...     ...     ...          ...            ...\n",
       "247  169.880  171.340  169.18  169.30   44014087.0  1714104000000\n",
       "248  173.370  176.030  173.10  173.50   66891905.0  1714363200000\n",
       "249  173.330  174.990  170.00  170.33   64066593.0  1714449600000\n",
       "250  169.580  172.705  169.11  169.30   48416441.0  1714536000000\n",
       "251  172.510  173.415  170.89  173.03   91402452.0  1714622400000\n",
       "\n",
       "[252 rows x 6 columns]"
      ]
     },
     "execution_count": 6,
     "metadata": {},
     "output_type": "execute_result"
    }
   ],
   "source": [
    "df_apple"
   ]
  },
  {
   "cell_type": "code",
   "execution_count": 1,
   "metadata": {
    "metadata": {}
   },
   "outputs": [],
   "source": [
    "import dailymodeltraining as dmt\n",
    "\n",
    "stocksymbols = ['AAPL']\n",
    "dfs = []\n",
    "for stock in stocksymbols:\n",
    "    dfs.append(dmt.get_stock_from_api(stock))"
   ]
  },
  {
   "cell_type": "markdown",
   "metadata": {},
   "source": []
  },
  {
   "cell_type": "code",
   "execution_count": 2,
   "metadata": {
    "metadata": {}
   },
   "outputs": [
    {
     "data": {
      "text/html": [
       "<div>\n",
       "<style scoped>\n",
       "    .dataframe tbody tr th:only-of-type {\n",
       "        vertical-align: middle;\n",
       "    }\n",
       "\n",
       "    .dataframe tbody tr th {\n",
       "        vertical-align: top;\n",
       "    }\n",
       "\n",
       "    .dataframe thead th {\n",
       "        text-align: right;\n",
       "    }\n",
       "</style>\n",
       "<table border=\"1\" class=\"dataframe\">\n",
       "  <thead>\n",
       "    <tr style=\"text-align: right;\">\n",
       "      <th></th>\n",
       "      <th>open</th>\n",
       "      <th>high</th>\n",
       "      <th>low</th>\n",
       "      <th>close</th>\n",
       "      <th>volume</th>\n",
       "      <th>timestamp</th>\n",
       "      <th>date</th>\n",
       "      <th>symbol</th>\n",
       "    </tr>\n",
       "  </thead>\n",
       "  <tbody>\n",
       "    <tr>\n",
       "      <th>0</th>\n",
       "      <td>169.500</td>\n",
       "      <td>170.920</td>\n",
       "      <td>167.16</td>\n",
       "      <td>167.45</td>\n",
       "      <td>65126998.0</td>\n",
       "      <td>1683086400000</td>\n",
       "      <td>1683086400000</td>\n",
       "      <td>AAPL</td>\n",
       "    </tr>\n",
       "    <tr>\n",
       "      <th>1</th>\n",
       "      <td>164.890</td>\n",
       "      <td>167.040</td>\n",
       "      <td>164.31</td>\n",
       "      <td>165.79</td>\n",
       "      <td>81225673.0</td>\n",
       "      <td>1683172800000</td>\n",
       "      <td>1683172800000</td>\n",
       "      <td>AAPL</td>\n",
       "    </tr>\n",
       "    <tr>\n",
       "      <th>2</th>\n",
       "      <td>170.975</td>\n",
       "      <td>174.300</td>\n",
       "      <td>170.76</td>\n",
       "      <td>173.57</td>\n",
       "      <td>113402971.0</td>\n",
       "      <td>1683259200000</td>\n",
       "      <td>1683259200000</td>\n",
       "      <td>AAPL</td>\n",
       "    </tr>\n",
       "    <tr>\n",
       "      <th>3</th>\n",
       "      <td>172.480</td>\n",
       "      <td>173.850</td>\n",
       "      <td>172.11</td>\n",
       "      <td>173.50</td>\n",
       "      <td>55962634.0</td>\n",
       "      <td>1683518400000</td>\n",
       "      <td>1683518400000</td>\n",
       "      <td>AAPL</td>\n",
       "    </tr>\n",
       "    <tr>\n",
       "      <th>4</th>\n",
       "      <td>173.050</td>\n",
       "      <td>173.540</td>\n",
       "      <td>171.60</td>\n",
       "      <td>171.77</td>\n",
       "      <td>45326874.0</td>\n",
       "      <td>1683604800000</td>\n",
       "      <td>1683604800000</td>\n",
       "      <td>AAPL</td>\n",
       "    </tr>\n",
       "    <tr>\n",
       "      <th>...</th>\n",
       "      <td>...</td>\n",
       "      <td>...</td>\n",
       "      <td>...</td>\n",
       "      <td>...</td>\n",
       "      <td>...</td>\n",
       "      <td>...</td>\n",
       "      <td>...</td>\n",
       "      <td>...</td>\n",
       "    </tr>\n",
       "    <tr>\n",
       "      <th>247</th>\n",
       "      <td>169.880</td>\n",
       "      <td>171.340</td>\n",
       "      <td>169.18</td>\n",
       "      <td>169.30</td>\n",
       "      <td>44014087.0</td>\n",
       "      <td>1714104000000</td>\n",
       "      <td>1714104000000</td>\n",
       "      <td>AAPL</td>\n",
       "    </tr>\n",
       "    <tr>\n",
       "      <th>248</th>\n",
       "      <td>173.370</td>\n",
       "      <td>176.030</td>\n",
       "      <td>173.10</td>\n",
       "      <td>173.50</td>\n",
       "      <td>66891905.0</td>\n",
       "      <td>1714363200000</td>\n",
       "      <td>1714363200000</td>\n",
       "      <td>AAPL</td>\n",
       "    </tr>\n",
       "    <tr>\n",
       "      <th>249</th>\n",
       "      <td>173.330</td>\n",
       "      <td>174.990</td>\n",
       "      <td>170.00</td>\n",
       "      <td>170.33</td>\n",
       "      <td>64066593.0</td>\n",
       "      <td>1714449600000</td>\n",
       "      <td>1714449600000</td>\n",
       "      <td>AAPL</td>\n",
       "    </tr>\n",
       "    <tr>\n",
       "      <th>250</th>\n",
       "      <td>169.580</td>\n",
       "      <td>172.705</td>\n",
       "      <td>169.11</td>\n",
       "      <td>169.30</td>\n",
       "      <td>48416441.0</td>\n",
       "      <td>1714536000000</td>\n",
       "      <td>1714536000000</td>\n",
       "      <td>AAPL</td>\n",
       "    </tr>\n",
       "    <tr>\n",
       "      <th>251</th>\n",
       "      <td>172.510</td>\n",
       "      <td>173.415</td>\n",
       "      <td>170.89</td>\n",
       "      <td>173.03</td>\n",
       "      <td>91402452.0</td>\n",
       "      <td>1714622400000</td>\n",
       "      <td>1714622400000</td>\n",
       "      <td>AAPL</td>\n",
       "    </tr>\n",
       "  </tbody>\n",
       "</table>\n",
       "<p>252 rows × 8 columns</p>\n",
       "</div>"
      ],
      "text/plain": [
       "        open     high     low   close       volume      timestamp  \\\n",
       "0    169.500  170.920  167.16  167.45   65126998.0  1683086400000   \n",
       "1    164.890  167.040  164.31  165.79   81225673.0  1683172800000   \n",
       "2    170.975  174.300  170.76  173.57  113402971.0  1683259200000   \n",
       "3    172.480  173.850  172.11  173.50   55962634.0  1683518400000   \n",
       "4    173.050  173.540  171.60  171.77   45326874.0  1683604800000   \n",
       "..       ...      ...     ...     ...          ...            ...   \n",
       "247  169.880  171.340  169.18  169.30   44014087.0  1714104000000   \n",
       "248  173.370  176.030  173.10  173.50   66891905.0  1714363200000   \n",
       "249  173.330  174.990  170.00  170.33   64066593.0  1714449600000   \n",
       "250  169.580  172.705  169.11  169.30   48416441.0  1714536000000   \n",
       "251  172.510  173.415  170.89  173.03   91402452.0  1714622400000   \n",
       "\n",
       "              date symbol  \n",
       "0    1683086400000   AAPL  \n",
       "1    1683172800000   AAPL  \n",
       "2    1683259200000   AAPL  \n",
       "3    1683518400000   AAPL  \n",
       "4    1683604800000   AAPL  \n",
       "..             ...    ...  \n",
       "247  1714104000000   AAPL  \n",
       "248  1714363200000   AAPL  \n",
       "249  1714449600000   AAPL  \n",
       "250  1714536000000   AAPL  \n",
       "251  1714622400000   AAPL  \n",
       "\n",
       "[252 rows x 8 columns]"
      ]
     },
     "execution_count": 2,
     "metadata": {},
     "output_type": "execute_result"
    }
   ],
   "source": [
    "dfs[0]"
   ]
  }
 ],
 "metadata": {
  "kernelspec": {
   "display_name": "Python 3",
   "language": "python",
   "name": "python3"
  },
  "language_info": {
   "codemirror_mode": {
    "name": "ipython",
    "version": 3
   },
   "file_extension": ".py",
   "mimetype": "text/x-python",
   "name": "python",
   "nbconvert_exporter": "python",
   "pygments_lexer": "ipython3",
   "version": "3.11.9"
  }
 },
 "nbformat": 4,
 "nbformat_minor": 2
}
