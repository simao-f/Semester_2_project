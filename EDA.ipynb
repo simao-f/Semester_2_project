{
 "cells": [
  {
   "cell_type": "markdown",
   "metadata": {},
   "source": [
    "**2nd semester project** - EDA\n",
    "\n",
    "\n",
    "Elena Skrtic\n",
    "\n",
    "Simao Ferreira\n",
    "\n",
    "Laura Keri"
   ]
  },
  {
   "cell_type": "markdown",
   "metadata": {},
   "source": [
    "Getting our data from yfinance"
   ]
  },
  {
   "cell_type": "code",
   "execution_count": 17,
   "metadata": {
    "metadata": {}
   },
   "outputs": [
    {
     "name": "stdout",
     "output_type": "stream",
     "text": [
      "Note: you may need to restart the kernel to use updated packages.\n"
     ]
    }
   ],
   "source": [
    "pip install -r requirements.txt --quiet"
   ]
  },
  {
   "cell_type": "code",
   "execution_count": 18,
   "metadata": {
    "metadata": {}
   },
   "outputs": [],
   "source": [
    "import yfinance as yf\n",
    "import pandas as pd\n",
    "import matplotlib.pyplot as plt\n",
    "import seaborn as sns"
   ]
  },
  {
   "cell_type": "code",
   "execution_count": 19,
   "metadata": {
    "metadata": {}
   },
   "outputs": [],
   "source": [
    "#Define the ticker symbol and get data from that\n",
    "#we got every seven datasets from this snippet of code\n",
    "tickerSymbol = 'TSLA'\n",
    "tickerData = yf.Ticker(tickerSymbol)\n",
    "\n",
    "#Get the historical prices\n",
    "tickerDf = tickerData.history(period='1d', start='2010-1-1', end='2025-1-1')\n",
    "\n",
    "#Save the data to CSV\n",
    "tickerDf.to_csv(f'{tickerSymbol}_df.csv')"
   ]
  },
  {
   "cell_type": "markdown",
   "metadata": {},
   "source": [
    "EDA"
   ]
  },
  {
   "cell_type": "code",
   "execution_count": 20,
   "metadata": {},
   "outputs": [],
   "source": [
    "#in this example of EDA we used Amazon dataset\n",
    "df = pd.read_csv('AMZN_df.csv')"
   ]
  },
  {
   "cell_type": "code",
   "execution_count": 21,
   "metadata": {},
   "outputs": [
    {
     "data": {
      "text/html": [
       "<div>\n",
       "<style scoped>\n",
       "    .dataframe tbody tr th:only-of-type {\n",
       "        vertical-align: middle;\n",
       "    }\n",
       "\n",
       "    .dataframe tbody tr th {\n",
       "        vertical-align: top;\n",
       "    }\n",
       "\n",
       "    .dataframe thead th {\n",
       "        text-align: right;\n",
       "    }\n",
       "</style>\n",
       "<table border=\"1\" class=\"dataframe\">\n",
       "  <thead>\n",
       "    <tr style=\"text-align: right;\">\n",
       "      <th></th>\n",
       "      <th>Date</th>\n",
       "      <th>Open</th>\n",
       "      <th>High</th>\n",
       "      <th>Low</th>\n",
       "      <th>Close</th>\n",
       "      <th>Volume</th>\n",
       "      <th>Dividends</th>\n",
       "      <th>Stock Splits</th>\n",
       "    </tr>\n",
       "  </thead>\n",
       "  <tbody>\n",
       "    <tr>\n",
       "      <th>0</th>\n",
       "      <td>2010-01-04 00:00:00-05:00</td>\n",
       "      <td>6.8125</td>\n",
       "      <td>6.8305</td>\n",
       "      <td>6.6570</td>\n",
       "      <td>6.6950</td>\n",
       "      <td>151998000</td>\n",
       "      <td>0.0</td>\n",
       "      <td>0.0</td>\n",
       "    </tr>\n",
       "    <tr>\n",
       "      <th>1</th>\n",
       "      <td>2010-01-05 00:00:00-05:00</td>\n",
       "      <td>6.6715</td>\n",
       "      <td>6.7740</td>\n",
       "      <td>6.5905</td>\n",
       "      <td>6.7345</td>\n",
       "      <td>177038000</td>\n",
       "      <td>0.0</td>\n",
       "      <td>0.0</td>\n",
       "    </tr>\n",
       "    <tr>\n",
       "      <th>2</th>\n",
       "      <td>2010-01-06 00:00:00-05:00</td>\n",
       "      <td>6.7300</td>\n",
       "      <td>6.7365</td>\n",
       "      <td>6.5825</td>\n",
       "      <td>6.6125</td>\n",
       "      <td>143576000</td>\n",
       "      <td>0.0</td>\n",
       "      <td>0.0</td>\n",
       "    </tr>\n",
       "    <tr>\n",
       "      <th>3</th>\n",
       "      <td>2010-01-07 00:00:00-05:00</td>\n",
       "      <td>6.6005</td>\n",
       "      <td>6.6160</td>\n",
       "      <td>6.4400</td>\n",
       "      <td>6.5000</td>\n",
       "      <td>220604000</td>\n",
       "      <td>0.0</td>\n",
       "      <td>0.0</td>\n",
       "    </tr>\n",
       "    <tr>\n",
       "      <th>4</th>\n",
       "      <td>2010-01-08 00:00:00-05:00</td>\n",
       "      <td>6.5280</td>\n",
       "      <td>6.6840</td>\n",
       "      <td>6.4515</td>\n",
       "      <td>6.6760</td>\n",
       "      <td>196610000</td>\n",
       "      <td>0.0</td>\n",
       "      <td>0.0</td>\n",
       "    </tr>\n",
       "  </tbody>\n",
       "</table>\n",
       "</div>"
      ],
      "text/plain": [
       "                        Date    Open    High     Low   Close     Volume  \\\n",
       "0  2010-01-04 00:00:00-05:00  6.8125  6.8305  6.6570  6.6950  151998000   \n",
       "1  2010-01-05 00:00:00-05:00  6.6715  6.7740  6.5905  6.7345  177038000   \n",
       "2  2010-01-06 00:00:00-05:00  6.7300  6.7365  6.5825  6.6125  143576000   \n",
       "3  2010-01-07 00:00:00-05:00  6.6005  6.6160  6.4400  6.5000  220604000   \n",
       "4  2010-01-08 00:00:00-05:00  6.5280  6.6840  6.4515  6.6760  196610000   \n",
       "\n",
       "   Dividends  Stock Splits  \n",
       "0        0.0           0.0  \n",
       "1        0.0           0.0  \n",
       "2        0.0           0.0  \n",
       "3        0.0           0.0  \n",
       "4        0.0           0.0  "
      ]
     },
     "execution_count": 21,
     "metadata": {},
     "output_type": "execute_result"
    }
   ],
   "source": [
    "df.head()"
   ]
  },
  {
   "cell_type": "code",
   "execution_count": 22,
   "metadata": {},
   "outputs": [
    {
     "data": {
      "text/html": [
       "<div>\n",
       "<style scoped>\n",
       "    .dataframe tbody tr th:only-of-type {\n",
       "        vertical-align: middle;\n",
       "    }\n",
       "\n",
       "    .dataframe tbody tr th {\n",
       "        vertical-align: top;\n",
       "    }\n",
       "\n",
       "    .dataframe thead th {\n",
       "        text-align: right;\n",
       "    }\n",
       "</style>\n",
       "<table border=\"1\" class=\"dataframe\">\n",
       "  <thead>\n",
       "    <tr style=\"text-align: right;\">\n",
       "      <th></th>\n",
       "      <th>Open</th>\n",
       "      <th>High</th>\n",
       "      <th>Low</th>\n",
       "      <th>Close</th>\n",
       "      <th>Volume</th>\n",
       "      <th>Dividends</th>\n",
       "      <th>Stock Splits</th>\n",
       "    </tr>\n",
       "  </thead>\n",
       "  <tbody>\n",
       "    <tr>\n",
       "      <th>count</th>\n",
       "      <td>3609.000000</td>\n",
       "      <td>3609.000000</td>\n",
       "      <td>3609.000000</td>\n",
       "      <td>3609.000000</td>\n",
       "      <td>3.609000e+03</td>\n",
       "      <td>3609.0</td>\n",
       "      <td>3609.000000</td>\n",
       "    </tr>\n",
       "    <tr>\n",
       "      <th>mean</th>\n",
       "      <td>65.965366</td>\n",
       "      <td>66.726291</td>\n",
       "      <td>65.139128</td>\n",
       "      <td>65.949924</td>\n",
       "      <td>8.522320e+07</td>\n",
       "      <td>0.0</td>\n",
       "      <td>0.005542</td>\n",
       "    </tr>\n",
       "    <tr>\n",
       "      <th>std</th>\n",
       "      <td>56.640559</td>\n",
       "      <td>57.307405</td>\n",
       "      <td>55.916230</td>\n",
       "      <td>56.609913</td>\n",
       "      <td>5.185222e+07</td>\n",
       "      <td>0.0</td>\n",
       "      <td>0.332917</td>\n",
       "    </tr>\n",
       "    <tr>\n",
       "      <th>min</th>\n",
       "      <td>5.296500</td>\n",
       "      <td>5.564500</td>\n",
       "      <td>5.290000</td>\n",
       "      <td>5.430500</td>\n",
       "      <td>1.762600e+07</td>\n",
       "      <td>0.0</td>\n",
       "      <td>0.000000</td>\n",
       "    </tr>\n",
       "    <tr>\n",
       "      <th>25%</th>\n",
       "      <td>14.541000</td>\n",
       "      <td>14.690500</td>\n",
       "      <td>14.341000</td>\n",
       "      <td>14.567000</td>\n",
       "      <td>5.387800e+07</td>\n",
       "      <td>0.0</td>\n",
       "      <td>0.000000</td>\n",
       "    </tr>\n",
       "    <tr>\n",
       "      <th>50%</th>\n",
       "      <td>42.442001</td>\n",
       "      <td>42.653500</td>\n",
       "      <td>42.240002</td>\n",
       "      <td>42.431999</td>\n",
       "      <td>7.171200e+07</td>\n",
       "      <td>0.0</td>\n",
       "      <td>0.000000</td>\n",
       "    </tr>\n",
       "    <tr>\n",
       "      <th>75%</th>\n",
       "      <td>104.470001</td>\n",
       "      <td>106.790001</td>\n",
       "      <td>103.309998</td>\n",
       "      <td>105.449997</td>\n",
       "      <td>1.002120e+08</td>\n",
       "      <td>0.0</td>\n",
       "      <td>0.000000</td>\n",
       "    </tr>\n",
       "    <tr>\n",
       "      <th>max</th>\n",
       "      <td>187.720001</td>\n",
       "      <td>189.770004</td>\n",
       "      <td>185.509995</td>\n",
       "      <td>189.050003</td>\n",
       "      <td>8.484220e+08</td>\n",
       "      <td>0.0</td>\n",
       "      <td>20.000000</td>\n",
       "    </tr>\n",
       "  </tbody>\n",
       "</table>\n",
       "</div>"
      ],
      "text/plain": [
       "              Open         High          Low        Close        Volume  \\\n",
       "count  3609.000000  3609.000000  3609.000000  3609.000000  3.609000e+03   \n",
       "mean     65.965366    66.726291    65.139128    65.949924  8.522320e+07   \n",
       "std      56.640559    57.307405    55.916230    56.609913  5.185222e+07   \n",
       "min       5.296500     5.564500     5.290000     5.430500  1.762600e+07   \n",
       "25%      14.541000    14.690500    14.341000    14.567000  5.387800e+07   \n",
       "50%      42.442001    42.653500    42.240002    42.431999  7.171200e+07   \n",
       "75%     104.470001   106.790001   103.309998   105.449997  1.002120e+08   \n",
       "max     187.720001   189.770004   185.509995   189.050003  8.484220e+08   \n",
       "\n",
       "       Dividends  Stock Splits  \n",
       "count     3609.0   3609.000000  \n",
       "mean         0.0      0.005542  \n",
       "std          0.0      0.332917  \n",
       "min          0.0      0.000000  \n",
       "25%          0.0      0.000000  \n",
       "50%          0.0      0.000000  \n",
       "75%          0.0      0.000000  \n",
       "max          0.0     20.000000  "
      ]
     },
     "execution_count": 22,
     "metadata": {},
     "output_type": "execute_result"
    }
   ],
   "source": [
    "df.describe()"
   ]
  },
  {
   "cell_type": "code",
   "execution_count": 23,
   "metadata": {},
   "outputs": [
    {
     "name": "stdout",
     "output_type": "stream",
     "text": [
      "<class 'pandas.core.frame.DataFrame'>\n",
      "RangeIndex: 3609 entries, 0 to 3608\n",
      "Data columns (total 8 columns):\n",
      " #   Column        Non-Null Count  Dtype  \n",
      "---  ------        --------------  -----  \n",
      " 0   Date          3609 non-null   object \n",
      " 1   Open          3609 non-null   float64\n",
      " 2   High          3609 non-null   float64\n",
      " 3   Low           3609 non-null   float64\n",
      " 4   Close         3609 non-null   float64\n",
      " 5   Volume        3609 non-null   int64  \n",
      " 6   Dividends     3609 non-null   float64\n",
      " 7   Stock Splits  3609 non-null   float64\n",
      "dtypes: float64(6), int64(1), object(1)\n",
      "memory usage: 225.7+ KB\n"
     ]
    }
   ],
   "source": [
    "df.info()"
   ]
  },
  {
   "cell_type": "code",
   "execution_count": 24,
   "metadata": {},
   "outputs": [
    {
     "data": {
      "text/html": [
       "<div>\n",
       "<style scoped>\n",
       "    .dataframe tbody tr th:only-of-type {\n",
       "        vertical-align: middle;\n",
       "    }\n",
       "\n",
       "    .dataframe tbody tr th {\n",
       "        vertical-align: top;\n",
       "    }\n",
       "\n",
       "    .dataframe thead th {\n",
       "        text-align: right;\n",
       "    }\n",
       "</style>\n",
       "<table border=\"1\" class=\"dataframe\">\n",
       "  <thead>\n",
       "    <tr style=\"text-align: right;\">\n",
       "      <th></th>\n",
       "      <th>Date</th>\n",
       "      <th>Open</th>\n",
       "      <th>High</th>\n",
       "      <th>Low</th>\n",
       "      <th>Close</th>\n",
       "      <th>Volume</th>\n",
       "      <th>Dividends</th>\n",
       "      <th>Stock Splits</th>\n",
       "    </tr>\n",
       "  </thead>\n",
       "  <tbody>\n",
       "    <tr>\n",
       "      <th>0</th>\n",
       "      <td>False</td>\n",
       "      <td>False</td>\n",
       "      <td>False</td>\n",
       "      <td>False</td>\n",
       "      <td>False</td>\n",
       "      <td>False</td>\n",
       "      <td>False</td>\n",
       "      <td>False</td>\n",
       "    </tr>\n",
       "    <tr>\n",
       "      <th>1</th>\n",
       "      <td>False</td>\n",
       "      <td>False</td>\n",
       "      <td>False</td>\n",
       "      <td>False</td>\n",
       "      <td>False</td>\n",
       "      <td>False</td>\n",
       "      <td>False</td>\n",
       "      <td>False</td>\n",
       "    </tr>\n",
       "    <tr>\n",
       "      <th>2</th>\n",
       "      <td>False</td>\n",
       "      <td>False</td>\n",
       "      <td>False</td>\n",
       "      <td>False</td>\n",
       "      <td>False</td>\n",
       "      <td>False</td>\n",
       "      <td>False</td>\n",
       "      <td>False</td>\n",
       "    </tr>\n",
       "    <tr>\n",
       "      <th>3</th>\n",
       "      <td>False</td>\n",
       "      <td>False</td>\n",
       "      <td>False</td>\n",
       "      <td>False</td>\n",
       "      <td>False</td>\n",
       "      <td>False</td>\n",
       "      <td>False</td>\n",
       "      <td>False</td>\n",
       "    </tr>\n",
       "    <tr>\n",
       "      <th>4</th>\n",
       "      <td>False</td>\n",
       "      <td>False</td>\n",
       "      <td>False</td>\n",
       "      <td>False</td>\n",
       "      <td>False</td>\n",
       "      <td>False</td>\n",
       "      <td>False</td>\n",
       "      <td>False</td>\n",
       "    </tr>\n",
       "    <tr>\n",
       "      <th>...</th>\n",
       "      <td>...</td>\n",
       "      <td>...</td>\n",
       "      <td>...</td>\n",
       "      <td>...</td>\n",
       "      <td>...</td>\n",
       "      <td>...</td>\n",
       "      <td>...</td>\n",
       "      <td>...</td>\n",
       "    </tr>\n",
       "    <tr>\n",
       "      <th>3604</th>\n",
       "      <td>False</td>\n",
       "      <td>False</td>\n",
       "      <td>False</td>\n",
       "      <td>False</td>\n",
       "      <td>False</td>\n",
       "      <td>False</td>\n",
       "      <td>False</td>\n",
       "      <td>False</td>\n",
       "    </tr>\n",
       "    <tr>\n",
       "      <th>3605</th>\n",
       "      <td>False</td>\n",
       "      <td>False</td>\n",
       "      <td>False</td>\n",
       "      <td>False</td>\n",
       "      <td>False</td>\n",
       "      <td>False</td>\n",
       "      <td>False</td>\n",
       "      <td>False</td>\n",
       "    </tr>\n",
       "    <tr>\n",
       "      <th>3606</th>\n",
       "      <td>False</td>\n",
       "      <td>False</td>\n",
       "      <td>False</td>\n",
       "      <td>False</td>\n",
       "      <td>False</td>\n",
       "      <td>False</td>\n",
       "      <td>False</td>\n",
       "      <td>False</td>\n",
       "    </tr>\n",
       "    <tr>\n",
       "      <th>3607</th>\n",
       "      <td>False</td>\n",
       "      <td>False</td>\n",
       "      <td>False</td>\n",
       "      <td>False</td>\n",
       "      <td>False</td>\n",
       "      <td>False</td>\n",
       "      <td>False</td>\n",
       "      <td>False</td>\n",
       "    </tr>\n",
       "    <tr>\n",
       "      <th>3608</th>\n",
       "      <td>False</td>\n",
       "      <td>False</td>\n",
       "      <td>False</td>\n",
       "      <td>False</td>\n",
       "      <td>False</td>\n",
       "      <td>False</td>\n",
       "      <td>False</td>\n",
       "      <td>False</td>\n",
       "    </tr>\n",
       "  </tbody>\n",
       "</table>\n",
       "<p>3609 rows × 8 columns</p>\n",
       "</div>"
      ],
      "text/plain": [
       "       Date   Open   High    Low  Close  Volume  Dividends  Stock Splits\n",
       "0     False  False  False  False  False   False      False         False\n",
       "1     False  False  False  False  False   False      False         False\n",
       "2     False  False  False  False  False   False      False         False\n",
       "3     False  False  False  False  False   False      False         False\n",
       "4     False  False  False  False  False   False      False         False\n",
       "...     ...    ...    ...    ...    ...     ...        ...           ...\n",
       "3604  False  False  False  False  False   False      False         False\n",
       "3605  False  False  False  False  False   False      False         False\n",
       "3606  False  False  False  False  False   False      False         False\n",
       "3607  False  False  False  False  False   False      False         False\n",
       "3608  False  False  False  False  False   False      False         False\n",
       "\n",
       "[3609 rows x 8 columns]"
      ]
     },
     "execution_count": 24,
     "metadata": {},
     "output_type": "execute_result"
    }
   ],
   "source": [
    "#Checking for missing values\n",
    "df.isnull()"
   ]
  },
  {
   "cell_type": "code",
   "execution_count": 25,
   "metadata": {},
   "outputs": [
    {
     "data": {
      "image/png": "[encoded data removed]",
      "text/plain": [
       "<Figure size 1000x500 with 1 Axes>"
      ]
     },
     "metadata": {},
     "output_type": "display_data"
    }
   ],
   "source": [
    "#graph that shows amazon's closing price\n",
    "df['Close'].plot(figsize=(10, 5), legend=False)\n",
    "plt.xlabel('Date')\n",
    "plt.ylabel('Amazon Closing Price')\n",
    "plt.title('Amazon Closing Price Over Time')\n",
    "plt.show()"
   ]
  },
  {
   "cell_type": "markdown",
   "metadata": {},
   "source": [
    "Calculating the moving average of Amazon"
   ]
  },
  {
   "cell_type": "code",
   "execution_count": 26,
   "metadata": {},
   "outputs": [
    {
     "data": {
      "text/html": [
       "<div>\n",
       "<style scoped>\n",
       "    .dataframe tbody tr th:only-of-type {\n",
       "        vertical-align: middle;\n",
       "    }\n",
       "\n",
       "    .dataframe tbody tr th {\n",
       "        vertical-align: top;\n",
       "    }\n",
       "\n",
       "    .dataframe thead th {\n",
       "        text-align: right;\n",
       "    }\n",
       "</style>\n",
       "<table border=\"1\" class=\"dataframe\">\n",
       "  <thead>\n",
       "    <tr style=\"text-align: right;\">\n",
       "      <th></th>\n",
       "      <th>Date</th>\n",
       "      <th>Open</th>\n",
       "      <th>High</th>\n",
       "      <th>Low</th>\n",
       "      <th>Close</th>\n",
       "      <th>Volume</th>\n",
       "      <th>Dividends</th>\n",
       "      <th>Stock Splits</th>\n",
       "      <th>MA for 10 days</th>\n",
       "      <th>MA for 20 days</th>\n",
       "      <th>MA for 50 days</th>\n",
       "    </tr>\n",
       "  </thead>\n",
       "  <tbody>\n",
       "    <tr>\n",
       "      <th>3604</th>\n",
       "      <td>2024-04-30 00:00:00-04:00</td>\n",
       "      <td>181.089996</td>\n",
       "      <td>182.990005</td>\n",
       "      <td>174.800003</td>\n",
       "      <td>175.000000</td>\n",
       "      <td>94639800</td>\n",
       "      <td>0.0</td>\n",
       "      <td>0.0</td>\n",
       "      <td>177.773999</td>\n",
       "      <td>181.2075</td>\n",
       "      <td>178.1138</td>\n",
       "    </tr>\n",
       "    <tr>\n",
       "      <th>3605</th>\n",
       "      <td>2024-05-01 00:00:00-04:00</td>\n",
       "      <td>181.639999</td>\n",
       "      <td>185.149994</td>\n",
       "      <td>176.559998</td>\n",
       "      <td>179.000000</td>\n",
       "      <td>94645100</td>\n",
       "      <td>0.0</td>\n",
       "      <td>0.0</td>\n",
       "      <td>177.545999</td>\n",
       "      <td>181.0370</td>\n",
       "      <td>178.3522</td>\n",
       "    </tr>\n",
       "    <tr>\n",
       "      <th>3606</th>\n",
       "      <td>2024-05-02 00:00:00-04:00</td>\n",
       "      <td>180.850006</td>\n",
       "      <td>185.100006</td>\n",
       "      <td>179.910004</td>\n",
       "      <td>184.720001</td>\n",
       "      <td>54303500</td>\n",
       "      <td>0.0</td>\n",
       "      <td>0.0</td>\n",
       "      <td>178.095999</td>\n",
       "      <td>181.2730</td>\n",
       "      <td>178.6748</td>\n",
       "    </tr>\n",
       "    <tr>\n",
       "      <th>3607</th>\n",
       "      <td>2024-05-03 00:00:00-04:00</td>\n",
       "      <td>186.990005</td>\n",
       "      <td>187.869995</td>\n",
       "      <td>185.419998</td>\n",
       "      <td>186.210007</td>\n",
       "      <td>39172000</td>\n",
       "      <td>0.0</td>\n",
       "      <td>0.0</td>\n",
       "      <td>179.253999</td>\n",
       "      <td>181.3300</td>\n",
       "      <td>178.9074</td>\n",
       "    </tr>\n",
       "    <tr>\n",
       "      <th>3608</th>\n",
       "      <td>2024-05-06 00:00:00-04:00</td>\n",
       "      <td>186.279999</td>\n",
       "      <td>188.750000</td>\n",
       "      <td>184.800003</td>\n",
       "      <td>188.699997</td>\n",
       "      <td>34653900</td>\n",
       "      <td>0.0</td>\n",
       "      <td>0.0</td>\n",
       "      <td>180.400999</td>\n",
       "      <td>181.5055</td>\n",
       "      <td>179.1816</td>\n",
       "    </tr>\n",
       "  </tbody>\n",
       "</table>\n",
       "</div>"
      ],
      "text/plain": [
       "                           Date        Open        High         Low  \\\n",
       "3604  2024-04-30 00:00:00-04:00  181.089996  182.990005  174.800003   \n",
       "3605  2024-05-01 00:00:00-04:00  181.639999  185.149994  176.559998   \n",
       "3606  2024-05-02 00:00:00-04:00  180.850006  185.100006  179.910004   \n",
       "3607  2024-05-03 00:00:00-04:00  186.990005  187.869995  185.419998   \n",
       "3608  2024-05-06 00:00:00-04:00  186.279999  188.750000  184.800003   \n",
       "\n",
       "           Close    Volume  Dividends  Stock Splits  MA for 10 days  \\\n",
       "3604  175.000000  94639800        0.0           0.0      177.773999   \n",
       "3605  179.000000  94645100        0.0           0.0      177.545999   \n",
       "3606  184.720001  54303500        0.0           0.0      178.095999   \n",
       "3607  186.210007  39172000        0.0           0.0      179.253999   \n",
       "3608  188.699997  34653900        0.0           0.0      180.400999   \n",
       "\n",
       "      MA for 20 days  MA for 50 days  \n",
       "3604        181.2075        178.1138  \n",
       "3605        181.0370        178.3522  \n",
       "3606        181.2730        178.6748  \n",
       "3607        181.3300        178.9074  \n",
       "3608        181.5055        179.1816  "
      ]
     },
     "execution_count": 26,
     "metadata": {},
     "output_type": "execute_result"
    }
   ],
   "source": [
    "#we are calculating the moving averages and adding it as new columns to the dataset\n",
    "ma_day = [10,20,50]\n",
    "\n",
    "for ma in ma_day:\n",
    "    column_name = \"MA for %s days\" %(str(ma))\n",
    "    df[column_name] = df['Close'].rolling(window=ma,center=False).mean()\n",
    "\n",
    "df.tail()    "
   ]
  },
  {
   "cell_type": "markdown",
   "metadata": {},
   "source": [
    "Moving average between 2020 and 2021 where we can see the impact of the pandemic"
   ]
  },
  {
   "cell_type": "code",
   "execution_count": 27,
   "metadata": {},
   "outputs": [
    {
     "name": "stdout",
     "output_type": "stream",
     "text": [
      "int64\n"
     ]
    }
   ],
   "source": [
    "print(df.index.dtype)"
   ]
  },
  {
   "cell_type": "code",
   "execution_count": 28,
   "metadata": {},
   "outputs": [],
   "source": [
    "df.index = pd.to_datetime(df.index)"
   ]
  },
  {
   "cell_type": "code",
   "execution_count": 29,
   "metadata": {},
   "outputs": [
    {
     "data": {
      "text/plain": [
       "(array([-0.06, -0.04, -0.02,  0.  ,  0.02,  0.04,  0.06]),\n",
       " [Text(-0.06, 0, '−0.06'),\n",
       "  Text(-0.039999999999999994, 0, '−0.04'),\n",
       "  Text(-0.019999999999999997, 0, '−0.02'),\n",
       "  Text(0.0, 0, '0.00'),\n",
       "  Text(0.020000000000000004, 0, '0.02'),\n",
       "  Text(0.04000000000000001, 0, '0.04'),\n",
       "  Text(0.06, 0, '0.06')])"
      ]
     },
     "execution_count": 29,
     "metadata": {},
     "output_type": "execute_result"
    },
    {
     "data": {
      "image/png": "[encoded data removed]",
      "text/plain": [
       "<Figure size 1200x500 with 1 Axes>"
      ]
     },
     "metadata": {},
     "output_type": "display_data"
    }
   ],
   "source": [
    "#Moving average between 2020 and 2021 where we can see the impact of the pandemic\n",
    "df.truncate(before='2020-01-01', after='2021-01-01')[['Close','MA for 10 days','MA for 20 days','MA for 50 days']].plot(subplots=False,figsize=(12,5))\n",
    "plt.xticks(rotation=45)"
   ]
  },
  {
   "cell_type": "markdown",
   "metadata": {},
   "source": [
    "Average daily return"
   ]
  },
  {
   "cell_type": "code",
   "execution_count": 30,
   "metadata": {},
   "outputs": [],
   "source": [
    "#the daily return column can be created by using the percentage change over the adjusted closing price\n",
    "df['Daily Return'] = df['Close'].pct_change()"
   ]
  },
  {
   "cell_type": "code",
   "execution_count": 31,
   "metadata": {},
   "outputs": [
    {
     "data": {
      "text/plain": [
       "1970-01-01 00:00:00.000000000         NaN\n",
       "1970-01-01 00:00:00.000000001    0.005900\n",
       "1970-01-01 00:00:00.000000002   -0.018116\n",
       "1970-01-01 00:00:00.000000003   -0.017013\n",
       "1970-01-01 00:00:00.000000004    0.027077\n",
       "                                   ...   \n",
       "1970-01-01 00:00:00.000003604   -0.032935\n",
       "1970-01-01 00:00:00.000003605    0.022857\n",
       "1970-01-01 00:00:00.000003606    0.031955\n",
       "1970-01-01 00:00:00.000003607    0.008066\n",
       "1970-01-01 00:00:00.000003608    0.013372\n",
       "Name: Daily Return, Length: 3609, dtype: float64"
      ]
     },
     "execution_count": 31,
     "metadata": {},
     "output_type": "execute_result"
    }
   ],
   "source": [
    "df['Daily Return']"
   ]
  },
  {
   "cell_type": "code",
   "execution_count": 32,
   "metadata": {},
   "outputs": [
    {
     "data": {
      "text/plain": [
       "<seaborn.axisgrid.FacetGrid at 0x2149f4e6d50>"
      ]
     },
     "execution_count": 32,
     "metadata": {},
     "output_type": "execute_result"
    },
    {
     "data": {
      "image/png": "[encoded data removed]",
      "text/plain": [
       "<Figure size 500x500 with 1 Axes>"
      ]
     },
     "metadata": {},
     "output_type": "display_data"
    }
   ],
   "source": [
    "#showing a graph for the daily return\n",
    "sns.displot(df['Daily Return'].dropna(),bins=50,color='blue')"
   ]
  }
 ],
 "metadata": {
  "kernelspec": {
   "display_name": "Python 3",
   "language": "python",
   "name": "python3"
  },
  "language_info": {
   "codemirror_mode": {
    "name": "ipython",
    "version": 3
   },
   "file_extension": ".py",
   "mimetype": "text/x-python",
   "name": "python",
   "nbconvert_exporter": "python",
   "pygments_lexer": "ipython3",
   "version": "3.11.4"
  }
 },
 "nbformat": 4,
 "nbformat_minor": 2
}
