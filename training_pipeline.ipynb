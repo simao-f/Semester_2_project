{
 "cells": [
  {
   "cell_type": "markdown",
   "metadata": {},
   "source": [
    "Connecting to Hopsworks "
   ]
  },
  {
   "cell_type": "code",
   "execution_count": 1,
   "metadata": {
    "metadata": {}
   },
   "outputs": [
    {
     "name": "stdout",
     "output_type": "stream",
     "text": [
      "Requirement already satisfied: pandas in ./Keri.conda/lib/python3.11/site-packages (from -r requirements.txt (line 1)) (2.1.4)\n",
      "Requirement already satisfied: numpy in ./Keri.conda/lib/python3.11/site-packages (from -r requirements.txt (line 2)) (1.26.4)\n",
      "Requirement already satisfied: scikit-learn in ./Keri.conda/lib/python3.11/site-packages (from -r requirements.txt (line 3)) (1.4.2)\n",
      "Requirement already satisfied: requests in ./Keri.conda/lib/python3.11/site-packages (from -r requirements.txt (line 4)) (2.31.0)\n",
      "Requirement already satisfied: python-dotenv in ./Keri.conda/lib/python3.11/site-packages (from -r requirements.txt (line 5)) (1.0.1)\n",
      "Requirement already satisfied: seaborn in ./Keri.conda/lib/python3.11/site-packages (from -r requirements.txt (line 6)) (0.13.2)\n",
      "Requirement already satisfied: matplotlib in ./Keri.conda/lib/python3.11/site-packages (from -r requirements.txt (line 7)) (3.8.4)\n",
      "Requirement already satisfied: yfinance in ./Keri.conda/lib/python3.11/site-packages (from -r requirements.txt (line 8)) (0.2.38)\n",
      "Requirement already satisfied: ta in ./Keri.conda/lib/python3.11/site-packages (from -r requirements.txt (line 9)) (0.11.0)\n",
      "Requirement already satisfied: features in ./Keri.conda/lib/python3.11/site-packages (from -r requirements.txt (line 10)) (0.5.12)\n",
      "Requirement already satisfied: hopsworks in ./Keri.conda/lib/python3.11/site-packages (from -r requirements.txt (line 11)) (3.7.0)\n",
      "Requirement already satisfied: python-dateutil>=2.8.2 in ./Keri.conda/lib/python3.11/site-packages (from pandas->-r requirements.txt (line 1)) (2.9.0)\n",
      "Requirement already satisfied: pytz>=2020.1 in ./Keri.conda/lib/python3.11/site-packages (from pandas->-r requirements.txt (line 1)) (2024.1)\n",
      "Requirement already satisfied: tzdata>=2022.1 in ./Keri.conda/lib/python3.11/site-packages (from pandas->-r requirements.txt (line 1)) (2024.1)\n",
      "Requirement already satisfied: scipy>=1.6.0 in ./Keri.conda/lib/python3.11/site-packages (from scikit-learn->-r requirements.txt (line 3)) (1.13.0)\n",
      "Requirement already satisfied: joblib>=1.2.0 in ./Keri.conda/lib/python3.11/site-packages (from scikit-learn->-r requirements.txt (line 3)) (1.4.0)\n",
      "Requirement already satisfied: threadpoolctl>=2.0.0 in ./Keri.conda/lib/python3.11/site-packages (from scikit-learn->-r requirements.txt (line 3)) (3.5.0)\n",
      "Requirement already satisfied: charset-normalizer<4,>=2 in ./Keri.conda/lib/python3.11/site-packages (from requests->-r requirements.txt (line 4)) (3.3.2)\n",
      "Requirement already satisfied: idna<4,>=2.5 in ./Keri.conda/lib/python3.11/site-packages (from requests->-r requirements.txt (line 4)) (3.7)\n",
      "Requirement already satisfied: urllib3<3,>=1.21.1 in ./Keri.conda/lib/python3.11/site-packages (from requests->-r requirements.txt (line 4)) (1.26.18)\n",
      "Requirement already satisfied: certifi>=2017.4.17 in ./Keri.conda/lib/python3.11/site-packages (from requests->-r requirements.txt (line 4)) (2024.2.2)\n",
      "Requirement already satisfied: contourpy>=1.0.1 in ./Keri.conda/lib/python3.11/site-packages (from matplotlib->-r requirements.txt (line 7)) (1.2.1)\n",
      "Requirement already satisfied: cycler>=0.10 in ./Keri.conda/lib/python3.11/site-packages (from matplotlib->-r requirements.txt (line 7)) (0.12.1)\n",
      "Requirement already satisfied: fonttools>=4.22.0 in ./Keri.conda/lib/python3.11/site-packages (from matplotlib->-r requirements.txt (line 7)) (4.51.0)\n",
      "Requirement already satisfied: kiwisolver>=1.3.1 in ./Keri.conda/lib/python3.11/site-packages (from matplotlib->-r requirements.txt (line 7)) (1.4.5)\n",
      "Requirement already satisfied: packaging>=20.0 in ./Keri.conda/lib/python3.11/site-packages (from matplotlib->-r requirements.txt (line 7)) (24.0)\n",
      "Requirement already satisfied: pillow>=8 in ./Keri.conda/lib/python3.11/site-packages (from matplotlib->-r requirements.txt (line 7)) (10.3.0)\n",
      "Requirement already satisfied: pyparsing>=2.3.1 in ./Keri.conda/lib/python3.11/site-packages (from matplotlib->-r requirements.txt (line 7)) (2.4.7)\n",
      "Requirement already satisfied: multitasking>=0.0.7 in ./Keri.conda/lib/python3.11/site-packages (from yfinance->-r requirements.txt (line 8)) (0.0.11)\n",
      "Requirement already satisfied: lxml>=4.9.1 in ./Keri.conda/lib/python3.11/site-packages (from yfinance->-r requirements.txt (line 8)) (5.2.1)\n",
      "Requirement already satisfied: appdirs>=1.4.4 in ./Keri.conda/lib/python3.11/site-packages (from yfinance->-r requirements.txt (line 8)) (1.4.4)\n",
      "Requirement already satisfied: frozendict>=2.3.4 in ./Keri.conda/lib/python3.11/site-packages (from yfinance->-r requirements.txt (line 8)) (2.4.2)\n",
      "Requirement already satisfied: peewee>=3.16.2 in ./Keri.conda/lib/python3.11/site-packages (from yfinance->-r requirements.txt (line 8)) (3.17.3)\n",
      "Requirement already satisfied: beautifulsoup4>=4.11.1 in ./Keri.conda/lib/python3.11/site-packages (from yfinance->-r requirements.txt (line 8)) (4.12.3)\n",
      "Requirement already satisfied: html5lib>=1.1 in ./Keri.conda/lib/python3.11/site-packages (from yfinance->-r requirements.txt (line 8)) (1.1)\n",
      "Requirement already satisfied: concepts~=0.7 in ./Keri.conda/lib/python3.11/site-packages (from features->-r requirements.txt (line 10)) (0.9.2)\n",
      "Requirement already satisfied: fileconfig~=0.5 in ./Keri.conda/lib/python3.11/site-packages (from features->-r requirements.txt (line 10)) (0.6.1)\n",
      "Requirement already satisfied: graphviz~=0.7 in ./Keri.conda/lib/python3.11/site-packages (from features->-r requirements.txt (line 10)) (0.20.3)\n",
      "Requirement already satisfied: hsfs<3.8.0,>=3.7.0 in ./Keri.conda/lib/python3.11/site-packages (from hsfs[python]<3.8.0,>=3.7.0->hopsworks->-r requirements.txt (line 11)) (3.7.5)\n",
      "Requirement already satisfied: hsml<3.8.0,>=3.7.0 in ./Keri.conda/lib/python3.11/site-packages (from hopsworks->-r requirements.txt (line 11)) (3.7.1)\n",
      "Requirement already satisfied: pyhumps==1.6.1 in ./Keri.conda/lib/python3.11/site-packages (from hopsworks->-r requirements.txt (line 11)) (1.6.1)\n",
      "Requirement already satisfied: furl in ./Keri.conda/lib/python3.11/site-packages (from hopsworks->-r requirements.txt (line 11)) (2.1.3)\n",
      "Requirement already satisfied: boto3 in ./Keri.conda/lib/python3.11/site-packages (from hopsworks->-r requirements.txt (line 11)) (1.34.97)\n",
      "Requirement already satisfied: pyjks in ./Keri.conda/lib/python3.11/site-packages (from hopsworks->-r requirements.txt (line 11)) (20.0.0)\n",
      "Requirement already satisfied: mock in ./Keri.conda/lib/python3.11/site-packages (from hopsworks->-r requirements.txt (line 11)) (5.1.0)\n",
      "Requirement already satisfied: tqdm in ./Keri.conda/lib/python3.11/site-packages (from hopsworks->-r requirements.txt (line 11)) (4.66.4)\n",
      "Requirement already satisfied: soupsieve>1.2 in ./Keri.conda/lib/python3.11/site-packages (from beautifulsoup4>=4.11.1->yfinance->-r requirements.txt (line 8)) (2.5)\n",
      "Requirement already satisfied: bitsets~=0.7 in ./Keri.conda/lib/python3.11/site-packages (from concepts~=0.7->features->-r requirements.txt (line 10)) (0.8.4)\n",
      "Requirement already satisfied: avro==1.11.3 in ./Keri.conda/lib/python3.11/site-packages (from hsfs<3.8.0,>=3.7.0->hsfs[python]<3.8.0,>=3.7.0->hopsworks->-r requirements.txt (line 11)) (1.11.3)\n",
      "Requirement already satisfied: sqlalchemy<=1.4.48 in ./Keri.conda/lib/python3.11/site-packages (from hsfs<3.8.0,>=3.7.0->hsfs[python]<3.8.0,>=3.7.0->hopsworks->-r requirements.txt (line 11)) (1.4.48)\n",
      "Requirement already satisfied: PyMySQL[rsa] in ./Keri.conda/lib/python3.11/site-packages (from hsfs<3.8.0,>=3.7.0->hsfs[python]<3.8.0,>=3.7.0->hopsworks->-r requirements.txt (line 11)) (1.1.0)\n",
      "Requirement already satisfied: great-expectations==0.15.12 in ./Keri.conda/lib/python3.11/site-packages (from hsfs<3.8.0,>=3.7.0->hsfs[python]<3.8.0,>=3.7.0->hopsworks->-r requirements.txt (line 11)) (0.15.12)\n",
      "Requirement already satisfied: tzlocal in ./Keri.conda/lib/python3.11/site-packages (from hsfs<3.8.0,>=3.7.0->hsfs[python]<3.8.0,>=3.7.0->hopsworks->-r requirements.txt (line 11)) (5.2)\n",
      "Requirement already satisfied: fsspec in ./Keri.conda/lib/python3.11/site-packages (from hsfs<3.8.0,>=3.7.0->hsfs[python]<3.8.0,>=3.7.0->hopsworks->-r requirements.txt (line 11)) (2024.3.1)\n",
      "Requirement already satisfied: retrying in ./Keri.conda/lib/python3.11/site-packages (from hsfs<3.8.0,>=3.7.0->hsfs[python]<3.8.0,>=3.7.0->hopsworks->-r requirements.txt (line 11)) (1.3.4)\n",
      "Requirement already satisfied: aiomysql in ./Keri.conda/lib/python3.11/site-packages (from hsfs<3.8.0,>=3.7.0->hsfs[python]<3.8.0,>=3.7.0->hopsworks->-r requirements.txt (line 11)) (0.2.0)\n",
      "Requirement already satisfied: opensearch-py<=2.4.2,>=1.1.0 in ./Keri.conda/lib/python3.11/site-packages (from hsfs<3.8.0,>=3.7.0->hsfs[python]<3.8.0,>=3.7.0->hopsworks->-r requirements.txt (line 11)) (2.4.2)\n",
      "Requirement already satisfied: altair<5,>=4.0.0 in ./Keri.conda/lib/python3.11/site-packages (from great-expectations==0.15.12->hsfs<3.8.0,>=3.7.0->hsfs[python]<3.8.0,>=3.7.0->hopsworks->-r requirements.txt (line 11)) (4.2.2)\n",
      "Requirement already satisfied: Click>=7.1.2 in ./Keri.conda/lib/python3.11/site-packages (from great-expectations==0.15.12->hsfs<3.8.0,>=3.7.0->hsfs[python]<3.8.0,>=3.7.0->hopsworks->-r requirements.txt (line 11)) (8.1.7)\n",
      "Requirement already satisfied: colorama>=0.4.3 in ./Keri.conda/lib/python3.11/site-packages (from great-expectations==0.15.12->hsfs<3.8.0,>=3.7.0->hsfs[python]<3.8.0,>=3.7.0->hopsworks->-r requirements.txt (line 11)) (0.4.6)\n",
      "Requirement already satisfied: cryptography>=3.2 in ./Keri.conda/lib/python3.11/site-packages (from great-expectations==0.15.12->hsfs<3.8.0,>=3.7.0->hsfs[python]<3.8.0,>=3.7.0->hopsworks->-r requirements.txt (line 11)) (42.0.5)\n",
      "Requirement already satisfied: importlib-metadata>=1.7.0 in ./Keri.conda/lib/python3.11/site-packages (from great-expectations==0.15.12->hsfs<3.8.0,>=3.7.0->hsfs[python]<3.8.0,>=3.7.0->hopsworks->-r requirements.txt (line 11)) (7.1.0)\n",
      "Requirement already satisfied: Ipython>=7.16.3 in ./Keri.conda/lib/python3.11/site-packages (from great-expectations==0.15.12->hsfs<3.8.0,>=3.7.0->hsfs[python]<3.8.0,>=3.7.0->hopsworks->-r requirements.txt (line 11)) (8.22.2)\n",
      "Requirement already satisfied: jinja2>=2.10 in ./Keri.conda/lib/python3.11/site-packages (from great-expectations==0.15.12->hsfs<3.8.0,>=3.7.0->hsfs[python]<3.8.0,>=3.7.0->hopsworks->-r requirements.txt (line 11)) (3.1.3)\n",
      "Requirement already satisfied: jsonpatch>=1.22 in ./Keri.conda/lib/python3.11/site-packages (from great-expectations==0.15.12->hsfs<3.8.0,>=3.7.0->hsfs[python]<3.8.0,>=3.7.0->hopsworks->-r requirements.txt (line 11)) (1.33)\n",
      "Requirement already satisfied: jsonschema>=2.5.1 in ./Keri.conda/lib/python3.11/site-packages (from great-expectations==0.15.12->hsfs<3.8.0,>=3.7.0->hsfs[python]<3.8.0,>=3.7.0->hopsworks->-r requirements.txt (line 11)) (4.22.0)\n",
      "Requirement already satisfied: mistune>=0.8.4 in ./Keri.conda/lib/python3.11/site-packages (from great-expectations==0.15.12->hsfs<3.8.0,>=3.7.0->hsfs[python]<3.8.0,>=3.7.0->hopsworks->-r requirements.txt (line 11)) (3.0.2)\n",
      "Requirement already satisfied: nbformat>=5.0 in ./Keri.conda/lib/python3.11/site-packages (from great-expectations==0.15.12->hsfs<3.8.0,>=3.7.0->hsfs[python]<3.8.0,>=3.7.0->hopsworks->-r requirements.txt (line 11)) (5.10.4)\n",
      "Requirement already satisfied: notebook>=6.4.10 in ./Keri.conda/lib/python3.11/site-packages (from great-expectations==0.15.12->hsfs<3.8.0,>=3.7.0->hsfs[python]<3.8.0,>=3.7.0->hopsworks->-r requirements.txt (line 11)) (7.1.3)\n",
      "Requirement already satisfied: ruamel.yaml<0.17.18,>=0.16 in ./Keri.conda/lib/python3.11/site-packages (from great-expectations==0.15.12->hsfs<3.8.0,>=3.7.0->hsfs[python]<3.8.0,>=3.7.0->hopsworks->-r requirements.txt (line 11)) (0.17.17)\n",
      "Requirement already satisfied: termcolor>=1.1.0 in ./Keri.conda/lib/python3.11/site-packages (from great-expectations==0.15.12->hsfs<3.8.0,>=3.7.0->hsfs[python]<3.8.0,>=3.7.0->hopsworks->-r requirements.txt (line 11)) (2.4.0)\n",
      "Requirement already satisfied: typing-extensions>=3.10.0.0 in ./Keri.conda/lib/python3.11/site-packages (from great-expectations==0.15.12->hsfs<3.8.0,>=3.7.0->hsfs[python]<3.8.0,>=3.7.0->hopsworks->-r requirements.txt (line 11)) (4.11.0)\n",
      "Requirement already satisfied: pyhopshive[thrift] in ./Keri.conda/lib/python3.11/site-packages (from hsfs[python]<3.8.0,>=3.7.0->hopsworks->-r requirements.txt (line 11)) (0.6.4.1.dev0)\n",
      "Requirement already satisfied: pyarrow>=10.0 in ./Keri.conda/lib/python3.11/site-packages (from hsfs[python]<3.8.0,>=3.7.0->hopsworks->-r requirements.txt (line 11)) (16.0.0)\n",
      "Requirement already satisfied: confluent-kafka<=2.3.0 in ./Keri.conda/lib/python3.11/site-packages (from hsfs[python]<3.8.0,>=3.7.0->hopsworks->-r requirements.txt (line 11)) (2.3.0)\n",
      "Requirement already satisfied: fastavro<=1.8.4,>=1.4.11 in ./Keri.conda/lib/python3.11/site-packages (from hsfs[python]<3.8.0,>=3.7.0->hopsworks->-r requirements.txt (line 11)) (1.8.4)\n",
      "Requirement already satisfied: six>=1.9 in ./Keri.conda/lib/python3.11/site-packages (from html5lib>=1.1->yfinance->-r requirements.txt (line 8)) (1.16.0)\n",
      "Requirement already satisfied: webencodings in ./Keri.conda/lib/python3.11/site-packages (from html5lib>=1.1->yfinance->-r requirements.txt (line 8)) (0.5.1)\n",
      "Requirement already satisfied: botocore<1.35.0,>=1.34.97 in ./Keri.conda/lib/python3.11/site-packages (from boto3->hopsworks->-r requirements.txt (line 11)) (1.34.97)\n",
      "Requirement already satisfied: jmespath<2.0.0,>=0.7.1 in ./Keri.conda/lib/python3.11/site-packages (from boto3->hopsworks->-r requirements.txt (line 11)) (1.0.1)\n",
      "Requirement already satisfied: s3transfer<0.11.0,>=0.10.0 in ./Keri.conda/lib/python3.11/site-packages (from boto3->hopsworks->-r requirements.txt (line 11)) (0.10.1)\n",
      "Requirement already satisfied: orderedmultidict>=1.0.1 in ./Keri.conda/lib/python3.11/site-packages (from furl->hopsworks->-r requirements.txt (line 11)) (1.0.1)\n",
      "Requirement already satisfied: javaobj-py3 in ./Keri.conda/lib/python3.11/site-packages (from pyjks->hopsworks->-r requirements.txt (line 11)) (0.4.4)\n",
      "Requirement already satisfied: pyasn1>=0.3.5 in ./Keri.conda/lib/python3.11/site-packages (from pyjks->hopsworks->-r requirements.txt (line 11)) (0.6.0)\n",
      "Requirement already satisfied: pyasn1-modules in ./Keri.conda/lib/python3.11/site-packages (from pyjks->hopsworks->-r requirements.txt (line 11)) (0.4.0)\n",
      "Requirement already satisfied: pycryptodomex in ./Keri.conda/lib/python3.11/site-packages (from pyjks->hopsworks->-r requirements.txt (line 11)) (3.20.0)\n",
      "Requirement already satisfied: twofish in ./Keri.conda/lib/python3.11/site-packages (from pyjks->hopsworks->-r requirements.txt (line 11)) (0.3.0)\n",
      "Requirement already satisfied: future in ./Keri.conda/lib/python3.11/site-packages (from pyhopshive[thrift]; extra == \"python\"->hsfs[python]<3.8.0,>=3.7.0->hopsworks->-r requirements.txt (line 11)) (1.0.0)\n",
      "Requirement already satisfied: thrift>=0.10.0 in ./Keri.conda/lib/python3.11/site-packages (from pyhopshive[thrift]; extra == \"python\"->hsfs[python]<3.8.0,>=3.7.0->hopsworks->-r requirements.txt (line 11)) (0.20.0)\n",
      "Requirement already satisfied: entrypoints in ./Keri.conda/lib/python3.11/site-packages (from altair<5,>=4.0.0->great-expectations==0.15.12->hsfs<3.8.0,>=3.7.0->hsfs[python]<3.8.0,>=3.7.0->hopsworks->-r requirements.txt (line 11)) (0.4)\n",
      "Requirement already satisfied: toolz in ./Keri.conda/lib/python3.11/site-packages (from altair<5,>=4.0.0->great-expectations==0.15.12->hsfs<3.8.0,>=3.7.0->hsfs[python]<3.8.0,>=3.7.0->hopsworks->-r requirements.txt (line 11)) (0.12.1)\n",
      "Requirement already satisfied: cffi>=1.12 in ./Keri.conda/lib/python3.11/site-packages (from cryptography>=3.2->great-expectations==0.15.12->hsfs<3.8.0,>=3.7.0->hsfs[python]<3.8.0,>=3.7.0->hopsworks->-r requirements.txt (line 11)) (1.16.0)\n",
      "Requirement already satisfied: zipp>=0.5 in ./Keri.conda/lib/python3.11/site-packages (from importlib-metadata>=1.7.0->great-expectations==0.15.12->hsfs<3.8.0,>=3.7.0->hsfs[python]<3.8.0,>=3.7.0->hopsworks->-r requirements.txt (line 11)) (3.17.0)\n",
      "Requirement already satisfied: decorator in ./Keri.conda/lib/python3.11/site-packages (from Ipython>=7.16.3->great-expectations==0.15.12->hsfs<3.8.0,>=3.7.0->hsfs[python]<3.8.0,>=3.7.0->hopsworks->-r requirements.txt (line 11)) (5.1.1)\n",
      "Requirement already satisfied: jedi>=0.16 in ./Keri.conda/lib/python3.11/site-packages (from Ipython>=7.16.3->great-expectations==0.15.12->hsfs<3.8.0,>=3.7.0->hsfs[python]<3.8.0,>=3.7.0->hopsworks->-r requirements.txt (line 11)) (0.19.1)\n",
      "Requirement already satisfied: matplotlib-inline in ./Keri.conda/lib/python3.11/site-packages (from Ipython>=7.16.3->great-expectations==0.15.12->hsfs<3.8.0,>=3.7.0->hsfs[python]<3.8.0,>=3.7.0->hopsworks->-r requirements.txt (line 11)) (0.1.7)\n",
      "Requirement already satisfied: prompt-toolkit<3.1.0,>=3.0.41 in ./Keri.conda/lib/python3.11/site-packages (from Ipython>=7.16.3->great-expectations==0.15.12->hsfs<3.8.0,>=3.7.0->hsfs[python]<3.8.0,>=3.7.0->hopsworks->-r requirements.txt (line 11)) (3.0.42)\n",
      "Requirement already satisfied: pygments>=2.4.0 in ./Keri.conda/lib/python3.11/site-packages (from Ipython>=7.16.3->great-expectations==0.15.12->hsfs<3.8.0,>=3.7.0->hsfs[python]<3.8.0,>=3.7.0->hopsworks->-r requirements.txt (line 11)) (2.17.2)\n",
      "Requirement already satisfied: stack-data in ./Keri.conda/lib/python3.11/site-packages (from Ipython>=7.16.3->great-expectations==0.15.12->hsfs<3.8.0,>=3.7.0->hsfs[python]<3.8.0,>=3.7.0->hopsworks->-r requirements.txt (line 11)) (0.6.2)\n",
      "Requirement already satisfied: traitlets>=5.13.0 in ./Keri.conda/lib/python3.11/site-packages (from Ipython>=7.16.3->great-expectations==0.15.12->hsfs<3.8.0,>=3.7.0->hsfs[python]<3.8.0,>=3.7.0->hopsworks->-r requirements.txt (line 11)) (5.14.3)\n",
      "Requirement already satisfied: pexpect>4.3 in ./Keri.conda/lib/python3.11/site-packages (from Ipython>=7.16.3->great-expectations==0.15.12->hsfs<3.8.0,>=3.7.0->hsfs[python]<3.8.0,>=3.7.0->hopsworks->-r requirements.txt (line 11)) (4.9.0)\n",
      "Requirement already satisfied: MarkupSafe>=2.0 in ./Keri.conda/lib/python3.11/site-packages (from jinja2>=2.10->great-expectations==0.15.12->hsfs<3.8.0,>=3.7.0->hsfs[python]<3.8.0,>=3.7.0->hopsworks->-r requirements.txt (line 11)) (2.1.5)\n",
      "Requirement already satisfied: jsonpointer>=1.9 in ./Keri.conda/lib/python3.11/site-packages (from jsonpatch>=1.22->great-expectations==0.15.12->hsfs<3.8.0,>=3.7.0->hsfs[python]<3.8.0,>=3.7.0->hopsworks->-r requirements.txt (line 11)) (2.4)\n",
      "Requirement already satisfied: attrs>=22.2.0 in ./Keri.conda/lib/python3.11/site-packages (from jsonschema>=2.5.1->great-expectations==0.15.12->hsfs<3.8.0,>=3.7.0->hsfs[python]<3.8.0,>=3.7.0->hopsworks->-r requirements.txt (line 11)) (23.2.0)\n",
      "Requirement already satisfied: jsonschema-specifications>=2023.03.6 in ./Keri.conda/lib/python3.11/site-packages (from jsonschema>=2.5.1->great-expectations==0.15.12->hsfs<3.8.0,>=3.7.0->hsfs[python]<3.8.0,>=3.7.0->hopsworks->-r requirements.txt (line 11)) (2023.12.1)\n",
      "Requirement already satisfied: referencing>=0.28.4 in ./Keri.conda/lib/python3.11/site-packages (from jsonschema>=2.5.1->great-expectations==0.15.12->hsfs<3.8.0,>=3.7.0->hsfs[python]<3.8.0,>=3.7.0->hopsworks->-r requirements.txt (line 11)) (0.35.1)\n",
      "Requirement already satisfied: rpds-py>=0.7.1 in ./Keri.conda/lib/python3.11/site-packages (from jsonschema>=2.5.1->great-expectations==0.15.12->hsfs<3.8.0,>=3.7.0->hsfs[python]<3.8.0,>=3.7.0->hopsworks->-r requirements.txt (line 11)) (0.18.0)\n",
      "Requirement already satisfied: fastjsonschema>=2.15 in ./Keri.conda/lib/python3.11/site-packages (from nbformat>=5.0->great-expectations==0.15.12->hsfs<3.8.0,>=3.7.0->hsfs[python]<3.8.0,>=3.7.0->hopsworks->-r requirements.txt (line 11)) (2.19.1)\n",
      "Requirement already satisfied: jupyter-core!=5.0.*,>=4.12 in ./Keri.conda/lib/python3.11/site-packages (from nbformat>=5.0->great-expectations==0.15.12->hsfs<3.8.0,>=3.7.0->hsfs[python]<3.8.0,>=3.7.0->hopsworks->-r requirements.txt (line 11)) (5.5.0)\n",
      "Requirement already satisfied: jupyter-server<3,>=2.4.0 in ./Keri.conda/lib/python3.11/site-packages (from notebook>=6.4.10->great-expectations==0.15.12->hsfs<3.8.0,>=3.7.0->hsfs[python]<3.8.0,>=3.7.0->hopsworks->-r requirements.txt (line 11)) (2.14.0)\n",
      "Requirement already satisfied: jupyterlab-server<3,>=2.22.1 in ./Keri.conda/lib/python3.11/site-packages (from notebook>=6.4.10->great-expectations==0.15.12->hsfs<3.8.0,>=3.7.0->hsfs[python]<3.8.0,>=3.7.0->hopsworks->-r requirements.txt (line 11)) (2.27.1)\n",
      "Requirement already satisfied: jupyterlab<4.2,>=4.1.1 in ./Keri.conda/lib/python3.11/site-packages (from notebook>=6.4.10->great-expectations==0.15.12->hsfs<3.8.0,>=3.7.0->hsfs[python]<3.8.0,>=3.7.0->hopsworks->-r requirements.txt (line 11)) (4.1.8)\n",
      "Requirement already satisfied: notebook-shim<0.3,>=0.2 in ./Keri.conda/lib/python3.11/site-packages (from notebook>=6.4.10->great-expectations==0.15.12->hsfs<3.8.0,>=3.7.0->hsfs[python]<3.8.0,>=3.7.0->hopsworks->-r requirements.txt (line 11)) (0.2.4)\n",
      "Requirement already satisfied: tornado>=6.2.0 in ./Keri.conda/lib/python3.11/site-packages (from notebook>=6.4.10->great-expectations==0.15.12->hsfs<3.8.0,>=3.7.0->hsfs[python]<3.8.0,>=3.7.0->hopsworks->-r requirements.txt (line 11)) (6.3.3)\n",
      "Requirement already satisfied: pycparser in ./Keri.conda/lib/python3.11/site-packages (from cffi>=1.12->cryptography>=3.2->great-expectations==0.15.12->hsfs<3.8.0,>=3.7.0->hsfs[python]<3.8.0,>=3.7.0->hopsworks->-r requirements.txt (line 11)) (2.22)\n",
      "Requirement already satisfied: parso<0.9.0,>=0.8.3 in ./Keri.conda/lib/python3.11/site-packages (from jedi>=0.16->Ipython>=7.16.3->great-expectations==0.15.12->hsfs<3.8.0,>=3.7.0->hsfs[python]<3.8.0,>=3.7.0->hopsworks->-r requirements.txt (line 11)) (0.8.4)\n",
      "Requirement already satisfied: platformdirs>=2.5 in ./Keri.conda/lib/python3.11/site-packages (from jupyter-core!=5.0.*,>=4.12->nbformat>=5.0->great-expectations==0.15.12->hsfs<3.8.0,>=3.7.0->hsfs[python]<3.8.0,>=3.7.0->hopsworks->-r requirements.txt (line 11)) (4.2.1)\n",
      "Requirement already satisfied: anyio>=3.1.0 in ./Keri.conda/lib/python3.11/site-packages (from jupyter-server<3,>=2.4.0->notebook>=6.4.10->great-expectations==0.15.12->hsfs<3.8.0,>=3.7.0->hsfs[python]<3.8.0,>=3.7.0->hopsworks->-r requirements.txt (line 11)) (4.3.0)\n",
      "Requirement already satisfied: argon2-cffi>=21.1 in ./Keri.conda/lib/python3.11/site-packages (from jupyter-server<3,>=2.4.0->notebook>=6.4.10->great-expectations==0.15.12->hsfs<3.8.0,>=3.7.0->hsfs[python]<3.8.0,>=3.7.0->hopsworks->-r requirements.txt (line 11)) (23.1.0)\n",
      "Requirement already satisfied: jupyter-client>=7.4.4 in ./Keri.conda/lib/python3.11/site-packages (from jupyter-server<3,>=2.4.0->notebook>=6.4.10->great-expectations==0.15.12->hsfs<3.8.0,>=3.7.0->hsfs[python]<3.8.0,>=3.7.0->hopsworks->-r requirements.txt (line 11)) (8.6.1)\n",
      "Requirement already satisfied: jupyter-events>=0.9.0 in ./Keri.conda/lib/python3.11/site-packages (from jupyter-server<3,>=2.4.0->notebook>=6.4.10->great-expectations==0.15.12->hsfs<3.8.0,>=3.7.0->hsfs[python]<3.8.0,>=3.7.0->hopsworks->-r requirements.txt (line 11)) (0.10.0)\n",
      "Requirement already satisfied: jupyter-server-terminals>=0.4.4 in ./Keri.conda/lib/python3.11/site-packages (from jupyter-server<3,>=2.4.0->notebook>=6.4.10->great-expectations==0.15.12->hsfs<3.8.0,>=3.7.0->hsfs[python]<3.8.0,>=3.7.0->hopsworks->-r requirements.txt (line 11)) (0.5.3)\n",
      "Requirement already satisfied: nbconvert>=6.4.4 in ./Keri.conda/lib/python3.11/site-packages (from jupyter-server<3,>=2.4.0->notebook>=6.4.10->great-expectations==0.15.12->hsfs<3.8.0,>=3.7.0->hsfs[python]<3.8.0,>=3.7.0->hopsworks->-r requirements.txt (line 11)) (7.16.4)\n",
      "Requirement already satisfied: overrides>=5.0 in ./Keri.conda/lib/python3.11/site-packages (from jupyter-server<3,>=2.4.0->notebook>=6.4.10->great-expectations==0.15.12->hsfs<3.8.0,>=3.7.0->hsfs[python]<3.8.0,>=3.7.0->hopsworks->-r requirements.txt (line 11)) (7.7.0)\n",
      "Requirement already satisfied: prometheus-client>=0.9 in ./Keri.conda/lib/python3.11/site-packages (from jupyter-server<3,>=2.4.0->notebook>=6.4.10->great-expectations==0.15.12->hsfs<3.8.0,>=3.7.0->hsfs[python]<3.8.0,>=3.7.0->hopsworks->-r requirements.txt (line 11)) (0.20.0)\n",
      "Requirement already satisfied: pyzmq>=24 in ./Keri.conda/lib/python3.11/site-packages (from jupyter-server<3,>=2.4.0->notebook>=6.4.10->great-expectations==0.15.12->hsfs<3.8.0,>=3.7.0->hsfs[python]<3.8.0,>=3.7.0->hopsworks->-r requirements.txt (line 11)) (25.1.2)\n",
      "Requirement already satisfied: send2trash>=1.8.2 in ./Keri.conda/lib/python3.11/site-packages (from jupyter-server<3,>=2.4.0->notebook>=6.4.10->great-expectations==0.15.12->hsfs<3.8.0,>=3.7.0->hsfs[python]<3.8.0,>=3.7.0->hopsworks->-r requirements.txt (line 11)) (1.8.3)\n",
      "Requirement already satisfied: terminado>=0.8.3 in ./Keri.conda/lib/python3.11/site-packages (from jupyter-server<3,>=2.4.0->notebook>=6.4.10->great-expectations==0.15.12->hsfs<3.8.0,>=3.7.0->hsfs[python]<3.8.0,>=3.7.0->hopsworks->-r requirements.txt (line 11)) (0.18.1)\n",
      "Requirement already satisfied: websocket-client>=1.7 in ./Keri.conda/lib/python3.11/site-packages (from jupyter-server<3,>=2.4.0->notebook>=6.4.10->great-expectations==0.15.12->hsfs<3.8.0,>=3.7.0->hsfs[python]<3.8.0,>=3.7.0->hopsworks->-r requirements.txt (line 11)) (1.8.0)\n",
      "Requirement already satisfied: async-lru>=1.0.0 in ./Keri.conda/lib/python3.11/site-packages (from jupyterlab<4.2,>=4.1.1->notebook>=6.4.10->great-expectations==0.15.12->hsfs<3.8.0,>=3.7.0->hsfs[python]<3.8.0,>=3.7.0->hopsworks->-r requirements.txt (line 11)) (2.0.4)\n",
      "Requirement already satisfied: httpx>=0.25.0 in ./Keri.conda/lib/python3.11/site-packages (from jupyterlab<4.2,>=4.1.1->notebook>=6.4.10->great-expectations==0.15.12->hsfs<3.8.0,>=3.7.0->hsfs[python]<3.8.0,>=3.7.0->hopsworks->-r requirements.txt (line 11)) (0.27.0)\n",
      "Requirement already satisfied: ipykernel>=6.5.0 in ./Keri.conda/lib/python3.11/site-packages (from jupyterlab<4.2,>=4.1.1->notebook>=6.4.10->great-expectations==0.15.12->hsfs<3.8.0,>=3.7.0->hsfs[python]<3.8.0,>=3.7.0->hopsworks->-r requirements.txt (line 11)) (6.29.3)\n",
      "Requirement already satisfied: jupyter-lsp>=2.0.0 in ./Keri.conda/lib/python3.11/site-packages (from jupyterlab<4.2,>=4.1.1->notebook>=6.4.10->great-expectations==0.15.12->hsfs<3.8.0,>=3.7.0->hsfs[python]<3.8.0,>=3.7.0->hopsworks->-r requirements.txt (line 11)) (2.2.5)\n",
      "Requirement already satisfied: babel>=2.10 in ./Keri.conda/lib/python3.11/site-packages (from jupyterlab-server<3,>=2.22.1->notebook>=6.4.10->great-expectations==0.15.12->hsfs<3.8.0,>=3.7.0->hsfs[python]<3.8.0,>=3.7.0->hopsworks->-r requirements.txt (line 11)) (2.14.0)\n",
      "Requirement already satisfied: json5>=0.9.0 in ./Keri.conda/lib/python3.11/site-packages (from jupyterlab-server<3,>=2.22.1->notebook>=6.4.10->great-expectations==0.15.12->hsfs<3.8.0,>=3.7.0->hsfs[python]<3.8.0,>=3.7.0->hopsworks->-r requirements.txt (line 11)) (0.9.25)\n",
      "Requirement already satisfied: ptyprocess>=0.5 in ./Keri.conda/lib/python3.11/site-packages (from pexpect>4.3->Ipython>=7.16.3->great-expectations==0.15.12->hsfs<3.8.0,>=3.7.0->hsfs[python]<3.8.0,>=3.7.0->hopsworks->-r requirements.txt (line 11)) (0.7.0)\n",
      "Requirement already satisfied: wcwidth in ./Keri.conda/lib/python3.11/site-packages (from prompt-toolkit<3.1.0,>=3.0.41->Ipython>=7.16.3->great-expectations==0.15.12->hsfs<3.8.0,>=3.7.0->hsfs[python]<3.8.0,>=3.7.0->hopsworks->-r requirements.txt (line 11)) (0.2.13)\n",
      "Requirement already satisfied: executing>=1.2.0 in ./Keri.conda/lib/python3.11/site-packages (from stack-data->Ipython>=7.16.3->great-expectations==0.15.12->hsfs<3.8.0,>=3.7.0->hsfs[python]<3.8.0,>=3.7.0->hopsworks->-r requirements.txt (line 11)) (2.0.1)\n",
      "Requirement already satisfied: asttokens>=2.1.0 in ./Keri.conda/lib/python3.11/site-packages (from stack-data->Ipython>=7.16.3->great-expectations==0.15.12->hsfs<3.8.0,>=3.7.0->hsfs[python]<3.8.0,>=3.7.0->hopsworks->-r requirements.txt (line 11)) (2.4.1)\n",
      "Requirement already satisfied: pure-eval in ./Keri.conda/lib/python3.11/site-packages (from stack-data->Ipython>=7.16.3->great-expectations==0.15.12->hsfs<3.8.0,>=3.7.0->hsfs[python]<3.8.0,>=3.7.0->hopsworks->-r requirements.txt (line 11)) (0.2.2)\n",
      "Requirement already satisfied: sniffio>=1.1 in ./Keri.conda/lib/python3.11/site-packages (from anyio>=3.1.0->jupyter-server<3,>=2.4.0->notebook>=6.4.10->great-expectations==0.15.12->hsfs<3.8.0,>=3.7.0->hsfs[python]<3.8.0,>=3.7.0->hopsworks->-r requirements.txt (line 11)) (1.3.1)\n",
      "Requirement already satisfied: argon2-cffi-bindings in ./Keri.conda/lib/python3.11/site-packages (from argon2-cffi>=21.1->jupyter-server<3,>=2.4.0->notebook>=6.4.10->great-expectations==0.15.12->hsfs<3.8.0,>=3.7.0->hsfs[python]<3.8.0,>=3.7.0->hopsworks->-r requirements.txt (line 11)) (21.2.0)\n",
      "Requirement already satisfied: httpcore==1.* in ./Keri.conda/lib/python3.11/site-packages (from httpx>=0.25.0->jupyterlab<4.2,>=4.1.1->notebook>=6.4.10->great-expectations==0.15.12->hsfs<3.8.0,>=3.7.0->hsfs[python]<3.8.0,>=3.7.0->hopsworks->-r requirements.txt (line 11)) (1.0.5)\n",
      "Requirement already satisfied: h11<0.15,>=0.13 in ./Keri.conda/lib/python3.11/site-packages (from httpcore==1.*->httpx>=0.25.0->jupyterlab<4.2,>=4.1.1->notebook>=6.4.10->great-expectations==0.15.12->hsfs<3.8.0,>=3.7.0->hsfs[python]<3.8.0,>=3.7.0->hopsworks->-r requirements.txt (line 11)) (0.14.0)\n",
      "Requirement already satisfied: appnope in ./Keri.conda/lib/python3.11/site-packages (from ipykernel>=6.5.0->jupyterlab<4.2,>=4.1.1->notebook>=6.4.10->great-expectations==0.15.12->hsfs<3.8.0,>=3.7.0->hsfs[python]<3.8.0,>=3.7.0->hopsworks->-r requirements.txt (line 11)) (0.1.4)\n",
      "Requirement already satisfied: comm>=0.1.1 in ./Keri.conda/lib/python3.11/site-packages (from ipykernel>=6.5.0->jupyterlab<4.2,>=4.1.1->notebook>=6.4.10->great-expectations==0.15.12->hsfs<3.8.0,>=3.7.0->hsfs[python]<3.8.0,>=3.7.0->hopsworks->-r requirements.txt (line 11)) (0.2.2)\n",
      "Requirement already satisfied: debugpy>=1.6.5 in ./Keri.conda/lib/python3.11/site-packages (from ipykernel>=6.5.0->jupyterlab<4.2,>=4.1.1->notebook>=6.4.10->great-expectations==0.15.12->hsfs<3.8.0,>=3.7.0->hsfs[python]<3.8.0,>=3.7.0->hopsworks->-r requirements.txt (line 11)) (1.6.7)\n",
      "Requirement already satisfied: nest-asyncio in ./Keri.conda/lib/python3.11/site-packages (from ipykernel>=6.5.0->jupyterlab<4.2,>=4.1.1->notebook>=6.4.10->great-expectations==0.15.12->hsfs<3.8.0,>=3.7.0->hsfs[python]<3.8.0,>=3.7.0->hopsworks->-r requirements.txt (line 11)) (1.6.0)\n",
      "Requirement already satisfied: psutil in ./Keri.conda/lib/python3.11/site-packages (from ipykernel>=6.5.0->jupyterlab<4.2,>=4.1.1->notebook>=6.4.10->great-expectations==0.15.12->hsfs<3.8.0,>=3.7.0->hsfs[python]<3.8.0,>=3.7.0->hopsworks->-r requirements.txt (line 11)) (5.9.0)\n",
      "Requirement already satisfied: python-json-logger>=2.0.4 in ./Keri.conda/lib/python3.11/site-packages (from jupyter-events>=0.9.0->jupyter-server<3,>=2.4.0->notebook>=6.4.10->great-expectations==0.15.12->hsfs<3.8.0,>=3.7.0->hsfs[python]<3.8.0,>=3.7.0->hopsworks->-r requirements.txt (line 11)) (2.0.7)\n",
      "Requirement already satisfied: pyyaml>=5.3 in ./Keri.conda/lib/python3.11/site-packages (from jupyter-events>=0.9.0->jupyter-server<3,>=2.4.0->notebook>=6.4.10->great-expectations==0.15.12->hsfs<3.8.0,>=3.7.0->hsfs[python]<3.8.0,>=3.7.0->hopsworks->-r requirements.txt (line 11)) (6.0.1)\n",
      "Requirement already satisfied: rfc3339-validator in ./Keri.conda/lib/python3.11/site-packages (from jupyter-events>=0.9.0->jupyter-server<3,>=2.4.0->notebook>=6.4.10->great-expectations==0.15.12->hsfs<3.8.0,>=3.7.0->hsfs[python]<3.8.0,>=3.7.0->hopsworks->-r requirements.txt (line 11)) (0.1.4)\n",
      "Requirement already satisfied: rfc3986-validator>=0.1.1 in ./Keri.conda/lib/python3.11/site-packages (from jupyter-events>=0.9.0->jupyter-server<3,>=2.4.0->notebook>=6.4.10->great-expectations==0.15.12->hsfs<3.8.0,>=3.7.0->hsfs[python]<3.8.0,>=3.7.0->hopsworks->-r requirements.txt (line 11)) (0.1.1)\n",
      "Requirement already satisfied: bleach!=5.0.0 in ./Keri.conda/lib/python3.11/site-packages (from nbconvert>=6.4.4->jupyter-server<3,>=2.4.0->notebook>=6.4.10->great-expectations==0.15.12->hsfs<3.8.0,>=3.7.0->hsfs[python]<3.8.0,>=3.7.0->hopsworks->-r requirements.txt (line 11)) (6.1.0)\n",
      "Requirement already satisfied: defusedxml in ./Keri.conda/lib/python3.11/site-packages (from nbconvert>=6.4.4->jupyter-server<3,>=2.4.0->notebook>=6.4.10->great-expectations==0.15.12->hsfs<3.8.0,>=3.7.0->hsfs[python]<3.8.0,>=3.7.0->hopsworks->-r requirements.txt (line 11)) (0.7.1)\n",
      "Requirement already satisfied: jupyterlab-pygments in ./Keri.conda/lib/python3.11/site-packages (from nbconvert>=6.4.4->jupyter-server<3,>=2.4.0->notebook>=6.4.10->great-expectations==0.15.12->hsfs<3.8.0,>=3.7.0->hsfs[python]<3.8.0,>=3.7.0->hopsworks->-r requirements.txt (line 11)) (0.3.0)\n",
      "Requirement already satisfied: nbclient>=0.5.0 in ./Keri.conda/lib/python3.11/site-packages (from nbconvert>=6.4.4->jupyter-server<3,>=2.4.0->notebook>=6.4.10->great-expectations==0.15.12->hsfs<3.8.0,>=3.7.0->hsfs[python]<3.8.0,>=3.7.0->hopsworks->-r requirements.txt (line 11)) (0.10.0)\n",
      "Requirement already satisfied: pandocfilters>=1.4.1 in ./Keri.conda/lib/python3.11/site-packages (from nbconvert>=6.4.4->jupyter-server<3,>=2.4.0->notebook>=6.4.10->great-expectations==0.15.12->hsfs<3.8.0,>=3.7.0->hsfs[python]<3.8.0,>=3.7.0->hopsworks->-r requirements.txt (line 11)) (1.5.1)\n",
      "Requirement already satisfied: tinycss2 in ./Keri.conda/lib/python3.11/site-packages (from nbconvert>=6.4.4->jupyter-server<3,>=2.4.0->notebook>=6.4.10->great-expectations==0.15.12->hsfs<3.8.0,>=3.7.0->hsfs[python]<3.8.0,>=3.7.0->hopsworks->-r requirements.txt (line 11)) (1.3.0)\n",
      "Requirement already satisfied: fqdn in ./Keri.conda/lib/python3.11/site-packages (from jsonschema[format-nongpl]>=4.18.0->jupyter-events>=0.9.0->jupyter-server<3,>=2.4.0->notebook>=6.4.10->great-expectations==0.15.12->hsfs<3.8.0,>=3.7.0->hsfs[python]<3.8.0,>=3.7.0->hopsworks->-r requirements.txt (line 11)) (1.5.1)\n",
      "Requirement already satisfied: isoduration in ./Keri.conda/lib/python3.11/site-packages (from jsonschema[format-nongpl]>=4.18.0->jupyter-events>=0.9.0->jupyter-server<3,>=2.4.0->notebook>=6.4.10->great-expectations==0.15.12->hsfs<3.8.0,>=3.7.0->hsfs[python]<3.8.0,>=3.7.0->hopsworks->-r requirements.txt (line 11)) (20.11.0)\n",
      "Requirement already satisfied: uri-template in ./Keri.conda/lib/python3.11/site-packages (from jsonschema[format-nongpl]>=4.18.0->jupyter-events>=0.9.0->jupyter-server<3,>=2.4.0->notebook>=6.4.10->great-expectations==0.15.12->hsfs<3.8.0,>=3.7.0->hsfs[python]<3.8.0,>=3.7.0->hopsworks->-r requirements.txt (line 11)) (1.3.0)\n",
      "Requirement already satisfied: webcolors>=1.11 in ./Keri.conda/lib/python3.11/site-packages (from jsonschema[format-nongpl]>=4.18.0->jupyter-events>=0.9.0->jupyter-server<3,>=2.4.0->notebook>=6.4.10->great-expectations==0.15.12->hsfs<3.8.0,>=3.7.0->hsfs[python]<3.8.0,>=3.7.0->hopsworks->-r requirements.txt (line 11)) (1.13)\n",
      "Requirement already satisfied: arrow>=0.15.0 in ./Keri.conda/lib/python3.11/site-packages (from isoduration->jsonschema[format-nongpl]>=4.18.0->jupyter-events>=0.9.0->jupyter-server<3,>=2.4.0->notebook>=6.4.10->great-expectations==0.15.12->hsfs<3.8.0,>=3.7.0->hsfs[python]<3.8.0,>=3.7.0->hopsworks->-r requirements.txt (line 11)) (1.3.0)\n",
      "Requirement already satisfied: types-python-dateutil>=2.8.10 in ./Keri.conda/lib/python3.11/site-packages (from arrow>=0.15.0->isoduration->jsonschema[format-nongpl]>=4.18.0->jupyter-events>=0.9.0->jupyter-server<3,>=2.4.0->notebook>=6.4.10->great-expectations==0.15.12->hsfs<3.8.0,>=3.7.0->hsfs[python]<3.8.0,>=3.7.0->hopsworks->-r requirements.txt (line 11)) (2.9.0.20240316)\n",
      "Note: you may need to restart the kernel to use updated packages.\n"
     ]
    }
   ],
   "source": [
    "pip install -r requirements.txt --quiet"
   ]
  },
  {
   "cell_type": "code",
   "execution_count": 2,
   "metadata": {
    "metadata": {}
   },
   "outputs": [
    {
     "name": "stderr",
     "output_type": "stream",
     "text": [
      "/Users/simao/Desktop/Semester_Project/Keri.conda/lib/python3.11/site-packages/tqdm/auto.py:21: TqdmWarning: IProgress not found. Please update jupyter and ipywidgets. See https://ipywidgets.readthedocs.io/en/stable/user_install.html\n",
      "  from .autonotebook import tqdm as notebook_tqdm\n"
     ]
    }
   ],
   "source": []
  },
  {
   "cell_type": "code",
   "execution_count": 3,
   "metadata": {
    "metadata": {}
   },
   "outputs": [
    {
     "name": "stdout",
     "output_type": "stream",
     "text": [
      "Connected. Call `.close()` to terminate connection gracefully.\n",
      "\n",
      "Logged in to project, explore it here https://c.app.hopsworks.ai:443/p/547994\n",
      "Connected. Call `.close()` to terminate connection gracefully.\n"
     ]
    }
   ],
   "source": [
    "project = hopsworks.login()\n",
    "\n",
    "fs = project.get_feature_store()"
   ]
  }
 ],
 "metadata": {
  "kernelspec": {
   "display_name": "Python 3",
   "language": "python",
   "name": "python3"
  },
  "language_info": {
   "codemirror_mode": {
    "name": "ipython",
    "version": 3
   },
   "file_extension": ".py",
   "mimetype": "text/x-python",
   "name": "python",
   "nbconvert_exporter": "python",
   "pygments_lexer": "ipython3",
   "version": "3.11.9"
  }
 },
 "nbformat": 4,
 "nbformat_minor": 2
}
