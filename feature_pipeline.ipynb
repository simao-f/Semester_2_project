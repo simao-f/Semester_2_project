{
 "cells": [
  {
   "cell_type": "code",
   "execution_count": 35,
   "metadata": {
    "metadata": {}
   },
   "outputs": [
    {
     "name": "stdout",
     "output_type": "stream",
     "text": [
      "Note: you may need to restart the kernel to use updated packages.\n"
     ]
    }
   ],
   "source": [
    "pip install -r requirements.txt --quiet"
   ]
  },
  {
   "cell_type": "code",
   "execution_count": 16,
   "metadata": {
    "metadata": {}
   },
   "outputs": [],
   "source": [
    "from math import radians\n",
    "\n",
    "import pandas as pd\n",
    "import numpy as np\n",
    "\n",
    "# Mute warnings\n",
    "import warnings\n",
    "warnings.filterwarnings(\"ignore\")"
   ]
  },
  {
   "cell_type": "markdown",
   "metadata": {},
   "source": [
    "Loading the data"
   ]
  },
  {
   "cell_type": "code",
   "execution_count": 17,
   "metadata": {
    "metadata": {}
   },
   "outputs": [
    {
     "data": {
      "text/html": [
       "<div>\n",
       "<style scoped>\n",
       "    .dataframe tbody tr th:only-of-type {\n",
       "        vertical-align: middle;\n",
       "    }\n",
       "\n",
       "    .dataframe tbody tr th {\n",
       "        vertical-align: top;\n",
       "    }\n",
       "\n",
       "    .dataframe thead th {\n",
       "        text-align: right;\n",
       "    }\n",
       "</style>\n",
       "<table border=\"1\" class=\"dataframe\">\n",
       "  <thead>\n",
       "    <tr style=\"text-align: right;\">\n",
       "      <th></th>\n",
       "      <th>Date</th>\n",
       "      <th>Open</th>\n",
       "      <th>High</th>\n",
       "      <th>Low</th>\n",
       "      <th>Close</th>\n",
       "      <th>Volume</th>\n",
       "      <th>Dividends</th>\n",
       "      <th>Stock Splits</th>\n",
       "    </tr>\n",
       "  </thead>\n",
       "  <tbody>\n",
       "    <tr>\n",
       "      <th>0</th>\n",
       "      <td>2010-01-04 00:00:00-05:00</td>\n",
       "      <td>6.453203</td>\n",
       "      <td>6.485555</td>\n",
       "      <td>6.421456</td>\n",
       "      <td>6.470740</td>\n",
       "      <td>493729600</td>\n",
       "      <td>0.0</td>\n",
       "      <td>0.0</td>\n",
       "    </tr>\n",
       "    <tr>\n",
       "      <th>1</th>\n",
       "      <td>2010-01-05 00:00:00-05:00</td>\n",
       "      <td>6.488582</td>\n",
       "      <td>6.518515</td>\n",
       "      <td>6.447763</td>\n",
       "      <td>6.481930</td>\n",
       "      <td>601904800</td>\n",
       "      <td>0.0</td>\n",
       "      <td>0.0</td>\n",
       "    </tr>\n",
       "    <tr>\n",
       "      <th>2</th>\n",
       "      <td>2010-01-06 00:00:00-05:00</td>\n",
       "      <td>6.481929</td>\n",
       "      <td>6.507629</td>\n",
       "      <td>6.372173</td>\n",
       "      <td>6.378825</td>\n",
       "      <td>552160000</td>\n",
       "      <td>0.0</td>\n",
       "      <td>0.0</td>\n",
       "    </tr>\n",
       "  </tbody>\n",
       "</table>\n",
       "</div>"
      ],
      "text/plain": [
       "                        Date      Open      High       Low     Close  \\\n",
       "0  2010-01-04 00:00:00-05:00  6.453203  6.485555  6.421456  6.470740   \n",
       "1  2010-01-05 00:00:00-05:00  6.488582  6.518515  6.447763  6.481930   \n",
       "2  2010-01-06 00:00:00-05:00  6.481929  6.507629  6.372173  6.378825   \n",
       "\n",
       "      Volume  Dividends  Stock Splits  \n",
       "0  493729600        0.0           0.0  \n",
       "1  601904800        0.0           0.0  \n",
       "2  552160000        0.0           0.0  "
      ]
     },
     "execution_count": 17,
     "metadata": {},
     "output_type": "execute_result"
    }
   ],
   "source": [
    "# Read the CSV file\n",
    "AAPL_df = pd.read_csv('AAPL_df.csv')\n",
    "\n",
    "# Display the first 3 rows of the DataFrame\n",
    "AAPL_df.head(3)"
   ]
  },
  {
   "cell_type": "code",
   "execution_count": 18,
   "metadata": {
    "metadata": {}
   },
   "outputs": [
    {
     "data": {
      "text/html": [
       "<div>\n",
       "<style scoped>\n",
       "    .dataframe tbody tr th:only-of-type {\n",
       "        vertical-align: middle;\n",
       "    }\n",
       "\n",
       "    .dataframe tbody tr th {\n",
       "        vertical-align: top;\n",
       "    }\n",
       "\n",
       "    .dataframe thead th {\n",
       "        text-align: right;\n",
       "    }\n",
       "</style>\n",
       "<table border=\"1\" class=\"dataframe\">\n",
       "  <thead>\n",
       "    <tr style=\"text-align: right;\">\n",
       "      <th></th>\n",
       "      <th>Date</th>\n",
       "      <th>Open</th>\n",
       "      <th>High</th>\n",
       "      <th>Low</th>\n",
       "      <th>Close</th>\n",
       "      <th>Volume</th>\n",
       "      <th>Dividends</th>\n",
       "      <th>Stock Splits</th>\n",
       "    </tr>\n",
       "  </thead>\n",
       "  <tbody>\n",
       "    <tr>\n",
       "      <th>0</th>\n",
       "      <td>2010-01-04 00:00:00-05:00</td>\n",
       "      <td>6.8125</td>\n",
       "      <td>6.8305</td>\n",
       "      <td>6.6570</td>\n",
       "      <td>6.6950</td>\n",
       "      <td>151998000</td>\n",
       "      <td>0.0</td>\n",
       "      <td>0.0</td>\n",
       "    </tr>\n",
       "    <tr>\n",
       "      <th>1</th>\n",
       "      <td>2010-01-05 00:00:00-05:00</td>\n",
       "      <td>6.6715</td>\n",
       "      <td>6.7740</td>\n",
       "      <td>6.5905</td>\n",
       "      <td>6.7345</td>\n",
       "      <td>177038000</td>\n",
       "      <td>0.0</td>\n",
       "      <td>0.0</td>\n",
       "    </tr>\n",
       "    <tr>\n",
       "      <th>2</th>\n",
       "      <td>2010-01-06 00:00:00-05:00</td>\n",
       "      <td>6.7300</td>\n",
       "      <td>6.7365</td>\n",
       "      <td>6.5825</td>\n",
       "      <td>6.6125</td>\n",
       "      <td>143576000</td>\n",
       "      <td>0.0</td>\n",
       "      <td>0.0</td>\n",
       "    </tr>\n",
       "  </tbody>\n",
       "</table>\n",
       "</div>"
      ],
      "text/plain": [
       "                        Date    Open    High     Low   Close     Volume  \\\n",
       "0  2010-01-04 00:00:00-05:00  6.8125  6.8305  6.6570  6.6950  151998000   \n",
       "1  2010-01-05 00:00:00-05:00  6.6715  6.7740  6.5905  6.7345  177038000   \n",
       "2  2010-01-06 00:00:00-05:00  6.7300  6.7365  6.5825  6.6125  143576000   \n",
       "\n",
       "   Dividends  Stock Splits  \n",
       "0        0.0           0.0  \n",
       "1        0.0           0.0  \n",
       "2        0.0           0.0  "
      ]
     },
     "execution_count": 18,
     "metadata": {},
     "output_type": "execute_result"
    }
   ],
   "source": [
    "# Read the CSV file\n",
    "AMZN_df = pd.read_csv('AMZN_df.csv')\n",
    "\n",
    "# Display the first 3 rows of the DataFrame\n",
    "AMZN_df.head(3)"
   ]
  },
  {
   "cell_type": "code",
   "execution_count": 19,
   "metadata": {
    "metadata": {}
   },
   "outputs": [
    {
     "data": {
      "text/html": [
       "<div>\n",
       "<style scoped>\n",
       "    .dataframe tbody tr th:only-of-type {\n",
       "        vertical-align: middle;\n",
       "    }\n",
       "\n",
       "    .dataframe tbody tr th {\n",
       "        vertical-align: top;\n",
       "    }\n",
       "\n",
       "    .dataframe thead th {\n",
       "        text-align: right;\n",
       "    }\n",
       "</style>\n",
       "<table border=\"1\" class=\"dataframe\">\n",
       "  <thead>\n",
       "    <tr style=\"text-align: right;\">\n",
       "      <th></th>\n",
       "      <th>Date</th>\n",
       "      <th>Open</th>\n",
       "      <th>High</th>\n",
       "      <th>Low</th>\n",
       "      <th>Close</th>\n",
       "      <th>Volume</th>\n",
       "      <th>Dividends</th>\n",
       "      <th>Stock Splits</th>\n",
       "    </tr>\n",
       "  </thead>\n",
       "  <tbody>\n",
       "    <tr>\n",
       "      <th>0</th>\n",
       "      <td>2010-01-04 00:00:00-05:00</td>\n",
       "      <td>15.615220</td>\n",
       "      <td>15.678981</td>\n",
       "      <td>15.547723</td>\n",
       "      <td>15.610239</td>\n",
       "      <td>78541293</td>\n",
       "      <td>0.0</td>\n",
       "      <td>0.0</td>\n",
       "    </tr>\n",
       "    <tr>\n",
       "      <th>1</th>\n",
       "      <td>2010-01-05 00:00:00-05:00</td>\n",
       "      <td>15.620949</td>\n",
       "      <td>15.637387</td>\n",
       "      <td>15.480475</td>\n",
       "      <td>15.541497</td>\n",
       "      <td>120638494</td>\n",
       "      <td>0.0</td>\n",
       "      <td>0.0</td>\n",
       "    </tr>\n",
       "    <tr>\n",
       "      <th>2</th>\n",
       "      <td>2010-01-06 00:00:00-05:00</td>\n",
       "      <td>15.588072</td>\n",
       "      <td>15.588072</td>\n",
       "      <td>15.102393</td>\n",
       "      <td>15.149715</td>\n",
       "      <td>159744526</td>\n",
       "      <td>0.0</td>\n",
       "      <td>0.0</td>\n",
       "    </tr>\n",
       "  </tbody>\n",
       "</table>\n",
       "</div>"
      ],
      "text/plain": [
       "                        Date       Open       High        Low      Close  \\\n",
       "0  2010-01-04 00:00:00-05:00  15.615220  15.678981  15.547723  15.610239   \n",
       "1  2010-01-05 00:00:00-05:00  15.620949  15.637387  15.480475  15.541497   \n",
       "2  2010-01-06 00:00:00-05:00  15.588072  15.588072  15.102393  15.149715   \n",
       "\n",
       "      Volume  Dividends  Stock Splits  \n",
       "0   78541293        0.0           0.0  \n",
       "1  120638494        0.0           0.0  \n",
       "2  159744526        0.0           0.0  "
      ]
     },
     "execution_count": 19,
     "metadata": {},
     "output_type": "execute_result"
    }
   ],
   "source": [
    "# Read the CSV file\n",
    "GOOG_df = pd.read_csv('GOOG_df.csv')\n",
    "\n",
    "# Display the first 3 rows of the DataFrame\n",
    "GOOG_df.head(3)"
   ]
  },
  {
   "cell_type": "code",
   "execution_count": 20,
   "metadata": {
    "metadata": {}
   },
   "outputs": [
    {
     "data": {
      "text/html": [
       "<div>\n",
       "<style scoped>\n",
       "    .dataframe tbody tr th:only-of-type {\n",
       "        vertical-align: middle;\n",
       "    }\n",
       "\n",
       "    .dataframe tbody tr th {\n",
       "        vertical-align: top;\n",
       "    }\n",
       "\n",
       "    .dataframe thead th {\n",
       "        text-align: right;\n",
       "    }\n",
       "</style>\n",
       "<table border=\"1\" class=\"dataframe\">\n",
       "  <thead>\n",
       "    <tr style=\"text-align: right;\">\n",
       "      <th></th>\n",
       "      <th>Date</th>\n",
       "      <th>Open</th>\n",
       "      <th>High</th>\n",
       "      <th>Low</th>\n",
       "      <th>Close</th>\n",
       "      <th>Volume</th>\n",
       "      <th>Dividends</th>\n",
       "      <th>Stock Splits</th>\n",
       "    </tr>\n",
       "  </thead>\n",
       "  <tbody>\n",
       "    <tr>\n",
       "      <th>0</th>\n",
       "      <td>2012-05-18 00:00:00-04:00</td>\n",
       "      <td>42.005431</td>\n",
       "      <td>44.952305</td>\n",
       "      <td>37.959724</td>\n",
       "      <td>38.189480</td>\n",
       "      <td>573576400</td>\n",
       "      <td>0.0</td>\n",
       "      <td>0.0</td>\n",
       "    </tr>\n",
       "    <tr>\n",
       "      <th>1</th>\n",
       "      <td>2012-05-21 00:00:00-04:00</td>\n",
       "      <td>36.491281</td>\n",
       "      <td>36.621144</td>\n",
       "      <td>32.965024</td>\n",
       "      <td>33.993931</td>\n",
       "      <td>168192700</td>\n",
       "      <td>0.0</td>\n",
       "      <td>0.0</td>\n",
       "    </tr>\n",
       "    <tr>\n",
       "      <th>2</th>\n",
       "      <td>2012-05-22 00:00:00-04:00</td>\n",
       "      <td>32.575438</td>\n",
       "      <td>33.554399</td>\n",
       "      <td>30.907208</td>\n",
       "      <td>30.967144</td>\n",
       "      <td>101786600</td>\n",
       "      <td>0.0</td>\n",
       "      <td>0.0</td>\n",
       "    </tr>\n",
       "  </tbody>\n",
       "</table>\n",
       "</div>"
      ],
      "text/plain": [
       "                        Date       Open       High        Low      Close  \\\n",
       "0  2012-05-18 00:00:00-04:00  42.005431  44.952305  37.959724  38.189480   \n",
       "1  2012-05-21 00:00:00-04:00  36.491281  36.621144  32.965024  33.993931   \n",
       "2  2012-05-22 00:00:00-04:00  32.575438  33.554399  30.907208  30.967144   \n",
       "\n",
       "      Volume  Dividends  Stock Splits  \n",
       "0  573576400        0.0           0.0  \n",
       "1  168192700        0.0           0.0  \n",
       "2  101786600        0.0           0.0  "
      ]
     },
     "execution_count": 20,
     "metadata": {},
     "output_type": "execute_result"
    }
   ],
   "source": [
    "# Read the CSV file\n",
    "META_df = pd.read_csv('META_df.csv')\n",
    "\n",
    "# Display the first 3 rows of the DataFrame\n",
    "META_df.head(3)"
   ]
  },
  {
   "cell_type": "code",
   "execution_count": 21,
   "metadata": {
    "metadata": {}
   },
   "outputs": [
    {
     "data": {
      "text/html": [
       "<div>\n",
       "<style scoped>\n",
       "    .dataframe tbody tr th:only-of-type {\n",
       "        vertical-align: middle;\n",
       "    }\n",
       "\n",
       "    .dataframe tbody tr th {\n",
       "        vertical-align: top;\n",
       "    }\n",
       "\n",
       "    .dataframe thead th {\n",
       "        text-align: right;\n",
       "    }\n",
       "</style>\n",
       "<table border=\"1\" class=\"dataframe\">\n",
       "  <thead>\n",
       "    <tr style=\"text-align: right;\">\n",
       "      <th></th>\n",
       "      <th>Date</th>\n",
       "      <th>Open</th>\n",
       "      <th>High</th>\n",
       "      <th>Low</th>\n",
       "      <th>Close</th>\n",
       "      <th>Volume</th>\n",
       "      <th>Dividends</th>\n",
       "      <th>Stock Splits</th>\n",
       "    </tr>\n",
       "  </thead>\n",
       "  <tbody>\n",
       "    <tr>\n",
       "      <th>0</th>\n",
       "      <td>2010-01-04 00:00:00-05:00</td>\n",
       "      <td>23.181749</td>\n",
       "      <td>23.545147</td>\n",
       "      <td>23.159037</td>\n",
       "      <td>23.431585</td>\n",
       "      <td>38409100</td>\n",
       "      <td>0.0</td>\n",
       "      <td>0.0</td>\n",
       "    </tr>\n",
       "    <tr>\n",
       "      <th>1</th>\n",
       "      <td>2010-01-05 00:00:00-05:00</td>\n",
       "      <td>23.355878</td>\n",
       "      <td>23.545148</td>\n",
       "      <td>23.196891</td>\n",
       "      <td>23.439156</td>\n",
       "      <td>49749600</td>\n",
       "      <td>0.0</td>\n",
       "      <td>0.0</td>\n",
       "    </tr>\n",
       "    <tr>\n",
       "      <th>2</th>\n",
       "      <td>2010-01-06 00:00:00-05:00</td>\n",
       "      <td>23.378592</td>\n",
       "      <td>23.530009</td>\n",
       "      <td>23.106045</td>\n",
       "      <td>23.295315</td>\n",
       "      <td>58182400</td>\n",
       "      <td>0.0</td>\n",
       "      <td>0.0</td>\n",
       "    </tr>\n",
       "  </tbody>\n",
       "</table>\n",
       "</div>"
      ],
      "text/plain": [
       "                        Date       Open       High        Low      Close  \\\n",
       "0  2010-01-04 00:00:00-05:00  23.181749  23.545147  23.159037  23.431585   \n",
       "1  2010-01-05 00:00:00-05:00  23.355878  23.545148  23.196891  23.439156   \n",
       "2  2010-01-06 00:00:00-05:00  23.378592  23.530009  23.106045  23.295315   \n",
       "\n",
       "     Volume  Dividends  Stock Splits  \n",
       "0  38409100        0.0           0.0  \n",
       "1  49749600        0.0           0.0  \n",
       "2  58182400        0.0           0.0  "
      ]
     },
     "execution_count": 21,
     "metadata": {},
     "output_type": "execute_result"
    }
   ],
   "source": [
    "# Read the CSV file\n",
    "MSFT_df = pd.read_csv('MSFT_df.csv')\n",
    "\n",
    "# Display the first 3 rows of the DataFrame\n",
    "MSFT_df.head(3)"
   ]
  },
  {
   "cell_type": "code",
   "execution_count": 22,
   "metadata": {
    "metadata": {}
   },
   "outputs": [
    {
     "data": {
      "text/html": [
       "<div>\n",
       "<style scoped>\n",
       "    .dataframe tbody tr th:only-of-type {\n",
       "        vertical-align: middle;\n",
       "    }\n",
       "\n",
       "    .dataframe tbody tr th {\n",
       "        vertical-align: top;\n",
       "    }\n",
       "\n",
       "    .dataframe thead th {\n",
       "        text-align: right;\n",
       "    }\n",
       "</style>\n",
       "<table border=\"1\" class=\"dataframe\">\n",
       "  <thead>\n",
       "    <tr style=\"text-align: right;\">\n",
       "      <th></th>\n",
       "      <th>Date</th>\n",
       "      <th>Open</th>\n",
       "      <th>High</th>\n",
       "      <th>Low</th>\n",
       "      <th>Close</th>\n",
       "      <th>Volume</th>\n",
       "      <th>Dividends</th>\n",
       "      <th>Stock Splits</th>\n",
       "    </tr>\n",
       "  </thead>\n",
       "  <tbody>\n",
       "    <tr>\n",
       "      <th>0</th>\n",
       "      <td>2010-01-04 00:00:00-05:00</td>\n",
       "      <td>4.244816</td>\n",
       "      <td>4.270042</td>\n",
       "      <td>4.153086</td>\n",
       "      <td>4.240230</td>\n",
       "      <td>80020400</td>\n",
       "      <td>0.0</td>\n",
       "      <td>0.0</td>\n",
       "    </tr>\n",
       "    <tr>\n",
       "      <th>1</th>\n",
       "      <td>2010-01-05 00:00:00-05:00</td>\n",
       "      <td>4.224176</td>\n",
       "      <td>4.348012</td>\n",
       "      <td>4.224176</td>\n",
       "      <td>4.302147</td>\n",
       "      <td>72864800</td>\n",
       "      <td>0.0</td>\n",
       "      <td>0.0</td>\n",
       "    </tr>\n",
       "    <tr>\n",
       "      <th>2</th>\n",
       "      <td>2010-01-06 00:00:00-05:00</td>\n",
       "      <td>4.299855</td>\n",
       "      <td>4.338841</td>\n",
       "      <td>4.258577</td>\n",
       "      <td>4.329668</td>\n",
       "      <td>64916800</td>\n",
       "      <td>0.0</td>\n",
       "      <td>0.0</td>\n",
       "    </tr>\n",
       "  </tbody>\n",
       "</table>\n",
       "</div>"
      ],
      "text/plain": [
       "                        Date      Open      High       Low     Close  \\\n",
       "0  2010-01-04 00:00:00-05:00  4.244816  4.270042  4.153086  4.240230   \n",
       "1  2010-01-05 00:00:00-05:00  4.224176  4.348012  4.224176  4.302147   \n",
       "2  2010-01-06 00:00:00-05:00  4.299855  4.338841  4.258577  4.329668   \n",
       "\n",
       "     Volume  Dividends  Stock Splits  \n",
       "0  80020400        0.0           0.0  \n",
       "1  72864800        0.0           0.0  \n",
       "2  64916800        0.0           0.0  "
      ]
     },
     "execution_count": 22,
     "metadata": {},
     "output_type": "execute_result"
    }
   ],
   "source": [
    "# Read the CSV file\n",
    "NVDA_df = pd.read_csv('NVDA_df.csv')\n",
    "\n",
    "# Display the first 3 rows of the DataFrame\n",
    "NVDA_df.head(3)"
   ]
  },
  {
   "cell_type": "code",
   "execution_count": 23,
   "metadata": {
    "metadata": {}
   },
   "outputs": [
    {
     "data": {
      "text/html": [
       "<div>\n",
       "<style scoped>\n",
       "    .dataframe tbody tr th:only-of-type {\n",
       "        vertical-align: middle;\n",
       "    }\n",
       "\n",
       "    .dataframe tbody tr th {\n",
       "        vertical-align: top;\n",
       "    }\n",
       "\n",
       "    .dataframe thead th {\n",
       "        text-align: right;\n",
       "    }\n",
       "</style>\n",
       "<table border=\"1\" class=\"dataframe\">\n",
       "  <thead>\n",
       "    <tr style=\"text-align: right;\">\n",
       "      <th></th>\n",
       "      <th>Date</th>\n",
       "      <th>Open</th>\n",
       "      <th>High</th>\n",
       "      <th>Low</th>\n",
       "      <th>Close</th>\n",
       "      <th>Volume</th>\n",
       "      <th>Dividends</th>\n",
       "      <th>Stock Splits</th>\n",
       "    </tr>\n",
       "  </thead>\n",
       "  <tbody>\n",
       "    <tr>\n",
       "      <th>0</th>\n",
       "      <td>2010-06-29 00:00:00-04:00</td>\n",
       "      <td>1.266667</td>\n",
       "      <td>1.666667</td>\n",
       "      <td>1.169333</td>\n",
       "      <td>1.592667</td>\n",
       "      <td>281494500</td>\n",
       "      <td>0.0</td>\n",
       "      <td>0.0</td>\n",
       "    </tr>\n",
       "    <tr>\n",
       "      <th>1</th>\n",
       "      <td>2010-06-30 00:00:00-04:00</td>\n",
       "      <td>1.719333</td>\n",
       "      <td>2.028000</td>\n",
       "      <td>1.553333</td>\n",
       "      <td>1.588667</td>\n",
       "      <td>257806500</td>\n",
       "      <td>0.0</td>\n",
       "      <td>0.0</td>\n",
       "    </tr>\n",
       "    <tr>\n",
       "      <th>2</th>\n",
       "      <td>2010-07-01 00:00:00-04:00</td>\n",
       "      <td>1.666667</td>\n",
       "      <td>1.728000</td>\n",
       "      <td>1.351333</td>\n",
       "      <td>1.464000</td>\n",
       "      <td>123282000</td>\n",
       "      <td>0.0</td>\n",
       "      <td>0.0</td>\n",
       "    </tr>\n",
       "  </tbody>\n",
       "</table>\n",
       "</div>"
      ],
      "text/plain": [
       "                        Date      Open      High       Low     Close  \\\n",
       "0  2010-06-29 00:00:00-04:00  1.266667  1.666667  1.169333  1.592667   \n",
       "1  2010-06-30 00:00:00-04:00  1.719333  2.028000  1.553333  1.588667   \n",
       "2  2010-07-01 00:00:00-04:00  1.666667  1.728000  1.351333  1.464000   \n",
       "\n",
       "      Volume  Dividends  Stock Splits  \n",
       "0  281494500        0.0           0.0  \n",
       "1  257806500        0.0           0.0  \n",
       "2  123282000        0.0           0.0  "
      ]
     },
     "execution_count": 23,
     "metadata": {},
     "output_type": "execute_result"
    }
   ],
   "source": [
    "# Read the CSV file\n",
    "TSLA_df = pd.read_csv('TSLA_df.csv')\n",
    "\n",
    "# Display the first 3 rows of the DataFrame\n",
    "TSLA_df.head(3)"
   ]
  },
  {
   "cell_type": "code",
   "execution_count": 33,
   "metadata": {
    "metadata": {}
   },
   "outputs": [
    {
     "ename": "TypeError",
     "evalue": "int() argument must be a string, a bytes-like object or a real number, not 'Timestamp'",
     "output_type": "error",
     "traceback": [
      "\u001b[0;31m---------------------------------------------------------------------------\u001b[0m",
      "\u001b[0;31mTypeError\u001b[0m                                 Traceback (most recent call last)",
      "Cell \u001b[0;32mIn[33], line 2\u001b[0m\n\u001b[1;32m      1\u001b[0m \u001b[38;5;66;03m# convert the date column to epoch int eg. 2010-06-29 00:00:00-04:00 to 1277769600\u001b[39;00m\n\u001b[0;32m----> 2\u001b[0m \u001b[38;5;28;43mint\u001b[39;49m\u001b[43m(\u001b[49m\u001b[43mTSLA_df\u001b[49m\u001b[43m[\u001b[49m\u001b[38;5;124;43m'\u001b[39;49m\u001b[38;5;124;43mDate\u001b[39;49m\u001b[38;5;124;43m'\u001b[39;49m\u001b[43m]\u001b[49m\u001b[43m[\u001b[49m\u001b[38;5;241;43m0\u001b[39;49m\u001b[43m]\u001b[49m\u001b[43m)\u001b[49m\n",
      "\u001b[0;31mTypeError\u001b[0m: int() argument must be a string, a bytes-like object or a real number, not 'Timestamp'"
     ]
    }
   ],
   "source": [
    "# convert the date column to epoch int eg. 2010-06-29 00:00:00-04:00 to 1277769600\n",
    "TSLA_df['Date'] = pd.to_datetime(TSLA_df['Date'])\n"
   ]
  },
  {
   "cell_type": "code",
   "execution_count": 34,
   "metadata": {
    "metadata": {}
   },
   "outputs": [
    {
     "data": {
      "text/plain": [
       "pandas._libs.tslibs.timestamps.Timestamp"
      ]
     },
     "execution_count": 34,
     "metadata": {},
     "output_type": "execute_result"
    }
   ],
   "source": [
    "# pandas._libs.tslibs.timestamps.Timestamp to int\n",
    "TSLA_df['Date'] = TSLA_df['Date'].astype(np.int64)"
   ]
  },
  {
   "cell_type": "markdown",
   "metadata": {},
   "source": [
    "Feature Engineering"
   ]
  },
  {
   "cell_type": "code",
   "execution_count": 24,
   "metadata": {
    "metadata": {}
   },
   "outputs": [
    {
     "ename": "KeyError",
     "evalue": "\"['time_zone'] not found in axis\"",
     "output_type": "error",
     "traceback": [
      "\u001b[0;31m---------------------------------------------------------------------------\u001b[0m",
      "\u001b[0;31mKeyError\u001b[0m                                  Traceback (most recent call last)",
      "Cell \u001b[0;32mIn[24], line 2\u001b[0m\n\u001b[1;32m      1\u001b[0m \u001b[38;5;66;03m#Drop time zone from all DataFrames \u001b[39;00m\n\u001b[0;32m----> 2\u001b[0m AAPL_df \u001b[38;5;241m=\u001b[39m \u001b[43mAAPL_df\u001b[49m\u001b[38;5;241;43m.\u001b[39;49m\u001b[43mdrop\u001b[49m\u001b[43m(\u001b[49m\u001b[43mcolumns\u001b[49m\u001b[38;5;241;43m=\u001b[39;49m\u001b[43m[\u001b[49m\u001b[38;5;124;43m'\u001b[39;49m\u001b[38;5;124;43mtime_zone\u001b[39;49m\u001b[38;5;124;43m'\u001b[39;49m\u001b[43m]\u001b[49m\u001b[43m)\u001b[49m\n",
      "File \u001b[0;32m~/Desktop/Semester_Project/Keri.conda/lib/python3.11/site-packages/pandas/core/frame.py:5581\u001b[0m, in \u001b[0;36mdrop\u001b[0;34m(self, labels, axis, index, columns, level, inplace, errors)\u001b[0m\n\u001b[1;32m   5572\u001b[0m \u001b[38;5;28;01mdef\u001b[39;00m \u001b[38;5;21m_replace_columnwise\u001b[39m(\n\u001b[1;32m   5573\u001b[0m     \u001b[38;5;28mself\u001b[39m, mapping: \u001b[38;5;28mdict\u001b[39m[Hashable, \u001b[38;5;28mtuple\u001b[39m[Any, Any]], inplace: \u001b[38;5;28mbool\u001b[39m, regex\n\u001b[1;32m   5574\u001b[0m ):\n\u001b[1;32m   5575\u001b[0m \u001b[38;5;250m    \u001b[39m\u001b[38;5;124;03m\"\"\"\u001b[39;00m\n\u001b[1;32m   5576\u001b[0m \u001b[38;5;124;03m    Dispatch to Series.replace column-wise.\u001b[39;00m\n\u001b[1;32m   5577\u001b[0m \n\u001b[1;32m   5578\u001b[0m \u001b[38;5;124;03m    Parameters\u001b[39;00m\n\u001b[1;32m   5579\u001b[0m \u001b[38;5;124;03m    ----------\u001b[39;00m\n\u001b[1;32m   5580\u001b[0m \u001b[38;5;124;03m    mapping : dict\u001b[39;00m\n\u001b[0;32m-> 5581\u001b[0m \u001b[38;5;124;03m        of the form {col: (target, value)}\u001b[39;00m\n\u001b[1;32m   5582\u001b[0m \u001b[38;5;124;03m    inplace : bool\u001b[39;00m\n\u001b[1;32m   5583\u001b[0m \u001b[38;5;124;03m    regex : bool or same types as `to_replace` in DataFrame.replace\u001b[39;00m\n\u001b[1;32m   5584\u001b[0m \n\u001b[1;32m   5585\u001b[0m \u001b[38;5;124;03m    Returns\u001b[39;00m\n\u001b[1;32m   5586\u001b[0m \u001b[38;5;124;03m    -------\u001b[39;00m\n\u001b[1;32m   5587\u001b[0m \u001b[38;5;124;03m    DataFrame or None\u001b[39;00m\n\u001b[1;32m   5588\u001b[0m \u001b[38;5;124;03m    \"\"\"\u001b[39;00m\n\u001b[1;32m   5589\u001b[0m     \u001b[38;5;66;03m# Operate column-wise\u001b[39;00m\n\u001b[1;32m   5590\u001b[0m     res \u001b[38;5;241m=\u001b[39m \u001b[38;5;28mself\u001b[39m \u001b[38;5;28;01mif\u001b[39;00m inplace \u001b[38;5;28;01melse\u001b[39;00m \u001b[38;5;28mself\u001b[39m\u001b[38;5;241m.\u001b[39mcopy(deep\u001b[38;5;241m=\u001b[39m\u001b[38;5;28;01mNone\u001b[39;00m)\n",
      "File \u001b[0;32m~/Desktop/Semester_Project/Keri.conda/lib/python3.11/site-packages/pandas/core/generic.py:4788\u001b[0m, in \u001b[0;36mdrop\u001b[0;34m(self, labels, axis, index, columns, level, inplace, errors)\u001b[0m\n\u001b[1;32m   4784\u001b[0m     \u001b[38;5;28;01mif\u001b[39;00m \u001b[38;5;28misinstance\u001b[39m(mask\u001b[38;5;241m.\u001b[39mdtype, ExtensionDtype):\n\u001b[1;32m   4785\u001b[0m         \u001b[38;5;66;03m# GH#45860\u001b[39;00m\n\u001b[1;32m   4786\u001b[0m         mask \u001b[38;5;241m=\u001b[39m mask\u001b[38;5;241m.\u001b[39mto_numpy(dtype\u001b[38;5;241m=\u001b[39m\u001b[38;5;28mbool\u001b[39m)\n\u001b[0;32m-> 4788\u001b[0m     indexer \u001b[38;5;241m=\u001b[39m mask\u001b[38;5;241m.\u001b[39mnonzero()[\u001b[38;5;241m0\u001b[39m]\n\u001b[1;32m   4789\u001b[0m     new_axis \u001b[38;5;241m=\u001b[39m axis\u001b[38;5;241m.\u001b[39mtake(indexer)\n\u001b[1;32m   4791\u001b[0m bm_axis \u001b[38;5;241m=\u001b[39m \u001b[38;5;28mself\u001b[39m\u001b[38;5;241m.\u001b[39mndim \u001b[38;5;241m-\u001b[39m axis_num \u001b[38;5;241m-\u001b[39m \u001b[38;5;241m1\u001b[39m\n",
      "File \u001b[0;32m~/Desktop/Semester_Project/Keri.conda/lib/python3.11/site-packages/pandas/core/generic.py:4830\u001b[0m, in \u001b[0;36m_drop_axis\u001b[0;34m(self, labels, axis, level, errors, only_slice)\u001b[0m\n\u001b[1;32m   4824\u001b[0m \u001b[38;5;129m@final\u001b[39m\n\u001b[1;32m   4825\u001b[0m \u001b[38;5;28;01mdef\u001b[39;00m \u001b[38;5;21madd_prefix\u001b[39m(\u001b[38;5;28mself\u001b[39m, prefix: \u001b[38;5;28mstr\u001b[39m, axis: Axis \u001b[38;5;241m|\u001b[39m \u001b[38;5;28;01mNone\u001b[39;00m \u001b[38;5;241m=\u001b[39m \u001b[38;5;28;01mNone\u001b[39;00m) \u001b[38;5;241m-\u001b[39m\u001b[38;5;241m>\u001b[39m Self:\n\u001b[1;32m   4826\u001b[0m \u001b[38;5;250m    \u001b[39m\u001b[38;5;124;03m\"\"\"\u001b[39;00m\n\u001b[1;32m   4827\u001b[0m \u001b[38;5;124;03m    Prefix labels with string `prefix`.\u001b[39;00m\n\u001b[1;32m   4828\u001b[0m \n\u001b[1;32m   4829\u001b[0m \u001b[38;5;124;03m    For Series, the row labels are prefixed.\u001b[39;00m\n\u001b[0;32m-> 4830\u001b[0m \u001b[38;5;124;03m    For DataFrame, the column labels are prefixed.\u001b[39;00m\n\u001b[1;32m   4831\u001b[0m \n\u001b[1;32m   4832\u001b[0m \u001b[38;5;124;03m    Parameters\u001b[39;00m\n\u001b[1;32m   4833\u001b[0m \u001b[38;5;124;03m    ----------\u001b[39;00m\n\u001b[1;32m   4834\u001b[0m \u001b[38;5;124;03m    prefix : str\u001b[39;00m\n\u001b[1;32m   4835\u001b[0m \u001b[38;5;124;03m        The string to add before each label.\u001b[39;00m\n\u001b[1;32m   4836\u001b[0m \u001b[38;5;124;03m    axis : {0 or 'index', 1 or 'columns', None}, default None\u001b[39;00m\n\u001b[1;32m   4837\u001b[0m \u001b[38;5;124;03m        Axis to add prefix on\u001b[39;00m\n\u001b[1;32m   4838\u001b[0m \n\u001b[1;32m   4839\u001b[0m \u001b[38;5;124;03m        .. versionadded:: 2.0.0\u001b[39;00m\n\u001b[1;32m   4840\u001b[0m \n\u001b[1;32m   4841\u001b[0m \u001b[38;5;124;03m    Returns\u001b[39;00m\n\u001b[1;32m   4842\u001b[0m \u001b[38;5;124;03m    -------\u001b[39;00m\n\u001b[1;32m   4843\u001b[0m \u001b[38;5;124;03m    Series or DataFrame\u001b[39;00m\n\u001b[1;32m   4844\u001b[0m \u001b[38;5;124;03m        New Series or DataFrame with updated labels.\u001b[39;00m\n\u001b[1;32m   4845\u001b[0m \n\u001b[1;32m   4846\u001b[0m \u001b[38;5;124;03m    See Also\u001b[39;00m\n\u001b[1;32m   4847\u001b[0m \u001b[38;5;124;03m    --------\u001b[39;00m\n\u001b[1;32m   4848\u001b[0m \u001b[38;5;124;03m    Series.add_suffix: Suffix row labels with string `suffix`.\u001b[39;00m\n\u001b[1;32m   4849\u001b[0m \u001b[38;5;124;03m    DataFrame.add_suffix: Suffix column labels with string `suffix`.\u001b[39;00m\n\u001b[1;32m   4850\u001b[0m \n\u001b[1;32m   4851\u001b[0m \u001b[38;5;124;03m    Examples\u001b[39;00m\n\u001b[1;32m   4852\u001b[0m \u001b[38;5;124;03m    --------\u001b[39;00m\n\u001b[1;32m   4853\u001b[0m \u001b[38;5;124;03m    >>> s = pd.Series([1, 2, 3, 4])\u001b[39;00m\n\u001b[1;32m   4854\u001b[0m \u001b[38;5;124;03m    >>> s\u001b[39;00m\n\u001b[1;32m   4855\u001b[0m \u001b[38;5;124;03m    0    1\u001b[39;00m\n\u001b[1;32m   4856\u001b[0m \u001b[38;5;124;03m    1    2\u001b[39;00m\n\u001b[1;32m   4857\u001b[0m \u001b[38;5;124;03m    2    3\u001b[39;00m\n\u001b[1;32m   4858\u001b[0m \u001b[38;5;124;03m    3    4\u001b[39;00m\n\u001b[1;32m   4859\u001b[0m \u001b[38;5;124;03m    dtype: int64\u001b[39;00m\n\u001b[1;32m   4860\u001b[0m \n\u001b[1;32m   4861\u001b[0m \u001b[38;5;124;03m    >>> s.add_prefix('item_')\u001b[39;00m\n\u001b[1;32m   4862\u001b[0m \u001b[38;5;124;03m    item_0    1\u001b[39;00m\n\u001b[1;32m   4863\u001b[0m \u001b[38;5;124;03m    item_1    2\u001b[39;00m\n\u001b[1;32m   4864\u001b[0m \u001b[38;5;124;03m    item_2    3\u001b[39;00m\n\u001b[1;32m   4865\u001b[0m \u001b[38;5;124;03m    item_3    4\u001b[39;00m\n\u001b[1;32m   4866\u001b[0m \u001b[38;5;124;03m    dtype: int64\u001b[39;00m\n\u001b[1;32m   4867\u001b[0m \n\u001b[1;32m   4868\u001b[0m \u001b[38;5;124;03m    >>> df = pd.DataFrame({'A': [1, 2, 3, 4], 'B': [3, 4, 5, 6]})\u001b[39;00m\n\u001b[1;32m   4869\u001b[0m \u001b[38;5;124;03m    >>> df\u001b[39;00m\n\u001b[1;32m   4870\u001b[0m \u001b[38;5;124;03m       A  B\u001b[39;00m\n\u001b[1;32m   4871\u001b[0m \u001b[38;5;124;03m    0  1  3\u001b[39;00m\n\u001b[1;32m   4872\u001b[0m \u001b[38;5;124;03m    1  2  4\u001b[39;00m\n\u001b[1;32m   4873\u001b[0m \u001b[38;5;124;03m    2  3  5\u001b[39;00m\n\u001b[1;32m   4874\u001b[0m \u001b[38;5;124;03m    3  4  6\u001b[39;00m\n\u001b[1;32m   4875\u001b[0m \n\u001b[1;32m   4876\u001b[0m \u001b[38;5;124;03m    >>> df.add_prefix('col_')\u001b[39;00m\n\u001b[1;32m   4877\u001b[0m \u001b[38;5;124;03m         col_A  col_B\u001b[39;00m\n\u001b[1;32m   4878\u001b[0m \u001b[38;5;124;03m    0       1       3\u001b[39;00m\n\u001b[1;32m   4879\u001b[0m \u001b[38;5;124;03m    1       2       4\u001b[39;00m\n\u001b[1;32m   4880\u001b[0m \u001b[38;5;124;03m    2       3       5\u001b[39;00m\n\u001b[1;32m   4881\u001b[0m \u001b[38;5;124;03m    3       4       6\u001b[39;00m\n\u001b[1;32m   4882\u001b[0m \u001b[38;5;124;03m    \"\"\"\u001b[39;00m\n\u001b[1;32m   4883\u001b[0m     f \u001b[38;5;241m=\u001b[39m \u001b[38;5;28;01mlambda\u001b[39;00m x: \u001b[38;5;124mf\u001b[39m\u001b[38;5;124m\"\u001b[39m\u001b[38;5;132;01m{\u001b[39;00mprefix\u001b[38;5;132;01m}\u001b[39;00m\u001b[38;5;132;01m{\u001b[39;00mx\u001b[38;5;132;01m}\u001b[39;00m\u001b[38;5;124m\"\u001b[39m\n\u001b[1;32m   4885\u001b[0m     axis_name \u001b[38;5;241m=\u001b[39m \u001b[38;5;28mself\u001b[39m\u001b[38;5;241m.\u001b[39m_info_axis_name\n",
      "File \u001b[0;32m~/Desktop/Semester_Project/Keri.conda/lib/python3.11/site-packages/pandas/core/indexes/base.py:7070\u001b[0m, in \u001b[0;36mdrop\u001b[0;34m(self, labels, errors)\u001b[0m\n\u001b[1;32m   7064\u001b[0m \u001b[38;5;28;01mdef\u001b[39;00m \u001b[38;5;21mround\u001b[39m(\u001b[38;5;28mself\u001b[39m, decimals: \u001b[38;5;28mint\u001b[39m \u001b[38;5;241m=\u001b[39m \u001b[38;5;241m0\u001b[39m):\n\u001b[1;32m   7065\u001b[0m \u001b[38;5;250m    \u001b[39m\u001b[38;5;124;03m\"\"\"\u001b[39;00m\n\u001b[1;32m   7066\u001b[0m \u001b[38;5;124;03m    Round each value in the Index to the given number of decimals.\u001b[39;00m\n\u001b[1;32m   7067\u001b[0m \n\u001b[1;32m   7068\u001b[0m \u001b[38;5;124;03m    Parameters\u001b[39;00m\n\u001b[1;32m   7069\u001b[0m \u001b[38;5;124;03m    ----------\u001b[39;00m\n\u001b[0;32m-> 7070\u001b[0m \u001b[38;5;124;03m    decimals : int, optional\u001b[39;00m\n\u001b[1;32m   7071\u001b[0m \u001b[38;5;124;03m        Number of decimal places to round to. If decimals is negative,\u001b[39;00m\n\u001b[1;32m   7072\u001b[0m \u001b[38;5;124;03m        it specifies the number of positions to the left of the decimal point.\u001b[39;00m\n\u001b[1;32m   7073\u001b[0m \n\u001b[1;32m   7074\u001b[0m \u001b[38;5;124;03m    Returns\u001b[39;00m\n\u001b[1;32m   7075\u001b[0m \u001b[38;5;124;03m    -------\u001b[39;00m\n\u001b[1;32m   7076\u001b[0m \u001b[38;5;124;03m    Index\u001b[39;00m\n\u001b[1;32m   7077\u001b[0m \u001b[38;5;124;03m        A new Index with the rounded values.\u001b[39;00m\n\u001b[1;32m   7078\u001b[0m \n\u001b[1;32m   7079\u001b[0m \u001b[38;5;124;03m    Examples\u001b[39;00m\n\u001b[1;32m   7080\u001b[0m \u001b[38;5;124;03m    --------\u001b[39;00m\n\u001b[1;32m   7081\u001b[0m \u001b[38;5;124;03m    >>> import pandas as pd\u001b[39;00m\n\u001b[1;32m   7082\u001b[0m \u001b[38;5;124;03m    >>> idx = pd.Index([10.1234, 20.5678, 30.9123, 40.4567, 50.7890])\u001b[39;00m\n\u001b[1;32m   7083\u001b[0m \u001b[38;5;124;03m    >>> idx.round(decimals=2)\u001b[39;00m\n\u001b[1;32m   7084\u001b[0m \u001b[38;5;124;03m    Index([10.12, 20.57, 30.91, 40.46, 50.79], dtype='float64')\u001b[39;00m\n\u001b[1;32m   7085\u001b[0m \n\u001b[1;32m   7086\u001b[0m \u001b[38;5;124;03m    \"\"\"\u001b[39;00m\n\u001b[1;32m   7087\u001b[0m     \u001b[38;5;28;01mreturn\u001b[39;00m \u001b[38;5;28mself\u001b[39m\u001b[38;5;241m.\u001b[39m_constructor(\u001b[38;5;28mself\u001b[39m\u001b[38;5;241m.\u001b[39mto_series()\u001b[38;5;241m.\u001b[39mround(decimals))\n",
      "\u001b[0;31mKeyError\u001b[0m: \"['time_zone'] not found in axis\""
     ]
    }
   ],
   "source": [
    "#Drop time zone from all DataFrames \n",
    "AAPL_df = AAPL_df.drop(columns=['time_zone'])\n"
   ]
  }
 ],
 "metadata": {
  "kernelspec": {
   "display_name": "Python 3",
   "language": "python",
   "name": "python3"
  },
  "language_info": {
   "codemirror_mode": {
    "name": "ipython",
    "version": 3
   },
   "file_extension": ".py",
   "mimetype": "text/x-python",
   "name": "python",
   "nbconvert_exporter": "python",
   "pygments_lexer": "ipython3",
   "version": "3.11.9"
  }
 },
 "nbformat": 4,
 "nbformat_minor": 2
}
